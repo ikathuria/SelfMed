{
 "cells": [
  {
   "cell_type": "code",
   "execution_count": 6,
   "id": "53f7a7a9",
   "metadata": {},
   "outputs": [],
   "source": [
    "import os\n",
    "import time\n",
    "import pandas as pd\n",
    "from tqdm import tqdm\n",
    "\n",
    "from selenium import webdriver\n",
    "from selenium.webdriver.common.by import By\n",
    "from selenium.webdriver.chrome.options import Options\n",
    "\n",
    "from webdriver_manager.chrome import ChromeDriverManager"
   ]
  },
  {
   "cell_type": "code",
   "execution_count": 11,
   "id": "c527b076",
   "metadata": {},
   "outputs": [],
   "source": [
    "options = Options()\n",
    "# options.add_argument(\"--headless\")\n",
    "options.add_argument(\"--disable-gpu\")\n",
    "options.add_argument(\"--no-sandbox\")\n",
    "options.add_argument(\"enable-automation\")\n",
    "options.add_argument(\"--disable-infobars\")\n",
    "options.add_argument(\"--disable-dev-shm-usage\")\n",
    "options.binary_location = os.environ.get(\"GOOGLE_CHROME_BIN\")"
   ]
  },
  {
   "cell_type": "code",
   "execution_count": 12,
   "id": "e99c1cbf",
   "metadata": {},
   "outputs": [
    {
     "data": {
      "text/html": [
       "<div>\n",
       "<style scoped>\n",
       "    .dataframe tbody tr th:only-of-type {\n",
       "        vertical-align: middle;\n",
       "    }\n",
       "\n",
       "    .dataframe tbody tr th {\n",
       "        vertical-align: top;\n",
       "    }\n",
       "\n",
       "    .dataframe thead th {\n",
       "        text-align: right;\n",
       "    }\n",
       "</style>\n",
       "<table border=\"1\" class=\"dataframe\">\n",
       "  <thead>\n",
       "    <tr style=\"text-align: right;\">\n",
       "      <th></th>\n",
       "      <th>synonym_disease</th>\n",
       "      <th>synonym_disease2</th>\n",
       "      <th>link</th>\n",
       "      <th>remedies</th>\n",
       "      <th>overview</th>\n",
       "      <th>treatment</th>\n",
       "    </tr>\n",
       "    <tr>\n",
       "      <th>disease</th>\n",
       "      <th></th>\n",
       "      <th></th>\n",
       "      <th></th>\n",
       "      <th></th>\n",
       "      <th></th>\n",
       "      <th></th>\n",
       "    </tr>\n",
       "  </thead>\n",
       "  <tbody>\n",
       "    <tr>\n",
       "      <th>acid reflux</th>\n",
       "      <td>gastroesophageal reflux disease</td>\n",
       "      <td>GERD</td>\n",
       "      <td>https://www.mayoclinic.org/diseases-conditions...</td>\n",
       "      <td>Maintain a healthy weight. Excess pounds put p...</td>\n",
       "      <td>Gastroesophageal reflux disease (GERD) occurs ...</td>\n",
       "      <td>Your health care provider might be able to dia...</td>\n",
       "    </tr>\n",
       "    <tr>\n",
       "      <th>acne</th>\n",
       "      <td>pimples</td>\n",
       "      <td>NaN</td>\n",
       "      <td>https://www.mayoclinic.org/diseases-conditions...</td>\n",
       "      <td>Wash problem areas with a gentle cleanser. Twi...</td>\n",
       "      <td>Acne is a skin condition that occurs when your...</td>\n",
       "      <td>If you've tried over-the-counter (nonprescript...</td>\n",
       "    </tr>\n",
       "    <tr>\n",
       "      <th>acute sinusitis</th>\n",
       "      <td>NaN</td>\n",
       "      <td>NaN</td>\n",
       "      <td>https://www.mayoclinic.org/diseases-conditions...</td>\n",
       "      <td>Rest. This will help your body fight infection...</td>\n",
       "      <td>Acute sinusitis causes the spaces inside your ...</td>\n",
       "      <td>Your doctor may ask about your symptoms. He or...</td>\n",
       "    </tr>\n",
       "    <tr>\n",
       "      <th>allergies</th>\n",
       "      <td>NaN</td>\n",
       "      <td>NaN</td>\n",
       "      <td>https://www.mayoclinic.org/diseases-conditions...</td>\n",
       "      <td>Sinus congestion and hay fever symptoms. These...</td>\n",
       "      <td>Allergies occur when your immune system reacts...</td>\n",
       "      <td>To evaluate whether you have an allergy, your ...</td>\n",
       "    </tr>\n",
       "    <tr>\n",
       "      <th>alopecia</th>\n",
       "      <td>hair loss</td>\n",
       "      <td>NaN</td>\n",
       "      <td>https://www.mayoclinic.org/diseases-conditions...</td>\n",
       "      <td>List key personal information, including any m...</td>\n",
       "      <td>Hair loss (alopecia) can affect just your scal...</td>\n",
       "      <td>Before making a diagnosis, your doctor will li...</td>\n",
       "    </tr>\n",
       "  </tbody>\n",
       "</table>\n",
       "</div>"
      ],
      "text/plain": [
       "                                 synonym_disease synonym_disease2  \\\n",
       "disease                                                             \n",
       "acid reflux      gastroesophageal reflux disease             GERD   \n",
       "acne                                     pimples              NaN   \n",
       "acute sinusitis                              NaN              NaN   \n",
       "allergies                                    NaN              NaN   \n",
       "alopecia                               hair loss              NaN   \n",
       "\n",
       "                                                              link  \\\n",
       "disease                                                              \n",
       "acid reflux      https://www.mayoclinic.org/diseases-conditions...   \n",
       "acne             https://www.mayoclinic.org/diseases-conditions...   \n",
       "acute sinusitis  https://www.mayoclinic.org/diseases-conditions...   \n",
       "allergies        https://www.mayoclinic.org/diseases-conditions...   \n",
       "alopecia         https://www.mayoclinic.org/diseases-conditions...   \n",
       "\n",
       "                                                          remedies  \\\n",
       "disease                                                              \n",
       "acid reflux      Maintain a healthy weight. Excess pounds put p...   \n",
       "acne             Wash problem areas with a gentle cleanser. Twi...   \n",
       "acute sinusitis  Rest. This will help your body fight infection...   \n",
       "allergies        Sinus congestion and hay fever symptoms. These...   \n",
       "alopecia         List key personal information, including any m...   \n",
       "\n",
       "                                                          overview  \\\n",
       "disease                                                              \n",
       "acid reflux      Gastroesophageal reflux disease (GERD) occurs ...   \n",
       "acne             Acne is a skin condition that occurs when your...   \n",
       "acute sinusitis  Acute sinusitis causes the spaces inside your ...   \n",
       "allergies        Allergies occur when your immune system reacts...   \n",
       "alopecia         Hair loss (alopecia) can affect just your scal...   \n",
       "\n",
       "                                                         treatment  \n",
       "disease                                                             \n",
       "acid reflux      Your health care provider might be able to dia...  \n",
       "acne             If you've tried over-the-counter (nonprescript...  \n",
       "acute sinusitis  Your doctor may ask about your symptoms. He or...  \n",
       "allergies        To evaluate whether you have an allergy, your ...  \n",
       "alopecia         Before making a diagnosis, your doctor will li...  "
      ]
     },
     "execution_count": 12,
     "metadata": {},
     "output_type": "execute_result"
    }
   ],
   "source": [
    "dis = pd.read_excel(\"../datasets/updated details.xlsx\", index_col=0)\n",
    "mayo_links = dis.link.values\n",
    "dis.head()"
   ]
  },
  {
   "cell_type": "code",
   "execution_count": 16,
   "id": "d1cfc4ec",
   "metadata": {},
   "outputs": [],
   "source": [
    "def scrape_diseases(links):\n",
    "    diseases = {\n",
    "        'link': [],\n",
    "        'overview': [],\n",
    "        'treatment': []\n",
    "    }\n",
    "\n",
    "    driver = webdriver.Chrome(\n",
    "        ChromeDriverManager().install(),\n",
    "        options=options\n",
    "    )\n",
    "\n",
    "    viable_tags = ['h2', 'p', 'ul', 'li']\n",
    "    for path in tqdm(links):\n",
    "        driver.get(path)\n",
    "        diseases['link'].append(path)\n",
    "\n",
    "        # overview and symptoms\n",
    "        content = driver.find_element(By.XPATH, '/html/body/form/div[6]/article/div[1]/div[1]/div[2]')\n",
    "        content_childs = content.find_elements(By.TAG_NAME, 'div')\n",
    "        content_childs.extend(content.find_elements(By.TAG_NAME, 'h2'))\n",
    "        content_childs.extend(content.find_elements(By.TAG_NAME, 'p'))\n",
    "        content_childs.extend(content.find_elements(By.TAG_NAME, 'ul'))\n",
    "        content_childs.extend(content.find_elements(By.TAG_NAME, 'li'))\n",
    "\n",
    "        temp = []\n",
    "        for i in content_childs:\n",
    "            if i.tag_name in viable_tags and i.get_attribute('class') != 'listGroup':\n",
    "                i = i.text.strip()\n",
    "                if i != '' and i != ' ':\n",
    "                    temp.append(i)\n",
    "\n",
    "        diseases['overview'].append(\".\\n\\n\".join(temp))\n",
    "\n",
    "        # diagnosis and treatment\n",
    "        driver.find_element(By.ID, 'et_genericNavigation_diagnosis-treatment').click()\n",
    "        content = driver.find_element(By.XPATH, '/html/body/form/div[6]/article/div[1]/div[1]/div[2]')\n",
    "        content_childs = content.find_elements(By.XPATH, './/*')\n",
    "        content_childs.extend(content.find_elements(By.TAG_NAME, 'h2'))\n",
    "        content_childs.extend(content.find_elements(By.TAG_NAME, 'p'))\n",
    "        content_childs.extend(content.find_elements(By.TAG_NAME, 'ul'))\n",
    "        content_childs.extend(content.find_elements(By.TAG_NAME, 'li'))\n",
    "\n",
    "        temp = []\n",
    "        for i in content_childs:\n",
    "            if i.tag_name in viable_tags and i.get_attribute('class') != 'listGroup':\n",
    "                i = i.text.strip()\n",
    "                if i != '' and i != ' ':\n",
    "                    temp.append(i)\n",
    "\n",
    "        diseases['treatment'].append(\".\\n\\n\".join(temp))\n",
    "\n",
    "    return diseases"
   ]
  },
  {
   "cell_type": "code",
   "execution_count": 17,
   "id": "e6cf1b05",
   "metadata": {},
   "outputs": [
    {
     "name": "stdout",
     "output_type": "stream",
     "text": [
      "\n"
     ]
    },
    {
     "name": "stderr",
     "output_type": "stream",
     "text": [
      "C:\\Users\\ikath\\AppData\\Local\\Temp\\ipykernel_22488\\1006161293.py:8: DeprecationWarning: executable_path has been deprecated, please pass in a Service object\n",
      "  driver = webdriver.Chrome(\n",
      "100%|████████████████████████████████████████████| 1/1 [00:10<00:00, 10.41s/it]\n"
     ]
    }
   ],
   "source": [
    "x = scrape_diseases(mayo_links[:1])"
   ]
  },
  {
   "cell_type": "code",
   "execution_count": 20,
   "id": "e4ee3673",
   "metadata": {
    "scrolled": false
   },
   "outputs": [
    {
     "name": "stdout",
     "output_type": "stream",
     "text": [
      "Overview.\n",
      "\n",
      "Symptoms.\n",
      "\n",
      "Causes.\n",
      "\n",
      "Risk factors.\n",
      "\n",
      "Complications.\n",
      "\n",
      "Gastroesophageal reflux disease (GERD) occurs when stomach acid repeatedly flows back into the tube connecting your mouth and stomach (esophagus). This backwash (acid reflux) can irritate the lining of your esophagus.\n",
      "\n",
      "Many people experience acid reflux from time to time. However, when acid reflux happens repeatedly over time, it can cause GERD.\n",
      "\n",
      "Most people are able to manage the discomfort of GERD with lifestyle changes and medications. And though it's uncommon, some may need surgery to ease symptoms.\n",
      "\n",
      "Common signs and symptoms of GERD include:\n",
      "\n",
      "If you have nighttime acid reflux, you might also experience:\n",
      "\n",
      "Seek immediate medical care if you have chest pain, especially if you also have shortness of breath, or jaw or arm pain. These may be signs and symptoms of a heart attack.\n",
      "\n",
      "Make an appointment with your doctor if you:\n",
      "\n",
      "Subscribe for free and receive your in-depth guide to digestive health, plus the latest on health innovations and news. You can unsubscribe at any time.\n",
      "\n",
      "GERD is caused by frequent acid reflux or reflux of nonacidic content from the stomach.\n",
      "\n",
      "When you swallow, a circular band of muscle around the bottom of your esophagus (lower esophageal sphincter) relaxes to allow food and liquid to flow into your stomach. Then the sphincter closes again.\n",
      "\n",
      "If the sphincter does not relax as it should or it weakens, stomach acid can flow back into your esophagus. This constant backwash of acid irritates the lining of your esophagus, often causing it to become inflamed.\n",
      "\n",
      "Conditions that can increase your risk of GERD include:\n",
      "\n",
      "Factors that can aggravate acid reflux include:\n",
      "\n",
      "Over time, chronic inflammation in your esophagus can cause:\n",
      "\n",
      "A burning sensation in your chest (heartburn), usually after eating, which might be worse at night or while lying down\n",
      "Backwash (regurgitation) of food or sour liquid\n",
      "Upper abdominal or chest pain\n",
      "Trouble swallowing (dysphagia)\n",
      "Sensation of a lump in your throat.\n",
      "\n",
      "An ongoing cough\n",
      "Inflammation of the vocal cords (laryngitis)\n",
      "New or worsening asthma.\n",
      "\n",
      "Experience severe or frequent GERD symptoms\n",
      "Take over-the-counter medications for heartburn more than twice a week.\n",
      "\n",
      "Obesity\n",
      "Bulging of the top of the stomach up above the diaphragm (hiatal hernia)\n",
      "Pregnancy\n",
      "Connective tissue disorders, such as scleroderma\n",
      "Delayed stomach emptying.\n",
      "\n",
      "Smoking\n",
      "Eating large meals or eating late at night\n",
      "Eating certain foods (triggers) such as fatty or fried foods\n",
      "Drinking certain beverages, such as alcohol or coffee\n",
      "Taking certain medications, such as aspirin.\n",
      "\n",
      "Inflammation of the tissue in the esophagus (esophagitis). Stomach acid can break down tissue in the esophagus, causing inflammation, bleeding, and sometimes an open sore (ulcer). Esophagitis can cause pain and make swallowing difficult.\n",
      "Narrowing of the esophagus (esophageal stricture). Damage to the lower esophagus from stomach acid causes scar tissue to form. The scar tissue narrows the food pathway, leading to problems with swallowing.\n",
      "Precancerous changes to the esophagus (Barrett esophagus). Damage from acid can cause changes in the tissue lining the lower esophagus. These changes are associated with an increased risk of esophageal cancer.\n",
      "\n",
      "Book: Mayo Clinic on Digestive Health.\n",
      "\n",
      "A burning sensation in your chest (heartburn), usually after eating, which might be worse at night or while lying down.\n",
      "\n",
      "Backwash (regurgitation) of food or sour liquid.\n",
      "\n",
      "Upper abdominal or chest pain.\n",
      "\n",
      "Trouble swallowing (dysphagia).\n",
      "\n",
      "Sensation of a lump in your throat.\n",
      "\n",
      "An ongoing cough.\n",
      "\n",
      "Inflammation of the vocal cords (laryngitis).\n",
      "\n",
      "New or worsening asthma.\n",
      "\n",
      "Experience severe or frequent GERD symptoms.\n",
      "\n",
      "Take over-the-counter medications for heartburn more than twice a week.\n",
      "\n",
      "Gastroesophageal reflux disease (GERD) care at Mayo Clinic.\n",
      "\n",
      "GERD: Can certain medications make it worse?.\n",
      "\n",
      "Obesity.\n",
      "\n",
      "Bulging of the top of the stomach up above the diaphragm (hiatal hernia).\n",
      "\n",
      "Pregnancy.\n",
      "\n",
      "Connective tissue disorders, such as scleroderma.\n",
      "\n",
      "Delayed stomach emptying.\n",
      "\n",
      "Smoking.\n",
      "\n",
      "Eating large meals or eating late at night.\n",
      "\n",
      "Eating certain foods (triggers) such as fatty or fried foods.\n",
      "\n",
      "Drinking certain beverages, such as alcohol or coffee.\n",
      "\n",
      "Taking certain medications, such as aspirin.\n",
      "\n",
      "Inflammation of the tissue in the esophagus (esophagitis). Stomach acid can break down tissue in the esophagus, causing inflammation, bleeding, and sometimes an open sore (ulcer). Esophagitis can cause pain and make swallowing difficult.\n",
      "\n",
      "Narrowing of the esophagus (esophageal stricture). Damage to the lower esophagus from stomach acid causes scar tissue to form. The scar tissue narrows the food pathway, leading to problems with swallowing.\n",
      "\n",
      "Precancerous changes to the esophagus (Barrett esophagus). Damage from acid can cause changes in the tissue lining the lower esophagus. These changes are associated with an increased risk of esophageal cancer.\n",
      "\n",
      "Gastroesophageal reflux disease (GERD) care at Mayo Clinic.\n",
      "\n",
      "What causes laryngospasm?\n"
     ]
    }
   ],
   "source": [
    "print(x['overview'][0].replace('..', '.').replace(':.', ':'))"
   ]
  },
  {
   "cell_type": "code",
   "execution_count": 18,
   "id": "dcd6c8de",
   "metadata": {},
   "outputs": [
    {
     "data": {
      "text/html": [
       "<div>\n",
       "<style scoped>\n",
       "    .dataframe tbody tr th:only-of-type {\n",
       "        vertical-align: middle;\n",
       "    }\n",
       "\n",
       "    .dataframe tbody tr th {\n",
       "        vertical-align: top;\n",
       "    }\n",
       "\n",
       "    .dataframe thead th {\n",
       "        text-align: right;\n",
       "    }\n",
       "</style>\n",
       "<table border=\"1\" class=\"dataframe\">\n",
       "  <thead>\n",
       "    <tr style=\"text-align: right;\">\n",
       "      <th></th>\n",
       "      <th>link</th>\n",
       "      <th>overview</th>\n",
       "      <th>treatment</th>\n",
       "    </tr>\n",
       "  </thead>\n",
       "  <tbody>\n",
       "    <tr>\n",
       "      <th>0</th>\n",
       "      <td>https://www.mayoclinic.org/diseases-conditions...</td>\n",
       "      <td>Overview.\\n\\nSymptoms.\\n\\nCauses.\\n\\nRisk fact...</td>\n",
       "      <td>Diagnosis.\\n\\nTreatment.\\n\\nClinical trials.\\n...</td>\n",
       "    </tr>\n",
       "  </tbody>\n",
       "</table>\n",
       "</div>"
      ],
      "text/plain": [
       "                                                link  \\\n",
       "0  https://www.mayoclinic.org/diseases-conditions...   \n",
       "\n",
       "                                            overview  \\\n",
       "0  Overview.\\n\\nSymptoms.\\n\\nCauses.\\n\\nRisk fact...   \n",
       "\n",
       "                                           treatment  \n",
       "0  Diagnosis.\\n\\nTreatment.\\n\\nClinical trials.\\n...  "
      ]
     },
     "execution_count": 18,
     "metadata": {},
     "output_type": "execute_result"
    }
   ],
   "source": [
    "details = pd.DataFrame(x)\n",
    "details"
   ]
  },
  {
   "cell_type": "code",
   "execution_count": null,
   "id": "a7c27ee6",
   "metadata": {},
   "outputs": [],
   "source": [
    "# details.overview[0].replace('. . . ', '')"
   ]
  },
  {
   "cell_type": "code",
   "execution_count": 27,
   "id": "c70f409a",
   "metadata": {},
   "outputs": [],
   "source": [
    "# final = pd.concat([dis, details.iloc[:, 1:]], axis=1)\n",
    "# final.head()\n",
    "# final.to_excel('../datasets/updated details.xlsx')"
   ]
  },
  {
   "cell_type": "code",
   "execution_count": null,
   "id": "9c20d17f",
   "metadata": {},
   "outputs": [],
   "source": []
  },
  {
   "cell_type": "code",
   "execution_count": 13,
   "id": "35df1505",
   "metadata": {},
   "outputs": [],
   "source": [
    "def scrape_remedies(links):\n",
    "    driver = webdriver.Chrome(\n",
    "        ChromeDriverManager().install(),\n",
    "        options=options\n",
    "    )\n",
    "\n",
    "    disease_info = {\n",
    "        'link': [],\n",
    "        'alternatives':[],\n",
    "        'remedies': []\n",
    "    }\n",
    "\n",
    "    for path in tqdm(links):\n",
    "        disease_info['link'].append(path)\n",
    "        driver.get(path)\n",
    "\n",
    "        # going to diagnosis-treatment\n",
    "        driver.find_element(By.ID, 'et_genericNavigation_diagnosis-treatment').click()\n",
    "\n",
    "        try:\n",
    "            # alternatives\n",
    "            alts = driver.find_element(By.XPATH, \"//h2[contains(text(), 'Alternative')]/following-sibling::ul\")\n",
    "            alts = alts.find_elements(By.TAG_NAME, 'li')\n",
    "\n",
    "            temp = []\n",
    "            for a in alts:\n",
    "                temp.append(a.text)\n",
    "            disease_info['alternatives'].append(\"\\n\".join(temp))\n",
    "\n",
    "        except:\n",
    "            disease_info['alternatives'].append('')\n",
    "\n",
    "        try:\n",
    "            # home remedies\n",
    "            remedies = driver.find_element(By.XPATH, \"//h2[contains(text(), 'Lifestyle')]/following-sibling::\")\n",
    "            disease_info['remedies'].append(remedies.text)\n",
    "            # remedies = remedies.find_elements(By.TAG_NAME, 'li')\n",
    "\n",
    "            # temp = []\n",
    "            # for r in remedies:\n",
    "            #     temp.append(r.text)\n",
    "            # disease_info['remedies'].append(\"\\n\".join(temp))\n",
    "\n",
    "        except:\n",
    "            disease_info['remedies'].append('')\n",
    "\n",
    "    return disease_info"
   ]
  },
  {
   "cell_type": "code",
   "execution_count": 14,
   "id": "07cb05ae",
   "metadata": {},
   "outputs": [
    {
     "name": "stdout",
     "output_type": "stream",
     "text": [
      "\n"
     ]
    },
    {
     "name": "stderr",
     "output_type": "stream",
     "text": [
      "C:\\Users\\ikath\\AppData\\Local\\Temp\\ipykernel_27472\\687257708.py:2: DeprecationWarning: executable_path has been deprecated, please pass in a Service object\n",
      "  driver = webdriver.Chrome(\n",
      "100%|████████████████████████████████████████████| 1/1 [00:01<00:00,  1.12s/it]\n"
     ]
    }
   ],
   "source": [
    "l = ['https://www.mayoclinic.org/diseases-conditions/head-lice/symptoms-causes/syc-20356180']\n",
    "x = scrape_remedies(l)"
   ]
  },
  {
   "cell_type": "code",
   "execution_count": 15,
   "id": "422b562c",
   "metadata": {},
   "outputs": [
    {
     "data": {
      "text/plain": [
       "{'link': ['https://www.mayoclinic.org/diseases-conditions/head-lice/symptoms-causes/syc-20356180'],\n",
       " 'alternatives': [''],\n",
       " 'remedies': ['']}"
      ]
     },
     "execution_count": 15,
     "metadata": {},
     "output_type": "execute_result"
    }
   ],
   "source": [
    "x"
   ]
  },
  {
   "cell_type": "code",
   "execution_count": null,
   "id": "e4d18de3",
   "metadata": {},
   "outputs": [],
   "source": [
    "# details = pd.DataFrame(x)\n",
    "# details"
   ]
  },
  {
   "cell_type": "code",
   "execution_count": null,
   "id": "8563c7e4",
   "metadata": {},
   "outputs": [],
   "source": []
  },
  {
   "cell_type": "code",
   "execution_count": null,
   "id": "6a546a66",
   "metadata": {},
   "outputs": [],
   "source": []
  },
  {
   "cell_type": "code",
   "execution_count": 3,
   "id": "d1d6a3dc",
   "metadata": {},
   "outputs": [],
   "source": [
    "alphabet = [\n",
    "    'A', 'B', 'C', 'D', 'E', 'F', 'G', 'H', 'I', 'J',\n",
    "    'K', 'L', 'M', 'N', 'O', 'P', 'Q', 'R', 'S', 'T',\n",
    "    'U', 'V', 'W', 'X', 'Y', 'Z'\n",
    "]"
   ]
  },
  {
   "cell_type": "code",
   "execution_count": 4,
   "id": "b5c7056a",
   "metadata": {},
   "outputs": [],
   "source": [
    "def scrape_diseases():\n",
    "    diseases = {\n",
    "        'name': [],\n",
    "        'link': []\n",
    "    }\n",
    "\n",
    "    driver = webdriver.Chrome(\n",
    "        ChromeDriverManager().install(),\n",
    "        options=options\n",
    "    )\n",
    "\n",
    "    for letter in tqdm(alphabet):\n",
    "        path = f\"https://www.mayoclinic.org/diseases-conditions/index?letter={letter}\"\n",
    "        driver.get(path)\n",
    "\n",
    "        total = driver.find_element(By.ID, 'index').find_element(By.TAG_NAME, 'ol')\n",
    "        all_eles = total.find_elements(By.TAG_NAME, 'li')\n",
    "\n",
    "        for ele in all_eles:\n",
    "            temp = ele.find_element(By.TAG_NAME, 'a')\n",
    "            diseases['name'].append(temp.text)\n",
    "            diseases['link'].append(temp.get_attribute('href'))\n",
    "\n",
    "    return diseases"
   ]
  },
  {
   "cell_type": "code",
   "execution_count": 5,
   "id": "09637991",
   "metadata": {
    "scrolled": true
   },
   "outputs": [],
   "source": [
    "# all_diseases = scrape_diseases()"
   ]
  },
  {
   "cell_type": "code",
   "execution_count": 6,
   "id": "e1f8ba55",
   "metadata": {},
   "outputs": [],
   "source": [
    "# df = pd.DataFrame(all_diseases)\n",
    "# df.to_csv('mayo disease links.csv', index=False)\n",
    "# df"
   ]
  },
  {
   "cell_type": "code",
   "execution_count": 7,
   "id": "fb9bb801",
   "metadata": {},
   "outputs": [],
   "source": [
    "def scrape_remedies(name, path):\n",
    "    driver = webdriver.Chrome(\n",
    "        ChromeDriverManager().install(),\n",
    "        options=options\n",
    "    )\n",
    "\n",
    "    disease_info['disease'].append(name)\n",
    "    disease_info['link'].append(path)\n",
    "\n",
    "    driver.get(path)\n",
    "\n",
    "    # finding overview\n",
    "    try:\n",
    "        overview = driver.find_element(By.XPATH, \"//h2[contains(text(), 'Overview')]/following-sibling::p\")\n",
    "        disease_info['overview'].append(overview.text)\n",
    "    except:\n",
    "        disease_info['overview'].append('')\n",
    "\n",
    "    # finding symptoms\n",
    "    try:\n",
    "        symptoms = driver.find_element(By.XPATH, \"//h2[contains(text(), 'Symptoms')]/following-sibling::ul\")\n",
    "        symptoms = symptoms.find_elements(By.TAG_NAME, \"li\")\n",
    "\n",
    "        temp = []\n",
    "        for s in symptoms:\n",
    "            temp.append(s.text)\n",
    "\n",
    "        disease_info['symptoms'].append(temp)\n",
    "\n",
    "    except:\n",
    "        disease_info['symptoms'].append([])\n",
    "\n",
    "    # going to diagnosis-treatment\n",
    "    try:\n",
    "        driver.find_element(By.ID, 'et_genericNavigation_diagnosis-treatment').click()\n",
    "\n",
    "        # finding remedy list\n",
    "        remedies = driver.find_element(By.XPATH, \"//h2[contains(text(), 'Lifestyle and home remedies')]/following-sibling::ul\")\n",
    "        remedies = remedies.find_elements(By.TAG_NAME, 'li')\n",
    "\n",
    "        temp = []\n",
    "        for r in remedies:\n",
    "            temp.append(r.text)\n",
    "\n",
    "        disease_info['remedies'].append(temp)\n",
    "    except:\n",
    "        disease_info['remedies'].append([])"
   ]
  },
  {
   "cell_type": "code",
   "execution_count": 8,
   "id": "a644006f",
   "metadata": {},
   "outputs": [
    {
     "data": {
      "text/html": [
       "<div>\n",
       "<style scoped>\n",
       "    .dataframe tbody tr th:only-of-type {\n",
       "        vertical-align: middle;\n",
       "    }\n",
       "\n",
       "    .dataframe tbody tr th {\n",
       "        vertical-align: top;\n",
       "    }\n",
       "\n",
       "    .dataframe thead th {\n",
       "        text-align: right;\n",
       "    }\n",
       "</style>\n",
       "<table border=\"1\" class=\"dataframe\">\n",
       "  <thead>\n",
       "    <tr style=\"text-align: right;\">\n",
       "      <th></th>\n",
       "      <th>name</th>\n",
       "      <th>link</th>\n",
       "    </tr>\n",
       "  </thead>\n",
       "  <tbody>\n",
       "    <tr>\n",
       "      <th>0</th>\n",
       "      <td>A fib, also known as\\nAtrial fibrillation</td>\n",
       "      <td>https://www.mayoclinic.org/diseases-conditions...</td>\n",
       "    </tr>\n",
       "    <tr>\n",
       "      <th>1</th>\n",
       "      <td>Abdominal aortic aneurysm</td>\n",
       "      <td>https://www.mayoclinic.org/diseases-conditions...</td>\n",
       "    </tr>\n",
       "    <tr>\n",
       "      <th>2</th>\n",
       "      <td>Abnormally excessive sweating, also known as\\n...</td>\n",
       "      <td>https://www.mayoclinic.org/diseases-conditions...</td>\n",
       "    </tr>\n",
       "    <tr>\n",
       "      <th>3</th>\n",
       "      <td>Abscess, Bartholin's, also known as\\nBartholin...</td>\n",
       "      <td>https://www.mayoclinic.org/diseases-conditions...</td>\n",
       "    </tr>\n",
       "    <tr>\n",
       "      <th>4</th>\n",
       "      <td>Absence seizure</td>\n",
       "      <td>https://www.mayoclinic.org/diseases-conditions...</td>\n",
       "    </tr>\n",
       "    <tr>\n",
       "      <th>...</th>\n",
       "      <td>...</td>\n",
       "      <td>...</td>\n",
       "    </tr>\n",
       "    <tr>\n",
       "      <th>2188</th>\n",
       "      <td>Yersinia pestis, also known as\\nPlague</td>\n",
       "      <td>https://www.mayoclinic.org/diseases-conditions...</td>\n",
       "    </tr>\n",
       "    <tr>\n",
       "      <th>2189</th>\n",
       "      <td>Yips</td>\n",
       "      <td>https://www.mayoclinic.org/diseases-conditions...</td>\n",
       "    </tr>\n",
       "    <tr>\n",
       "      <th>2190</th>\n",
       "      <td>Zika virus</td>\n",
       "      <td>https://www.mayoclinic.org/diseases-conditions...</td>\n",
       "    </tr>\n",
       "    <tr>\n",
       "      <th>2191</th>\n",
       "      <td>Zollinger-Ellison syndrome</td>\n",
       "      <td>https://www.mayoclinic.org/diseases-conditions...</td>\n",
       "    </tr>\n",
       "    <tr>\n",
       "      <th>2192</th>\n",
       "      <td>Zoster, also known as\\nShingles</td>\n",
       "      <td>https://www.mayoclinic.org/diseases-conditions...</td>\n",
       "    </tr>\n",
       "  </tbody>\n",
       "</table>\n",
       "<p>2193 rows × 2 columns</p>\n",
       "</div>"
      ],
      "text/plain": [
       "                                                   name  \\\n",
       "0             A fib, also known as\\nAtrial fibrillation   \n",
       "1                             Abdominal aortic aneurysm   \n",
       "2     Abnormally excessive sweating, also known as\\n...   \n",
       "3     Abscess, Bartholin's, also known as\\nBartholin...   \n",
       "4                                       Absence seizure   \n",
       "...                                                 ...   \n",
       "2188             Yersinia pestis, also known as\\nPlague   \n",
       "2189                                               Yips   \n",
       "2190                                         Zika virus   \n",
       "2191                         Zollinger-Ellison syndrome   \n",
       "2192                    Zoster, also known as\\nShingles   \n",
       "\n",
       "                                                   link  \n",
       "0     https://www.mayoclinic.org/diseases-conditions...  \n",
       "1     https://www.mayoclinic.org/diseases-conditions...  \n",
       "2     https://www.mayoclinic.org/diseases-conditions...  \n",
       "3     https://www.mayoclinic.org/diseases-conditions...  \n",
       "4     https://www.mayoclinic.org/diseases-conditions...  \n",
       "...                                                 ...  \n",
       "2188  https://www.mayoclinic.org/diseases-conditions...  \n",
       "2189  https://www.mayoclinic.org/diseases-conditions...  \n",
       "2190  https://www.mayoclinic.org/diseases-conditions...  \n",
       "2191  https://www.mayoclinic.org/diseases-conditions...  \n",
       "2192  https://www.mayoclinic.org/diseases-conditions...  \n",
       "\n",
       "[2193 rows x 2 columns]"
      ]
     },
     "execution_count": 8,
     "metadata": {},
     "output_type": "execute_result"
    }
   ],
   "source": [
    "df = pd.read_csv('mayo disease links.csv')\n",
    "df"
   ]
  },
  {
   "cell_type": "code",
   "execution_count": 10,
   "id": "4c306cba",
   "metadata": {},
   "outputs": [
    {
     "data": {
      "text/plain": [
       "1989"
      ]
     },
     "execution_count": 10,
     "metadata": {},
     "output_type": "execute_result"
    }
   ],
   "source": [
    "1288+207+494"
   ]
  },
  {
   "cell_type": "code",
   "execution_count": 11,
   "id": "9d2166d6",
   "metadata": {},
   "outputs": [
    {
     "data": {
      "text/plain": [
       "array([['Tennis elbow',\n",
       "        'https://www.mayoclinic.org/diseases-conditions/tennis-elbow/symptoms-causes/syc-20351987'],\n",
       "       [\"Tenosynovitis, de Quervain's, also known as\\nDe Quervain tenosynovitis\",\n",
       "        'https://www.mayoclinic.org/diseases-conditions/de-quervain-tenosynovitis/symptoms-causes/syc-20371332'],\n",
       "       ['Tension headache',\n",
       "        'https://www.mayoclinic.org/diseases-conditions/tension-headache/symptoms-causes/syc-20353977'],\n",
       "       ['Testicle, retractile, also known as\\nRetractile testicle',\n",
       "        'https://www.mayoclinic.org/diseases-conditions/retractile-testicle/symptoms-causes/syc-20377197'],\n",
       "       ['Testicle, undescended, also known as\\nUndescended testicle',\n",
       "        'https://www.mayoclinic.org/diseases-conditions/undescended-testicle/symptoms-causes/syc-20351995'],\n",
       "       ['Testicular cancer',\n",
       "        'https://www.mayoclinic.org/diseases-conditions/testicular-cancer-care/symptoms-causes/syc-20352986'],\n",
       "       ['Testicular torsion',\n",
       "        'https://www.mayoclinic.org/diseases-conditions/testicular-torsion/symptoms-causes/syc-20378270'],\n",
       "       ['Testosterone deficiency, also known as\\nMale hypogonadism',\n",
       "        'https://www.mayoclinic.org/diseases-conditions/male-hypogonadism/symptoms-causes/syc-20354881'],\n",
       "       ['Tetanus',\n",
       "        'https://www.mayoclinic.org/diseases-conditions/tetanus/symptoms-causes/syc-20351625'],\n",
       "       ['Tetralogy of Fallot',\n",
       "        'https://www.mayoclinic.org/diseases-conditions/tetralogy-of-fallot/symptoms-causes/syc-20353477'],\n",
       "       ['TGA, also known as\\nTransient global amnesia',\n",
       "        'https://www.mayoclinic.org/diseases-conditions/transient-global-amnesia/symptoms-causes/syc-20378531'],\n",
       "       ['Thalassemia',\n",
       "        'https://www.mayoclinic.org/diseases-conditions/thalassemia/symptoms-causes/syc-20354995'],\n",
       "       ['Thoracic aortic aneurysm',\n",
       "        'https://www.mayoclinic.org/diseases-conditions/thoracic-aortic-aneurysm/symptoms-causes/syc-20350188'],\n",
       "       ['Thoracic outlet syndrome',\n",
       "        'https://www.mayoclinic.org/diseases-conditions/thoracic-outlet-syndrome/symptoms-causes/syc-20353988'],\n",
       "       ['Three-day measles, also known as\\nRubella',\n",
       "        'https://www.mayoclinic.org/diseases-conditions/rubella/symptoms-causes/syc-20377310'],\n",
       "       ['Throat cancer',\n",
       "        'https://www.mayoclinic.org/diseases-conditions/throat-cancer/symptoms-causes/syc-20366462'],\n",
       "       [\"Thromboangiitis obliterans, also known as\\nBuerger's disease\",\n",
       "        'https://www.mayoclinic.org/diseases-conditions/buergers-disease/symptoms-causes/syc-20350658'],\n",
       "       ['Thrombocythemia, essential, also known as\\nEssential thrombocythemia',\n",
       "        'https://www.mayoclinic.org/diseases-conditions/essential-thrombocythemia/symptoms-causes/syc-20361064'],\n",
       "       ['Thrombocytopenia',\n",
       "        'https://www.mayoclinic.org/diseases-conditions/thrombocytopenia/symptoms-causes/syc-20378293'],\n",
       "       ['Thrombocytosis',\n",
       "        'https://www.mayoclinic.org/diseases-conditions/thrombocytosis/symptoms-causes/syc-20378315'],\n",
       "       ['Thrombophlebitis',\n",
       "        'https://www.mayoclinic.org/diseases-conditions/thrombophlebitis/symptoms-causes/syc-20354607'],\n",
       "       ['Thrush, oral, also known as\\nOral thrush',\n",
       "        'https://www.mayoclinic.org/diseases-conditions/oral-thrush/symptoms-causes/syc-20353533'],\n",
       "       ['Thumb arthritis',\n",
       "        'https://www.mayoclinic.org/diseases-conditions/thumb-arthritis/symptoms-causes/syc-20378339'],\n",
       "       ['Thunderclap headaches',\n",
       "        'https://www.mayoclinic.org/diseases-conditions/thunderclap-headaches/symptoms-causes/syc-20378361'],\n",
       "       ['Thyroid cancer',\n",
       "        'https://www.mayoclinic.org/diseases-conditions/thyroid-cancer/symptoms-causes/syc-20354161'],\n",
       "       ['Thyroid gland enlargement, also known as\\nGoiter',\n",
       "        'https://www.mayoclinic.org/diseases-conditions/goiter/symptoms-causes/syc-20351829'],\n",
       "       ['Thyroid nodules',\n",
       "        'https://www.mayoclinic.org/diseases-conditions/thyroid-nodules/symptoms-causes/syc-20355262'],\n",
       "       ['Thyroid, overactive, also known as\\nHyperthyroidism (overactive thyroid)',\n",
       "        'https://www.mayoclinic.org/diseases-conditions/hyperthyroidism/symptoms-causes/syc-20373659'],\n",
       "       [\"Thyroiditis, chronic lymphocytic, also known as\\nHashimoto's disease\",\n",
       "        'https://www.mayoclinic.org/diseases-conditions/hashimotos-disease/symptoms-causes/syc-20351855'],\n",
       "       ['TIA, also known as\\nTransient ischemic attack (TIA)',\n",
       "        'https://www.mayoclinic.org/diseases-conditions/transient-ischemic-attack/symptoms-causes/syc-20355679'],\n",
       "       ['Tic douloureux, also known as\\nTrigeminal neuralgia',\n",
       "        'https://www.mayoclinic.org/diseases-conditions/trigeminal-neuralgia/symptoms-causes/syc-20353344'],\n",
       "       ['Tinea barbae, also known as\\nFolliculitis',\n",
       "        'https://www.mayoclinic.org/diseases-conditions/folliculitis/symptoms-causes/syc-20361634'],\n",
       "       ['Tinea capitis, also known as\\nRingworm (scalp)',\n",
       "        'https://www.mayoclinic.org/diseases-conditions/ringworm-scalp/symptoms-causes/syc-20354918'],\n",
       "       ['Tinea corporis, also known as\\nRingworm (body)',\n",
       "        'https://www.mayoclinic.org/diseases-conditions/ringworm-body/symptoms-causes/syc-20353780'],\n",
       "       ['Tinea cruris, also known as\\nJock itch',\n",
       "        'https://www.mayoclinic.org/diseases-conditions/jock-itch/symptoms-causes/syc-20353807'],\n",
       "       [\"Tinea pedis, also known as\\nAthlete's foot\",\n",
       "        'https://www.mayoclinic.org/diseases-conditions/athletes-foot/symptoms-causes/syc-20353841'],\n",
       "       ['Tinea versicolor',\n",
       "        'https://www.mayoclinic.org/diseases-conditions/tinea-versicolor/symptoms-causes/syc-20378385'],\n",
       "       ['Tinnitus',\n",
       "        'https://www.mayoclinic.org/diseases-conditions/tinnitus/symptoms-causes/syc-20350156'],\n",
       "       ['TMD, also known as\\nTMJ disorders',\n",
       "        'https://www.mayoclinic.org/diseases-conditions/tmj/symptoms-causes/syc-20350941'],\n",
       "       ['TMJ disorders',\n",
       "        'https://www.mayoclinic.org/diseases-conditions/tmj/symptoms-causes/syc-20350941'],\n",
       "       ['Toe walking in children',\n",
       "        'https://www.mayoclinic.org/diseases-conditions/toe-walking/symptoms-causes/syc-20378410'],\n",
       "       ['Toenail fungus, also known as\\nNail fungus',\n",
       "        'https://www.mayoclinic.org/diseases-conditions/nail-fungus/symptoms-causes/syc-20353294'],\n",
       "       ['Tongue cancer',\n",
       "        'https://www.mayoclinic.org/diseases-conditions/tongue-cancer/symptoms-causes/syc-20378428'],\n",
       "       ['Tongue tie, also known as\\nTongue-tie (ankyloglossia)',\n",
       "        'https://www.mayoclinic.org/diseases-conditions/tongue-tie/symptoms-causes/syc-20378452'],\n",
       "       ['Tongue-tie (ankyloglossia)',\n",
       "        'https://www.mayoclinic.org/diseases-conditions/tongue-tie/symptoms-causes/syc-20378452'],\n",
       "       ['Tonic-clonic seizure, also known as\\nGrand mal seizure',\n",
       "        'https://www.mayoclinic.org/diseases-conditions/grand-mal-seizure/symptoms-causes/syc-20363458'],\n",
       "       ['Tonsil cancer',\n",
       "        'https://www.mayoclinic.org/diseases-conditions/tonsil-cancer/symptoms-causes/syc-20367939'],\n",
       "       ['Tonsillitis',\n",
       "        'https://www.mayoclinic.org/diseases-conditions/tonsillitis/symptoms-causes/syc-20378479'],\n",
       "       ['Tooth abscess',\n",
       "        'https://www.mayoclinic.org/diseases-conditions/tooth-abscess/symptoms-causes/syc-20350901'],\n",
       "       ['Tooth decay, also known as\\nCavities/tooth decay',\n",
       "        'https://www.mayoclinic.org/diseases-conditions/cavities/symptoms-causes/syc-20352892'],\n",
       "       ['Torn meniscus',\n",
       "        'https://www.mayoclinic.org/diseases-conditions/torn-meniscus/symptoms-causes/syc-20354818'],\n",
       "       ['Torsion, testicular, also known as\\nTesticular torsion',\n",
       "        'https://www.mayoclinic.org/diseases-conditions/testicular-torsion/symptoms-causes/syc-20378270'],\n",
       "       ['Torticollis, spasmodic, also known as\\nCervical dystonia',\n",
       "        'https://www.mayoclinic.org/diseases-conditions/cervical-dystonia/symptoms-causes/syc-20354123'],\n",
       "       ['Total anomalous pulmonary venous connection, also known as\\nTotal anomalous pulmonary venous return (TAPVR)',\n",
       "        'https://www.mayoclinic.org/diseases-conditions/total-anomalous-pulmonary-venous-return/cdc-20385613'],\n",
       "       ['Total anomalous pulmonary venous return (TAPVR)',\n",
       "        'https://www.mayoclinic.org/diseases-conditions/total-anomalous-pulmonary-venous-return/cdc-20385613'],\n",
       "       ['Tourette syndrome',\n",
       "        'https://www.mayoclinic.org/diseases-conditions/tourette-syndrome/symptoms-causes/syc-20350465'],\n",
       "       ['Toxemia, also known as\\nPreeclampsia',\n",
       "        'https://www.mayoclinic.org/diseases-conditions/preeclampsia/symptoms-causes/syc-20355745'],\n",
       "       ['Toxic epidermal necrolysis, also known as\\nTEN',\n",
       "        'https://www.mayoclinic.org/diseases-conditions/toxic-epidermal-necrolysis/symptoms-causes/syc-20491903'],\n",
       "       ['Toxic hepatitis',\n",
       "        'https://www.mayoclinic.org/diseases-conditions/toxic-hepatitis/symptoms-causes/syc-20352202'],\n",
       "       ['Toxic shock syndrome',\n",
       "        'https://www.mayoclinic.org/diseases-conditions/toxic-shock-syndrome/symptoms-causes/syc-20355384'],\n",
       "       ['Toxoplasmosis',\n",
       "        'https://www.mayoclinic.org/diseases-conditions/toxoplasmosis/symptoms-causes/syc-20356249'],\n",
       "       ['Trachoma',\n",
       "        'https://www.mayoclinic.org/diseases-conditions/trachoma/symptoms-causes/syc-20378505'],\n",
       "       ['Transient global amnesia',\n",
       "        'https://www.mayoclinic.org/diseases-conditions/transient-global-amnesia/symptoms-causes/syc-20378531'],\n",
       "       ['Transient ischemic attack (TIA)',\n",
       "        'https://www.mayoclinic.org/diseases-conditions/transient-ischemic-attack/symptoms-causes/syc-20355679'],\n",
       "       ['Transposition of great vessels, also known as\\nTransposition of the great arteries',\n",
       "        'https://www.mayoclinic.org/diseases-conditions/transposition-of-the-great-arteries/symptoms-causes/syc-20350589'],\n",
       "       ['Transposition of the great arteries',\n",
       "        'https://www.mayoclinic.org/diseases-conditions/transposition-of-the-great-arteries/symptoms-causes/syc-20350589'],\n",
       "       ['Transverse myelitis',\n",
       "        'https://www.mayoclinic.org/diseases-conditions/transverse-myelitis/symptoms-causes/syc-20354726'],\n",
       "       ['Traumatic brain injury',\n",
       "        'https://www.mayoclinic.org/diseases-conditions/traumatic-brain-injury/symptoms-causes/syc-20378557'],\n",
       "       ['Traumatic grief, also known as\\nComplicated grief',\n",
       "        'https://www.mayoclinic.org/diseases-conditions/complicated-grief/symptoms-causes/syc-20360374'],\n",
       "       [\"Traveler's diarrhea\",\n",
       "        'https://www.mayoclinic.org/diseases-conditions/travelers-diarrhea/symptoms-causes/syc-20352182'],\n",
       "       ['Trichinosis',\n",
       "        'https://www.mayoclinic.org/diseases-conditions/trichinosis/symptoms-causes/syc-20378583'],\n",
       "       ['Trichomoniasis',\n",
       "        'https://www.mayoclinic.org/diseases-conditions/trichomoniasis/symptoms-causes/syc-20378609'],\n",
       "       ['Trichotillomania (hair-pulling disorder)',\n",
       "        'https://www.mayoclinic.org/diseases-conditions/trichotillomania/symptoms-causes/syc-20355188'],\n",
       "       ['Tricuspid atresia',\n",
       "        'https://www.mayoclinic.org/diseases-conditions/tricuspid-atresia/symptoms-causes/syc-20368392'],\n",
       "       ['Tricuspid valve disease',\n",
       "        'https://www.mayoclinic.org/diseases-conditions/tricuspid-valve-disease/symptoms-causes/syc-20350609'],\n",
       "       ['Tricuspid valve regurgitation',\n",
       "        'https://www.mayoclinic.org/diseases-conditions/tricuspid-valve-regurgitation/symptoms-causes/syc-20350168'],\n",
       "       ['Trigeminal neuralgia',\n",
       "        'https://www.mayoclinic.org/diseases-conditions/trigeminal-neuralgia/symptoms-causes/syc-20353344'],\n",
       "       ['Trigger finger',\n",
       "        'https://www.mayoclinic.org/diseases-conditions/trigger-finger/symptoms-causes/syc-20365100'],\n",
       "       ['Triple X syndrome',\n",
       "        'https://www.mayoclinic.org/diseases-conditions/triple-x-syndrome/symptoms-causes/syc-20350977'],\n",
       "       ['Trisomy 21 syndrome, also known as\\nDown syndrome',\n",
       "        'https://www.mayoclinic.org/diseases-conditions/down-syndrome/symptoms-causes/syc-20355977'],\n",
       "       ['Trisomy X, also known as\\nTriple X syndrome',\n",
       "        'https://www.mayoclinic.org/diseases-conditions/triple-x-syndrome/symptoms-causes/syc-20350977'],\n",
       "       ['Trouble swallowing, also known as\\nDysphagia',\n",
       "        'https://www.mayoclinic.org/diseases-conditions/dysphagia/symptoms-causes/syc-20372028'],\n",
       "       ['Truncus arteriosus',\n",
       "        'https://www.mayoclinic.org/diseases-conditions/truncus-arteriosus/symptoms-causes/syc-20364247'],\n",
       "       ['Tuberculosis',\n",
       "        'https://www.mayoclinic.org/diseases-conditions/tuberculosis/symptoms-causes/syc-20351250'],\n",
       "       ['Tuberous sclerosis',\n",
       "        'https://www.mayoclinic.org/diseases-conditions/tuberous-sclerosis/symptoms-causes/syc-20365969'],\n",
       "       ['Tularemia',\n",
       "        'https://www.mayoclinic.org/diseases-conditions/tularemia/symptoms-causes/syc-20378635'],\n",
       "       ['Tumor, salivary gland, also known as\\nSalivary gland tumors',\n",
       "        'https://www.mayoclinic.org/diseases-conditions/salivary-gland-cancer/symptoms-causes/syc-20354151'],\n",
       "       ['Turner syndrome',\n",
       "        'https://www.mayoclinic.org/diseases-conditions/turner-syndrome/symptoms-causes/syc-20360782'],\n",
       "       ['Tympanic membrane perforation, also known as\\nRuptured eardrum (perforated eardrum)',\n",
       "        'https://www.mayoclinic.org/diseases-conditions/ruptured-eardrum/symptoms-causes/syc-20351879'],\n",
       "       ['Type 1 diabetes',\n",
       "        'https://www.mayoclinic.org/diseases-conditions/type-1-diabetes/symptoms-causes/syc-20353011'],\n",
       "       ['Type 1 diabetes in children',\n",
       "        'https://www.mayoclinic.org/diseases-conditions/type-1-diabetes-in-children/symptoms-causes/syc-20355306'],\n",
       "       ['Type 2 diabetes',\n",
       "        'https://www.mayoclinic.org/diseases-conditions/type-2-diabetes/symptoms-causes/syc-20351193'],\n",
       "       ['Type 2 diabetes in children',\n",
       "        'https://www.mayoclinic.org/diseases-conditions/type-2-diabetes-in-children/symptoms-causes/syc-20355318'],\n",
       "       ['Typhoid fever',\n",
       "        'https://www.mayoclinic.org/diseases-conditions/typhoid-fever/symptoms-causes/syc-20378661'],\n",
       "       ['Ulcer, aphthous, also known as\\nCanker sore',\n",
       "        'https://www.mayoclinic.org/diseases-conditions/canker-sore/symptoms-causes/syc-20370615'],\n",
       "       ['Ulcer, peptic, also known as\\nPeptic ulcer',\n",
       "        'https://www.mayoclinic.org/diseases-conditions/peptic-ulcer/symptoms-causes/syc-20354223'],\n",
       "       ['Ulcer, rectal, also known as\\nSolitary rectal ulcer syndrome',\n",
       "        'https://www.mayoclinic.org/diseases-conditions/rectal-ulcer/symptoms-causes/syc-20377749'],\n",
       "       ['Ulcerative colitis',\n",
       "        'https://www.mayoclinic.org/diseases-conditions/ulcerative-colitis/symptoms-causes/syc-20353326'],\n",
       "       ['Ulnar wrist pain',\n",
       "        'https://www.mayoclinic.org/diseases-conditions/ulnar-wrist-pain/symptoms-causes/syc-20355510'],\n",
       "       ['Ulnar-sided wrist pain, also known as\\nUlnar wrist pain',\n",
       "        'https://www.mayoclinic.org/diseases-conditions/ulnar-wrist-pain/symptoms-causes/syc-20355510'],\n",
       "       ['Umbilical hernia',\n",
       "        'https://www.mayoclinic.org/diseases-conditions/umbilical-hernia/symptoms-causes/syc-20378685'],\n",
       "       ['Uncontrollable laughter and crying, also known as\\nPseudobulbar affect',\n",
       "        'https://www.mayoclinic.org/diseases-conditions/pseudobulbar-affect/symptoms-causes/syc-20353737'],\n",
       "       ['Underactive thyroid, also known as\\nHypothyroidism (underactive thyroid)',\n",
       "        'https://www.mayoclinic.org/diseases-conditions/hypothyroidism/symptoms-causes/syc-20350284'],\n",
       "       ['Under-eye puffiness, also known as\\nBags under eyes',\n",
       "        'https://www.mayoclinic.org/diseases-conditions/bags-under-eyes/symptoms-causes/syc-20369927'],\n",
       "       ['Undescended testicle',\n",
       "        'https://www.mayoclinic.org/diseases-conditions/undescended-testicle/symptoms-causes/syc-20351995'],\n",
       "       ['Undifferentiated pleomorphic sarcoma',\n",
       "        'https://www.mayoclinic.org/diseases-conditions/undifferentiated-pleomorphic-sarcoma/symptoms-causes/syc-20389554'],\n",
       "       ['Upset stomach, also known as\\nIndigestion',\n",
       "        'https://www.mayoclinic.org/diseases-conditions/indigestion/symptoms-causes/syc-20352211'],\n",
       "       ['Ureteral cancer',\n",
       "        'https://www.mayoclinic.org/diseases-conditions/ureteral-cancer/symptoms-causes/syc-20360721'],\n",
       "       ['Ureteral obstruction',\n",
       "        'https://www.mayoclinic.org/diseases-conditions/ureteral-obstruction/symptoms-causes/syc-20354676'],\n",
       "       ['Urethral stricture',\n",
       "        'https://www.mayoclinic.org/diseases-conditions/urethral-stricture/symptoms-causes/syc-20362330'],\n",
       "       ['Urinary incontinence',\n",
       "        'https://www.mayoclinic.org/diseases-conditions/urinary-incontinence/symptoms-causes/syc-20352808'],\n",
       "       ['Urinary tract infection, also known as\\nUrinary tract infection (UTI)',\n",
       "        'https://www.mayoclinic.org/diseases-conditions/urinary-tract-infection/symptoms-causes/syc-20353447'],\n",
       "       ['Urinary tract infection (UTI)',\n",
       "        'https://www.mayoclinic.org/diseases-conditions/urinary-tract-infection/symptoms-causes/syc-20353447'],\n",
       "       ['Urine color',\n",
       "        'https://www.mayoclinic.org/diseases-conditions/urine-color/symptoms-causes/syc-20367333'],\n",
       "       ['Urine, blood in, also known as\\nBlood in urine (hematuria)',\n",
       "        'https://www.mayoclinic.org/diseases-conditions/blood-in-urine/symptoms-causes/syc-20353432'],\n",
       "       ['Urticaria, also known as\\nHives and angioedema',\n",
       "        'https://www.mayoclinic.org/diseases-conditions/hives-and-angioedema/symptoms-causes/syc-20354908'],\n",
       "       ['Urticaria, also known as\\nChronic hives',\n",
       "        'https://www.mayoclinic.org/diseases-conditions/chronic-hives/symptoms-causes/syc-20352719'],\n",
       "       ['Uterine cancer, also known as\\nEndometrial cancer',\n",
       "        'https://www.mayoclinic.org/diseases-conditions/endometrial-cancer/symptoms-causes/syc-20352461'],\n",
       "       ['Uterine fibroids',\n",
       "        'https://www.mayoclinic.org/diseases-conditions/uterine-fibroids/symptoms-causes/syc-20354288'],\n",
       "       ['Uterine leiomyoma, also known as\\nUterine fibroids',\n",
       "        'https://www.mayoclinic.org/diseases-conditions/uterine-fibroids/symptoms-causes/syc-20354288'],\n",
       "       ['Uterine myoma, also known as\\nUterine fibroids',\n",
       "        'https://www.mayoclinic.org/diseases-conditions/uterine-fibroids/symptoms-causes/syc-20354288'],\n",
       "       ['Uterine polyps',\n",
       "        'https://www.mayoclinic.org/diseases-conditions/uterine-polyps/symptoms-causes/syc-20378709'],\n",
       "       ['Uterine prolapse',\n",
       "        'https://www.mayoclinic.org/diseases-conditions/uterine-prolapse/symptoms-causes/syc-20353458'],\n",
       "       ['Uterus didelphys, also known as\\nDouble uterus',\n",
       "        'https://www.mayoclinic.org/diseases-conditions/double-uterus/symptoms-causes/syc-20352261'],\n",
       "       ['Uveitis',\n",
       "        'https://www.mayoclinic.org/diseases-conditions/uveitis/symptoms-causes/syc-20378734'],\n",
       "       ['Vaginal agenesis',\n",
       "        'https://www.mayoclinic.org/diseases-conditions/vaginal-agenesis/symptoms-causes/syc-20355737'],\n",
       "       ['Vaginal atrophy',\n",
       "        'https://www.mayoclinic.org/diseases-conditions/vaginal-atrophy/symptoms-causes/syc-20352288'],\n",
       "       ['Vaginal cancer',\n",
       "        'https://www.mayoclinic.org/diseases-conditions/vaginal-cancer/symptoms-causes/syc-20352447'],\n",
       "       ['Vaginal candidiasis, also known as\\nYeast infection (vaginal)',\n",
       "        'https://www.mayoclinic.org/diseases-conditions/yeast-infection/symptoms-causes/syc-20378999'],\n",
       "       ['Vaginal fistula',\n",
       "        'https://www.mayoclinic.org/diseases-conditions/vaginal-fistulas/symptoms-causes/syc-20355762'],\n",
       "       ['Vaginal prolapse, posterior, also known as\\nPosterior vaginal prolapse (rectocele)',\n",
       "        'https://www.mayoclinic.org/diseases-conditions/rectocele/symptoms-causes/syc-20353414'],\n",
       "       ['Vaginitis',\n",
       "        'https://www.mayoclinic.org/diseases-conditions/vaginitis/symptoms-causes/syc-20354707'],\n",
       "       ['Valley fever',\n",
       "        'https://www.mayoclinic.org/diseases-conditions/valley-fever/symptoms-causes/syc-20378761'],\n",
       "       ['Valvular heart disease, also known as\\nHeart valve disease',\n",
       "        'https://www.mayoclinic.org/diseases-conditions/heart-valve-disease/symptoms-causes/syc-20353727'],\n",
       "       ['Variant CJD, also known as\\nCreutzfeldt-Jakob disease',\n",
       "        'https://www.mayoclinic.org/diseases-conditions/creutzfeldt-jakob-disease/symptoms-causes/syc-20371226'],\n",
       "       ['Varicella, also known as\\nChickenpox',\n",
       "        'https://www.mayoclinic.org/diseases-conditions/chickenpox/symptoms-causes/syc-20351282'],\n",
       "       ['Varices, esophageal, also known as\\nEsophageal varices',\n",
       "        'https://www.mayoclinic.org/diseases-conditions/esophageal-varices/symptoms-causes/syc-20351538'],\n",
       "       ['Varicocele',\n",
       "        'https://www.mayoclinic.org/diseases-conditions/varicocele/symptoms-causes/syc-20378771'],\n",
       "       ['Varicose veins',\n",
       "        'https://www.mayoclinic.org/diseases-conditions/varicose-veins/symptoms-causes/syc-20350643'],\n",
       "       ['Variola, also known as\\nSmallpox',\n",
       "        'https://www.mayoclinic.org/diseases-conditions/smallpox/symptoms-causes/syc-20353027'],\n",
       "       ['Vascular dementia',\n",
       "        'https://www.mayoclinic.org/diseases-conditions/vascular-dementia/symptoms-causes/syc-20378793'],\n",
       "       ['Vascular rings',\n",
       "        'https://www.mayoclinic.org/diseases-conditions/vascular-rings/cdc-20389579'],\n",
       "       ['Vasculitis',\n",
       "        'https://www.mayoclinic.org/diseases-conditions/vasculitis/symptoms-causes/syc-20363435'],\n",
       "       ['Vasomotor rhinitis, also known as\\nNonallergic rhinitis',\n",
       "        'https://www.mayoclinic.org/diseases-conditions/nonallergic-rhinitis/symptoms-causes/syc-20351229'],\n",
       "       ['Vasovagal syncope',\n",
       "        'https://www.mayoclinic.org/diseases-conditions/vasovagal-syncope/symptoms-causes/syc-20350527'],\n",
       "       ['vCJD, also known as\\nCreutzfeldt-Jakob disease',\n",
       "        'https://www.mayoclinic.org/diseases-conditions/creutzfeldt-jakob-disease/symptoms-causes/syc-20371226'],\n",
       "       ['Velocardiofacial syndrome, also known as\\nDiGeorge syndrome (22q11.2 deletion syndrome)',\n",
       "        'https://www.mayoclinic.org/diseases-conditions/digeorge-syndrome/symptoms-causes/syc-20353543'],\n",
       "       ['Venereal warts, also known as\\nGenital warts',\n",
       "        'https://www.mayoclinic.org/diseases-conditions/genital-warts/symptoms-causes/syc-20355234'],\n",
       "       ['Ventricular fibrillation',\n",
       "        'https://www.mayoclinic.org/diseases-conditions/ventricular-fibrillation/symptoms-causes/syc-20364523'],\n",
       "       ['Ventricular premature contraction, also known as\\nPremature ventricular contractions (PVCs)',\n",
       "        'https://www.mayoclinic.org/diseases-conditions/premature-ventricular-contractions/symptoms-causes/syc-20376757'],\n",
       "       ['Ventricular septal defect (VSD)',\n",
       "        'https://www.mayoclinic.org/diseases-conditions/ventricular-septal-defect/symptoms-causes/syc-20353495'],\n",
       "       ['Ventricular tachycardia',\n",
       "        'https://www.mayoclinic.org/diseases-conditions/ventricular-tachycardia/symptoms-causes/syc-20355138'],\n",
       "       ['Vertebral tumor',\n",
       "        'https://www.mayoclinic.org/diseases-conditions/vertebral-tumor/symptoms-causes/syc-20350123'],\n",
       "       ['Vesicoureteral reflux',\n",
       "        'https://www.mayoclinic.org/diseases-conditions/vesicoureteral-reflux/symptoms-causes/syc-20378819'],\n",
       "       ['Vestibular schwannoma, also known as\\nAcoustic neuroma',\n",
       "        'https://www.mayoclinic.org/diseases-conditions/acoustic-neuroma/symptoms-causes/syc-20356127'],\n",
       "       ['V-fib, also known as\\nVentricular fibrillation',\n",
       "        'https://www.mayoclinic.org/diseases-conditions/ventricular-fibrillation/symptoms-causes/syc-20364523'],\n",
       "       ['Viral gastroenteritis (stomach flu)',\n",
       "        'https://www.mayoclinic.org/diseases-conditions/viral-gastroenteritis/symptoms-causes/syc-20378847'],\n",
       "       ['Viral hemorrhagic fevers',\n",
       "        'https://www.mayoclinic.org/diseases-conditions/viral-hemorrhagic-fevers/symptoms-causes/syc-20351260'],\n",
       "       ['Vitamin deficiency anemia',\n",
       "        'https://www.mayoclinic.org/diseases-conditions/vitamin-deficiency-anemia/symptoms-causes/syc-20355025'],\n",
       "       ['Vitiligo',\n",
       "        'https://www.mayoclinic.org/diseases-conditions/vitiligo/symptoms-causes/syc-20355912'],\n",
       "       ['Vocal cord paralysis',\n",
       "        'https://www.mayoclinic.org/diseases-conditions/vocal-cord-paralysis/symptoms-causes/syc-20378873'],\n",
       "       ['Vocal fold paralysis, also known as\\nVocal cord paralysis',\n",
       "        'https://www.mayoclinic.org/diseases-conditions/vocal-cord-paralysis/symptoms-causes/syc-20378873'],\n",
       "       ['Voice disorders',\n",
       "        'https://www.mayoclinic.org/diseases-conditions/voice-disorders/symptoms-causes/syc-20353022'],\n",
       "       ['Von Willebrand disease',\n",
       "        'https://www.mayoclinic.org/diseases-conditions/von-willebrand-disease/symptoms-causes/syc-20354978'],\n",
       "       ['VPCs, also known as\\nPremature ventricular contractions (PVCs)',\n",
       "        'https://www.mayoclinic.org/diseases-conditions/premature-ventricular-contractions/symptoms-causes/syc-20376757'],\n",
       "       ['Vulvar cancer',\n",
       "        'https://www.mayoclinic.org/diseases-conditions/vulvar-cancer/symptoms-causes/syc-20368051'],\n",
       "       ['Vulvodynia',\n",
       "        'https://www.mayoclinic.org/diseases-conditions/vulvodynia/symptoms-causes/syc-20353423'],\n",
       "       ['Waldenstrom macroglobulinemia',\n",
       "        'https://www.mayoclinic.org/diseases-conditions/waldenstrom-macroglobulinemia/symptoms-causes/syc-20359967'],\n",
       "       ['Warts, common, also known as\\nCommon warts',\n",
       "        'https://www.mayoclinic.org/diseases-conditions/common-warts/symptoms-causes/syc-20371125'],\n",
       "       ['Warts, genital, also known as\\nGenital warts',\n",
       "        'https://www.mayoclinic.org/diseases-conditions/genital-warts/symptoms-causes/syc-20355234'],\n",
       "       ['Warts, plantar, also known as\\nPlantar warts',\n",
       "        'https://www.mayoclinic.org/diseases-conditions/plantar-warts/symptoms-causes/syc-20352691'],\n",
       "       ['Warts, venereal, also known as\\nGenital warts',\n",
       "        'https://www.mayoclinic.org/diseases-conditions/genital-warts/symptoms-causes/syc-20355234'],\n",
       "       ['Water on the knee, also known as\\nSwollen knee',\n",
       "        'https://www.mayoclinic.org/diseases-conditions/swollen-knee/symptoms-causes/syc-20378129'],\n",
       "       [\"Wegener's granulomatosis, also known as\\nGranulomatosis with polyangiitis\",\n",
       "        'https://www.mayoclinic.org/diseases-conditions/granulomatosis-with-polyangiitis/symptoms-causes/syc-20351088'],\n",
       "       ['Wermer syndrome, also known as\\nMultiple endocrine neoplasia, type 1 (MEN 1)',\n",
       "        'https://www.mayoclinic.org/diseases-conditions/men-1/symptoms-causes/syc-20353064'],\n",
       "       [\"Wermer's syndrome, also known as\\nMultiple endocrine neoplasia, type 1 (MEN 1)\",\n",
       "        'https://www.mayoclinic.org/diseases-conditions/men-1/symptoms-causes/syc-20353064'],\n",
       "       ['West Nile virus',\n",
       "        'https://www.mayoclinic.org/diseases-conditions/west-nile-virus/symptoms-causes/syc-20350320'],\n",
       "       ['Wet macular degeneration',\n",
       "        'https://www.mayoclinic.org/diseases-conditions/wet-macular-degeneration/symptoms-causes/syc-20351107'],\n",
       "       ['Wheat allergy',\n",
       "        'https://www.mayoclinic.org/diseases-conditions/wheat-allergy/symptoms-causes/syc-20378897'],\n",
       "       ['Whiplash',\n",
       "        'https://www.mayoclinic.org/diseases-conditions/whiplash/symptoms-causes/syc-20378921'],\n",
       "       [\"Whipple's disease\",\n",
       "        'https://www.mayoclinic.org/diseases-conditions/whipples-disease/symptoms-causes/syc-20378946'],\n",
       "       ['White blood cell disorders in children, also known as\\nPediatric white blood cell disorders',\n",
       "        'https://www.mayoclinic.org/diseases-conditions/pediatric-white-blood-cell-disorders/symptoms-causes/syc-20352674'],\n",
       "       ['Whiteheads, also known as\\nAcne',\n",
       "        'https://www.mayoclinic.org/diseases-conditions/acne/symptoms-causes/syc-20368047'],\n",
       "       ['Whooping cough',\n",
       "        'https://www.mayoclinic.org/diseases-conditions/whooping-cough/symptoms-causes/syc-20378973'],\n",
       "       [\"Wilms' tumor\",\n",
       "        'https://www.mayoclinic.org/diseases-conditions/wilms-tumor/symptoms-causes/syc-20352655'],\n",
       "       [\"Wilson's disease\",\n",
       "        'https://www.mayoclinic.org/diseases-conditions/wilsons-disease/symptoms-causes/syc-20353251'],\n",
       "       ['Wisdom teeth, impacted, also known as\\nImpacted wisdom teeth',\n",
       "        'https://www.mayoclinic.org/diseases-conditions/wisdom-teeth/symptoms-causes/syc-20373808'],\n",
       "       ['Wolff-Parkinson-White (WPW) syndrome',\n",
       "        'https://www.mayoclinic.org/diseases-conditions/wolff-parkinson-white-syndrome/symptoms-causes/syc-20354626'],\n",
       "       ['Wolff-Parkinson-White accessory pathway-related tachycardia, also known as\\nWolff-Parkinson-White (WPW) syndrome',\n",
       "        'https://www.mayoclinic.org/diseases-conditions/wolff-parkinson-white-syndrome/symptoms-causes/syc-20354626'],\n",
       "       ['Wrinkles',\n",
       "        'https://www.mayoclinic.org/diseases-conditions/wrinkles/symptoms-causes/syc-20354927'],\n",
       "       ['Wrist fracture, also known as\\nBroken wrist',\n",
       "        'https://www.mayoclinic.org/diseases-conditions/broken-wrist/symptoms-causes/syc-20353169'],\n",
       "       ['Wrist pain',\n",
       "        'https://www.mayoclinic.org/diseases-conditions/wrist-pain/symptoms-causes/syc-20366213'],\n",
       "       ['Xerosis, also known as\\nDry skin',\n",
       "        'https://www.mayoclinic.org/diseases-conditions/dry-skin/symptoms-causes/syc-20353885'],\n",
       "       ['Xerostomia, also known as\\nDry mouth',\n",
       "        'https://www.mayoclinic.org/diseases-conditions/dry-mouth/symptoms-causes/syc-20356048'],\n",
       "       ['X-linked agammaglobulinemia',\n",
       "        'https://www.mayoclinic.org/diseases-conditions/x-linked-agammaglobulinemia/symptoms-causes/syc-20361635'],\n",
       "       ['XXX syndrome, also known as\\nTriple X syndrome',\n",
       "        'https://www.mayoclinic.org/diseases-conditions/triple-x-syndrome/symptoms-causes/syc-20350977'],\n",
       "       ['Yeast infection (vaginal)',\n",
       "        'https://www.mayoclinic.org/diseases-conditions/yeast-infection/symptoms-causes/syc-20378999'],\n",
       "       ['Yellow fever',\n",
       "        'https://www.mayoclinic.org/diseases-conditions/yellow-fever/symptoms-causes/syc-20353045'],\n",
       "       ['Yersinia pestis, also known as\\nPlague',\n",
       "        'https://www.mayoclinic.org/diseases-conditions/plague/symptoms-causes/syc-20351291'],\n",
       "       ['Yips',\n",
       "        'https://www.mayoclinic.org/diseases-conditions/yips/symptoms-causes/syc-20379021'],\n",
       "       ['Zika virus',\n",
       "        'https://www.mayoclinic.org/diseases-conditions/zika-virus/symptoms-causes/syc-20353639'],\n",
       "       ['Zollinger-Ellison syndrome',\n",
       "        'https://www.mayoclinic.org/diseases-conditions/zollinger-ellison-syndrome/symptoms-causes/syc-20379042'],\n",
       "       ['Zoster, also known as\\nShingles',\n",
       "        'https://www.mayoclinic.org/diseases-conditions/shingles/symptoms-causes/syc-20353054']],\n",
       "      dtype=object)"
      ]
     },
     "execution_count": 11,
     "metadata": {},
     "output_type": "execute_result"
    }
   ],
   "source": [
    "df.to_numpy()[1990:]"
   ]
  },
  {
   "cell_type": "code",
   "execution_count": 12,
   "id": "6893629e",
   "metadata": {
    "scrolled": true
   },
   "outputs": [
    {
     "name": "stderr",
     "output_type": "stream",
     "text": [
      "\r",
      "  0%|                                                  | 0/203 [00:00<?, ?it/s]"
     ]
    },
    {
     "name": "stdout",
     "output_type": "stream",
     "text": [
      "\n"
     ]
    },
    {
     "name": "stderr",
     "output_type": "stream",
     "text": [
      "C:\\Users\\ikath\\AppData\\Local\\Temp\\ipykernel_19092\\3910751785.py:2: DeprecationWarning: executable_path has been deprecated, please pass in a Service object\n",
      "  driver = webdriver.Chrome(\n",
      "  0%|▏                                         | 1/203 [00:09<30:38,  9.10s/it]"
     ]
    },
    {
     "name": "stdout",
     "output_type": "stream",
     "text": [
      "\n"
     ]
    },
    {
     "name": "stderr",
     "output_type": "stream",
     "text": [
      "\r",
      "  1%|▍                                         | 2/203 [00:22<39:26, 11.77s/it]"
     ]
    },
    {
     "name": "stdout",
     "output_type": "stream",
     "text": [
      "\n"
     ]
    },
    {
     "name": "stderr",
     "output_type": "stream",
     "text": [
      "\r",
      "  1%|▌                                         | 3/203 [00:29<31:29,  9.45s/it]"
     ]
    },
    {
     "name": "stdout",
     "output_type": "stream",
     "text": [
      "\n"
     ]
    },
    {
     "name": "stderr",
     "output_type": "stream",
     "text": [
      "\r",
      "  2%|▊                                         | 4/203 [00:39<32:39,  9.85s/it]"
     ]
    },
    {
     "name": "stdout",
     "output_type": "stream",
     "text": [
      "\n"
     ]
    },
    {
     "name": "stderr",
     "output_type": "stream",
     "text": [
      "\r",
      "  2%|█                                         | 5/203 [00:50<32:56,  9.98s/it]"
     ]
    },
    {
     "name": "stdout",
     "output_type": "stream",
     "text": [
      "\n"
     ]
    },
    {
     "name": "stderr",
     "output_type": "stream",
     "text": [
      "\r",
      "  3%|█▏                                        | 6/203 [00:59<31:35,  9.62s/it]"
     ]
    },
    {
     "name": "stdout",
     "output_type": "stream",
     "text": [
      "\n"
     ]
    },
    {
     "name": "stderr",
     "output_type": "stream",
     "text": [
      "\r",
      "  3%|█▍                                        | 7/203 [01:05<28:09,  8.62s/it]"
     ]
    },
    {
     "name": "stdout",
     "output_type": "stream",
     "text": [
      "\n"
     ]
    },
    {
     "name": "stderr",
     "output_type": "stream",
     "text": [
      "\r",
      "  4%|█▋                                        | 8/203 [01:13<27:38,  8.51s/it]"
     ]
    },
    {
     "name": "stdout",
     "output_type": "stream",
     "text": [
      "\n"
     ]
    },
    {
     "name": "stderr",
     "output_type": "stream",
     "text": [
      "\r",
      "  4%|█▊                                        | 9/203 [01:21<26:37,  8.23s/it]"
     ]
    },
    {
     "name": "stdout",
     "output_type": "stream",
     "text": [
      "\n"
     ]
    },
    {
     "name": "stderr",
     "output_type": "stream",
     "text": [
      "\r",
      "  5%|██                                       | 10/203 [01:31<28:13,  8.77s/it]"
     ]
    },
    {
     "name": "stdout",
     "output_type": "stream",
     "text": [
      "\n"
     ]
    },
    {
     "name": "stderr",
     "output_type": "stream",
     "text": [
      "\r",
      "  5%|██▏                                      | 11/203 [01:40<28:37,  8.95s/it]"
     ]
    },
    {
     "name": "stdout",
     "output_type": "stream",
     "text": [
      "\n"
     ]
    },
    {
     "name": "stderr",
     "output_type": "stream",
     "text": [
      "\r",
      "  6%|██▍                                      | 12/203 [01:47<26:07,  8.21s/it]"
     ]
    },
    {
     "name": "stdout",
     "output_type": "stream",
     "text": [
      "\n"
     ]
    },
    {
     "name": "stderr",
     "output_type": "stream",
     "text": [
      "\r",
      "  6%|██▋                                      | 13/203 [01:58<29:09,  9.21s/it]"
     ]
    },
    {
     "name": "stdout",
     "output_type": "stream",
     "text": [
      "\n"
     ]
    },
    {
     "name": "stderr",
     "output_type": "stream",
     "text": [
      "\r",
      "  7%|██▊                                      | 14/203 [02:06<27:44,  8.80s/it]"
     ]
    },
    {
     "name": "stdout",
     "output_type": "stream",
     "text": [
      "\n"
     ]
    },
    {
     "name": "stderr",
     "output_type": "stream",
     "text": [
      "\r",
      "  7%|███                                      | 15/203 [02:13<25:30,  8.14s/it]"
     ]
    },
    {
     "name": "stdout",
     "output_type": "stream",
     "text": [
      "\n"
     ]
    },
    {
     "name": "stderr",
     "output_type": "stream",
     "text": [
      "\r",
      "  8%|███▏                                     | 16/203 [02:20<24:13,  7.77s/it]"
     ]
    },
    {
     "name": "stdout",
     "output_type": "stream",
     "text": [
      "\n"
     ]
    },
    {
     "name": "stderr",
     "output_type": "stream",
     "text": [
      "\r",
      "  8%|███▍                                     | 17/203 [02:28<24:06,  7.78s/it]"
     ]
    },
    {
     "name": "stdout",
     "output_type": "stream",
     "text": [
      "\n"
     ]
    },
    {
     "name": "stderr",
     "output_type": "stream",
     "text": [
      "\r",
      "  9%|███▋                                     | 18/203 [02:41<29:18,  9.51s/it]"
     ]
    },
    {
     "name": "stdout",
     "output_type": "stream",
     "text": [
      "\n"
     ]
    },
    {
     "name": "stderr",
     "output_type": "stream",
     "text": [
      "\r",
      "  9%|███▊                                     | 19/203 [02:49<27:46,  9.06s/it]"
     ]
    },
    {
     "name": "stdout",
     "output_type": "stream",
     "text": [
      "\n"
     ]
    },
    {
     "name": "stderr",
     "output_type": "stream",
     "text": [
      "\r",
      " 10%|████                                     | 20/203 [02:57<26:43,  8.76s/it]"
     ]
    },
    {
     "name": "stdout",
     "output_type": "stream",
     "text": [
      "\n"
     ]
    },
    {
     "name": "stderr",
     "output_type": "stream",
     "text": [
      "\r",
      " 10%|████▏                                    | 21/203 [03:05<25:34,  8.43s/it]"
     ]
    },
    {
     "name": "stdout",
     "output_type": "stream",
     "text": [
      "\n"
     ]
    },
    {
     "name": "stderr",
     "output_type": "stream",
     "text": [
      "\r",
      " 11%|████▍                                    | 22/203 [03:12<24:44,  8.20s/it]"
     ]
    },
    {
     "name": "stdout",
     "output_type": "stream",
     "text": [
      "\n"
     ]
    },
    {
     "name": "stderr",
     "output_type": "stream",
     "text": [
      "\r",
      " 11%|████▋                                    | 23/203 [03:26<29:09,  9.72s/it]"
     ]
    },
    {
     "name": "stdout",
     "output_type": "stream",
     "text": [
      "\n"
     ]
    },
    {
     "name": "stderr",
     "output_type": "stream",
     "text": [
      "\r",
      " 12%|████▊                                    | 24/203 [03:36<29:17,  9.82s/it]"
     ]
    },
    {
     "name": "stdout",
     "output_type": "stream",
     "text": [
      "\n"
     ]
    },
    {
     "name": "stderr",
     "output_type": "stream",
     "text": [
      "\r",
      " 12%|█████                                    | 25/203 [03:50<33:13, 11.20s/it]"
     ]
    },
    {
     "name": "stdout",
     "output_type": "stream",
     "text": [
      "\n"
     ]
    },
    {
     "name": "stderr",
     "output_type": "stream",
     "text": [
      "\r",
      " 13%|█████▎                                   | 26/203 [04:01<32:35, 11.05s/it]"
     ]
    },
    {
     "name": "stdout",
     "output_type": "stream",
     "text": [
      "\n"
     ]
    },
    {
     "name": "stderr",
     "output_type": "stream",
     "text": [
      "\r",
      " 13%|█████▍                                   | 27/203 [04:11<31:39, 10.79s/it]"
     ]
    },
    {
     "name": "stdout",
     "output_type": "stream",
     "text": [
      "\n"
     ]
    },
    {
     "name": "stderr",
     "output_type": "stream",
     "text": [
      "\r",
      " 14%|█████▋                                   | 28/203 [04:18<28:00,  9.60s/it]"
     ]
    },
    {
     "name": "stdout",
     "output_type": "stream",
     "text": [
      "\n"
     ]
    },
    {
     "name": "stderr",
     "output_type": "stream",
     "text": [
      "\r",
      " 14%|█████▊                                   | 29/203 [04:25<25:18,  8.73s/it]"
     ]
    },
    {
     "name": "stdout",
     "output_type": "stream",
     "text": [
      "\n"
     ]
    },
    {
     "name": "stderr",
     "output_type": "stream",
     "text": [
      "\r",
      " 15%|██████                                   | 30/203 [04:35<26:22,  9.15s/it]"
     ]
    },
    {
     "name": "stdout",
     "output_type": "stream",
     "text": [
      "\n"
     ]
    },
    {
     "name": "stderr",
     "output_type": "stream",
     "text": [
      "\r",
      " 15%|██████▎                                  | 31/203 [04:41<23:53,  8.33s/it]"
     ]
    },
    {
     "name": "stdout",
     "output_type": "stream",
     "text": [
      "\n"
     ]
    },
    {
     "name": "stderr",
     "output_type": "stream",
     "text": [
      "\r",
      " 16%|██████▍                                  | 32/203 [04:49<23:02,  8.09s/it]"
     ]
    },
    {
     "name": "stdout",
     "output_type": "stream",
     "text": [
      "\n"
     ]
    },
    {
     "name": "stderr",
     "output_type": "stream",
     "text": [
      "\r",
      " 16%|██████▋                                  | 33/203 [04:57<22:46,  8.04s/it]"
     ]
    },
    {
     "name": "stdout",
     "output_type": "stream",
     "text": [
      "\n"
     ]
    },
    {
     "name": "stderr",
     "output_type": "stream",
     "text": [
      "\r",
      " 17%|██████▊                                  | 34/203 [05:06<23:29,  8.34s/it]"
     ]
    },
    {
     "name": "stdout",
     "output_type": "stream",
     "text": [
      "\n"
     ]
    },
    {
     "name": "stderr",
     "output_type": "stream",
     "text": [
      "\r",
      " 17%|███████                                  | 35/203 [05:14<23:29,  8.39s/it]"
     ]
    },
    {
     "name": "stdout",
     "output_type": "stream",
     "text": [
      "\n"
     ]
    },
    {
     "name": "stderr",
     "output_type": "stream",
     "text": [
      "\r",
      " 18%|███████▎                                 | 36/203 [05:24<24:13,  8.70s/it]"
     ]
    },
    {
     "name": "stdout",
     "output_type": "stream",
     "text": [
      "\n"
     ]
    },
    {
     "name": "stderr",
     "output_type": "stream",
     "text": [
      "\r",
      " 18%|███████▍                                 | 37/203 [05:30<22:03,  7.97s/it]"
     ]
    },
    {
     "name": "stdout",
     "output_type": "stream",
     "text": [
      "\n"
     ]
    },
    {
     "name": "stderr",
     "output_type": "stream",
     "text": [
      "\r",
      " 19%|███████▋                                 | 38/203 [05:42<25:15,  9.19s/it]"
     ]
    },
    {
     "name": "stdout",
     "output_type": "stream",
     "text": [
      "\n"
     ]
    },
    {
     "name": "stderr",
     "output_type": "stream",
     "text": [
      "\r",
      " 19%|███████▉                                 | 39/203 [05:49<23:14,  8.50s/it]"
     ]
    },
    {
     "name": "stdout",
     "output_type": "stream",
     "text": [
      "\n"
     ]
    },
    {
     "name": "stderr",
     "output_type": "stream",
     "text": [
      "\r",
      " 20%|████████                                 | 40/203 [05:55<21:29,  7.91s/it]"
     ]
    },
    {
     "name": "stdout",
     "output_type": "stream",
     "text": [
      "\n"
     ]
    },
    {
     "name": "stderr",
     "output_type": "stream",
     "text": [
      "\r",
      " 20%|████████▎                                | 41/203 [06:04<21:40,  8.03s/it]"
     ]
    },
    {
     "name": "stdout",
     "output_type": "stream",
     "text": [
      "\n"
     ]
    },
    {
     "name": "stderr",
     "output_type": "stream",
     "text": [
      "\r",
      " 21%|████████▍                                | 42/203 [06:13<22:24,  8.35s/it]"
     ]
    },
    {
     "name": "stdout",
     "output_type": "stream",
     "text": [
      "\n"
     ]
    },
    {
     "name": "stderr",
     "output_type": "stream",
     "text": [
      "\r",
      " 21%|████████▋                                | 43/203 [06:19<20:43,  7.77s/it]"
     ]
    },
    {
     "name": "stdout",
     "output_type": "stream",
     "text": [
      "\n"
     ]
    },
    {
     "name": "stderr",
     "output_type": "stream",
     "text": [
      "\r",
      " 22%|████████▉                                | 44/203 [06:28<21:13,  8.01s/it]"
     ]
    },
    {
     "name": "stdout",
     "output_type": "stream",
     "text": [
      "\n"
     ]
    },
    {
     "name": "stderr",
     "output_type": "stream",
     "text": [
      "\r",
      " 22%|█████████                                | 45/203 [06:34<19:46,  7.51s/it]"
     ]
    },
    {
     "name": "stdout",
     "output_type": "stream",
     "text": [
      "\n"
     ]
    },
    {
     "name": "stderr",
     "output_type": "stream",
     "text": [
      "\r",
      " 23%|█████████▎                               | 46/203 [06:43<20:46,  7.94s/it]"
     ]
    },
    {
     "name": "stdout",
     "output_type": "stream",
     "text": [
      "\n"
     ]
    },
    {
     "name": "stderr",
     "output_type": "stream",
     "text": [
      "\r",
      " 23%|█████████▍                               | 47/203 [06:56<24:14,  9.33s/it]"
     ]
    },
    {
     "name": "stdout",
     "output_type": "stream",
     "text": [
      "\n"
     ]
    },
    {
     "name": "stderr",
     "output_type": "stream",
     "text": [
      "\r",
      " 24%|█████████▋                               | 48/203 [07:06<24:45,  9.58s/it]"
     ]
    },
    {
     "name": "stdout",
     "output_type": "stream",
     "text": [
      "\n"
     ]
    },
    {
     "name": "stderr",
     "output_type": "stream",
     "text": [
      "\r",
      " 24%|█████████▉                               | 49/203 [07:18<26:59, 10.52s/it]"
     ]
    },
    {
     "name": "stdout",
     "output_type": "stream",
     "text": [
      "\n"
     ]
    },
    {
     "name": "stderr",
     "output_type": "stream",
     "text": [
      "\r",
      " 25%|██████████                               | 50/203 [07:25<24:04,  9.44s/it]"
     ]
    },
    {
     "name": "stdout",
     "output_type": "stream",
     "text": [
      "\n"
     ]
    },
    {
     "name": "stderr",
     "output_type": "stream",
     "text": [
      "\r",
      " 25%|██████████▎                              | 51/203 [07:34<23:12,  9.16s/it]"
     ]
    },
    {
     "name": "stdout",
     "output_type": "stream",
     "text": [
      "\n"
     ]
    },
    {
     "name": "stderr",
     "output_type": "stream",
     "text": [
      "\r",
      " 26%|██████████▌                              | 52/203 [07:40<21:03,  8.37s/it]"
     ]
    },
    {
     "name": "stdout",
     "output_type": "stream",
     "text": [
      "\n"
     ]
    },
    {
     "name": "stderr",
     "output_type": "stream",
     "text": [
      "\r",
      " 26%|██████████▋                              | 53/203 [07:50<21:36,  8.65s/it]"
     ]
    },
    {
     "name": "stdout",
     "output_type": "stream",
     "text": [
      "\n"
     ]
    },
    {
     "name": "stderr",
     "output_type": "stream",
     "text": [
      "\r",
      " 27%|██████████▉                              | 54/203 [08:02<24:15,  9.77s/it]"
     ]
    },
    {
     "name": "stdout",
     "output_type": "stream",
     "text": [
      "\n"
     ]
    },
    {
     "name": "stderr",
     "output_type": "stream",
     "text": [
      "\r",
      " 27%|███████████                              | 55/203 [08:09<22:20,  9.06s/it]"
     ]
    },
    {
     "name": "stdout",
     "output_type": "stream",
     "text": [
      "\n"
     ]
    },
    {
     "name": "stderr",
     "output_type": "stream",
     "text": [
      "\r",
      " 28%|███████████▎                             | 56/203 [08:17<21:15,  8.68s/it]"
     ]
    },
    {
     "name": "stdout",
     "output_type": "stream",
     "text": [
      "\n"
     ]
    },
    {
     "name": "stderr",
     "output_type": "stream",
     "text": [
      "\r",
      " 28%|███████████▌                             | 57/203 [08:28<22:53,  9.41s/it]"
     ]
    },
    {
     "name": "stdout",
     "output_type": "stream",
     "text": [
      "\n"
     ]
    },
    {
     "name": "stderr",
     "output_type": "stream",
     "text": [
      "\r",
      " 29%|███████████▋                             | 58/203 [08:43<26:19, 10.89s/it]"
     ]
    },
    {
     "name": "stdout",
     "output_type": "stream",
     "text": [
      "\n"
     ]
    },
    {
     "name": "stderr",
     "output_type": "stream",
     "text": [
      "\r",
      " 29%|███████████▉                             | 59/203 [08:55<27:13, 11.34s/it]"
     ]
    },
    {
     "name": "stdout",
     "output_type": "stream",
     "text": [
      "\n"
     ]
    },
    {
     "name": "stderr",
     "output_type": "stream",
     "text": [
      "\r",
      " 30%|████████████                             | 60/203 [09:03<24:31, 10.29s/it]"
     ]
    },
    {
     "name": "stdout",
     "output_type": "stream",
     "text": [
      "\n"
     ]
    },
    {
     "name": "stderr",
     "output_type": "stream",
     "text": [
      "\r",
      " 30%|████████████▎                            | 61/203 [09:12<23:50, 10.07s/it]"
     ]
    },
    {
     "name": "stdout",
     "output_type": "stream",
     "text": [
      "\n"
     ]
    },
    {
     "name": "stderr",
     "output_type": "stream",
     "text": [
      "\r",
      " 31%|████████████▌                            | 62/203 [09:23<24:02, 10.23s/it]"
     ]
    },
    {
     "name": "stdout",
     "output_type": "stream",
     "text": [
      "\n"
     ]
    },
    {
     "name": "stderr",
     "output_type": "stream",
     "text": [
      "\r",
      " 31%|████████████▋                            | 63/203 [09:30<21:33,  9.24s/it]"
     ]
    },
    {
     "name": "stdout",
     "output_type": "stream",
     "text": [
      "\n"
     ]
    },
    {
     "name": "stderr",
     "output_type": "stream",
     "text": [
      "\r",
      " 32%|████████████▉                            | 64/203 [09:36<19:23,  8.37s/it]"
     ]
    },
    {
     "name": "stdout",
     "output_type": "stream",
     "text": [
      "\n"
     ]
    },
    {
     "name": "stderr",
     "output_type": "stream",
     "text": [
      "\r",
      " 32%|█████████████▏                           | 65/203 [09:56<27:18, 11.87s/it]"
     ]
    },
    {
     "name": "stdout",
     "output_type": "stream",
     "text": [
      "\n"
     ]
    },
    {
     "name": "stderr",
     "output_type": "stream",
     "text": [
      "\r",
      " 33%|█████████████▎                           | 66/203 [10:08<27:09, 11.89s/it]"
     ]
    },
    {
     "name": "stdout",
     "output_type": "stream",
     "text": [
      "\n"
     ]
    },
    {
     "name": "stderr",
     "output_type": "stream",
     "text": [
      "\r",
      " 33%|█████████████▌                           | 67/203 [10:23<28:41, 12.66s/it]"
     ]
    },
    {
     "name": "stdout",
     "output_type": "stream",
     "text": [
      "\n"
     ]
    },
    {
     "name": "stderr",
     "output_type": "stream",
     "text": [
      "\r",
      " 33%|█████████████▋                           | 68/203 [10:29<24:26, 10.86s/it]"
     ]
    },
    {
     "name": "stdout",
     "output_type": "stream",
     "text": [
      "\n"
     ]
    },
    {
     "name": "stderr",
     "output_type": "stream",
     "text": [
      "\r",
      " 34%|█████████████▉                           | 69/203 [10:37<22:13,  9.95s/it]"
     ]
    },
    {
     "name": "stdout",
     "output_type": "stream",
     "text": [
      "\n"
     ]
    },
    {
     "name": "stderr",
     "output_type": "stream",
     "text": [
      "\r",
      " 34%|██████████████▏                          | 70/203 [10:47<21:37,  9.75s/it]"
     ]
    },
    {
     "name": "stdout",
     "output_type": "stream",
     "text": [
      "\n"
     ]
    },
    {
     "name": "stderr",
     "output_type": "stream",
     "text": [
      "\r",
      " 35%|██████████████▎                          | 71/203 [10:58<22:41, 10.32s/it]"
     ]
    },
    {
     "name": "stdout",
     "output_type": "stream",
     "text": [
      "\n"
     ]
    },
    {
     "name": "stderr",
     "output_type": "stream",
     "text": [
      "\r",
      " 35%|██████████████▌                          | 72/203 [11:07<21:40,  9.93s/it]"
     ]
    },
    {
     "name": "stdout",
     "output_type": "stream",
     "text": [
      "\n"
     ]
    },
    {
     "name": "stderr",
     "output_type": "stream",
     "text": [
      "\r",
      " 36%|██████████████▋                          | 73/203 [11:20<23:37, 10.90s/it]"
     ]
    },
    {
     "name": "stdout",
     "output_type": "stream",
     "text": [
      "\n"
     ]
    },
    {
     "name": "stderr",
     "output_type": "stream",
     "text": [
      "\r",
      " 36%|██████████████▉                          | 74/203 [11:32<24:06, 11.21s/it]"
     ]
    },
    {
     "name": "stdout",
     "output_type": "stream",
     "text": [
      "\n"
     ]
    },
    {
     "name": "stderr",
     "output_type": "stream",
     "text": [
      "\r",
      " 37%|███████████████▏                         | 75/203 [11:44<24:30, 11.49s/it]"
     ]
    },
    {
     "name": "stdout",
     "output_type": "stream",
     "text": [
      "\n"
     ]
    },
    {
     "name": "stderr",
     "output_type": "stream",
     "text": [
      "\r",
      " 37%|███████████████▎                         | 76/203 [12:05<29:51, 14.11s/it]"
     ]
    },
    {
     "name": "stdout",
     "output_type": "stream",
     "text": [
      "\n"
     ]
    },
    {
     "name": "stderr",
     "output_type": "stream",
     "text": [
      "\r",
      " 38%|███████████████▌                         | 77/203 [12:17<28:10, 13.42s/it]"
     ]
    },
    {
     "name": "stdout",
     "output_type": "stream",
     "text": [
      "\n"
     ]
    },
    {
     "name": "stderr",
     "output_type": "stream",
     "text": [
      "\r",
      " 38%|███████████████▊                         | 78/203 [12:27<25:53, 12.43s/it]"
     ]
    },
    {
     "name": "stdout",
     "output_type": "stream",
     "text": [
      "\n"
     ]
    },
    {
     "name": "stderr",
     "output_type": "stream",
     "text": [
      "\r",
      " 39%|███████████████▉                         | 79/203 [12:36<23:37, 11.43s/it]"
     ]
    },
    {
     "name": "stdout",
     "output_type": "stream",
     "text": [
      "\n"
     ]
    },
    {
     "name": "stderr",
     "output_type": "stream",
     "text": [
      "\r",
      " 39%|████████████████▏                        | 80/203 [12:44<21:26, 10.46s/it]"
     ]
    },
    {
     "name": "stdout",
     "output_type": "stream",
     "text": [
      "\n"
     ]
    },
    {
     "name": "stderr",
     "output_type": "stream",
     "text": [
      "\r",
      " 40%|████████████████▎                        | 81/203 [12:50<18:46,  9.23s/it]"
     ]
    },
    {
     "name": "stdout",
     "output_type": "stream",
     "text": [
      "\n"
     ]
    },
    {
     "name": "stderr",
     "output_type": "stream",
     "text": [
      "\r",
      " 40%|████████████████▌                        | 82/203 [12:59<18:34,  9.21s/it]"
     ]
    },
    {
     "name": "stdout",
     "output_type": "stream",
     "text": [
      "\n"
     ]
    },
    {
     "name": "stderr",
     "output_type": "stream",
     "text": [
      "\r",
      " 41%|████████████████▊                        | 83/203 [13:08<18:06,  9.05s/it]"
     ]
    },
    {
     "name": "stdout",
     "output_type": "stream",
     "text": [
      "\n"
     ]
    },
    {
     "name": "stderr",
     "output_type": "stream",
     "text": [
      "\r",
      " 41%|████████████████▉                        | 84/203 [13:17<17:53,  9.02s/it]"
     ]
    },
    {
     "name": "stdout",
     "output_type": "stream",
     "text": [
      "\n"
     ]
    },
    {
     "name": "stderr",
     "output_type": "stream",
     "text": [
      "\r",
      " 42%|█████████████████▏                       | 85/203 [13:30<20:02, 10.19s/it]"
     ]
    },
    {
     "name": "stdout",
     "output_type": "stream",
     "text": [
      "\n"
     ]
    },
    {
     "name": "stderr",
     "output_type": "stream",
     "text": [
      "\r",
      " 42%|█████████████████▎                       | 86/203 [13:43<21:21, 10.95s/it]"
     ]
    },
    {
     "name": "stdout",
     "output_type": "stream",
     "text": [
      "\n"
     ]
    },
    {
     "name": "stderr",
     "output_type": "stream",
     "text": [
      "\r",
      " 43%|█████████████████▌                       | 87/203 [13:59<24:21, 12.60s/it]"
     ]
    },
    {
     "name": "stdout",
     "output_type": "stream",
     "text": [
      "\n"
     ]
    },
    {
     "name": "stderr",
     "output_type": "stream",
     "text": [
      "\r",
      " 43%|█████████████████▊                       | 88/203 [14:08<21:57, 11.45s/it]"
     ]
    },
    {
     "name": "stdout",
     "output_type": "stream",
     "text": [
      "\n"
     ]
    },
    {
     "name": "stderr",
     "output_type": "stream",
     "text": [
      "\r",
      " 44%|█████████████████▉                       | 89/203 [14:29<27:07, 14.27s/it]"
     ]
    },
    {
     "name": "stdout",
     "output_type": "stream",
     "text": [
      "\n"
     ]
    },
    {
     "name": "stderr",
     "output_type": "stream",
     "text": [
      "\r",
      " 44%|██████████████████▏                      | 90/203 [14:44<27:09, 14.42s/it]"
     ]
    },
    {
     "name": "stdout",
     "output_type": "stream",
     "text": [
      "\n"
     ]
    },
    {
     "name": "stderr",
     "output_type": "stream",
     "text": [
      "\r",
      " 45%|██████████████████▍                      | 91/203 [14:55<25:01, 13.41s/it]"
     ]
    },
    {
     "name": "stdout",
     "output_type": "stream",
     "text": [
      "\n"
     ]
    },
    {
     "name": "stderr",
     "output_type": "stream",
     "text": [
      "\r",
      " 45%|██████████████████▌                      | 92/203 [15:08<24:55, 13.48s/it]"
     ]
    },
    {
     "name": "stdout",
     "output_type": "stream",
     "text": [
      "\n"
     ]
    },
    {
     "name": "stderr",
     "output_type": "stream",
     "text": [
      "\r",
      " 46%|██████████████████▊                      | 93/203 [15:36<32:38, 17.80s/it]"
     ]
    },
    {
     "name": "stdout",
     "output_type": "stream",
     "text": [
      "\n"
     ]
    },
    {
     "name": "stderr",
     "output_type": "stream",
     "text": [
      "\r",
      " 46%|██████████████████▉                      | 94/203 [15:49<29:46, 16.39s/it]"
     ]
    },
    {
     "name": "stdout",
     "output_type": "stream",
     "text": [
      "\n"
     ]
    },
    {
     "name": "stderr",
     "output_type": "stream",
     "text": [
      "\r",
      " 47%|███████████████████▏                     | 95/203 [16:03<27:57, 15.53s/it]"
     ]
    },
    {
     "name": "stdout",
     "output_type": "stream",
     "text": [
      "\n"
     ]
    },
    {
     "name": "stderr",
     "output_type": "stream",
     "text": [
      "\r",
      " 47%|███████████████████▍                     | 96/203 [16:09<22:54, 12.84s/it]"
     ]
    },
    {
     "name": "stdout",
     "output_type": "stream",
     "text": [
      "\n"
     ]
    },
    {
     "name": "stderr",
     "output_type": "stream",
     "text": [
      "\r",
      " 48%|███████████████████▌                     | 97/203 [16:22<22:30, 12.74s/it]"
     ]
    },
    {
     "name": "stdout",
     "output_type": "stream",
     "text": [
      "\n"
     ]
    },
    {
     "name": "stderr",
     "output_type": "stream",
     "text": [
      "\r",
      " 48%|███████████████████▊                     | 98/203 [16:28<18:59, 10.85s/it]"
     ]
    },
    {
     "name": "stdout",
     "output_type": "stream",
     "text": [
      "\n"
     ]
    },
    {
     "name": "stderr",
     "output_type": "stream",
     "text": [
      "\r",
      " 49%|███████████████████▉                     | 99/203 [16:35<16:44,  9.66s/it]"
     ]
    },
    {
     "name": "stdout",
     "output_type": "stream",
     "text": [
      "\n"
     ]
    },
    {
     "name": "stderr",
     "output_type": "stream",
     "text": [
      "\r",
      " 49%|███████████████████▋                    | 100/203 [16:41<14:43,  8.58s/it]"
     ]
    },
    {
     "name": "stdout",
     "output_type": "stream",
     "text": [
      "\n"
     ]
    },
    {
     "name": "stderr",
     "output_type": "stream",
     "text": [
      "\r",
      " 50%|███████████████████▉                    | 101/203 [16:53<16:03,  9.45s/it]"
     ]
    },
    {
     "name": "stdout",
     "output_type": "stream",
     "text": [
      "\n"
     ]
    },
    {
     "name": "stderr",
     "output_type": "stream",
     "text": [
      "\r",
      " 50%|████████████████████                    | 102/203 [17:00<15:02,  8.93s/it]"
     ]
    },
    {
     "name": "stdout",
     "output_type": "stream",
     "text": [
      "\n"
     ]
    },
    {
     "name": "stderr",
     "output_type": "stream",
     "text": [
      "\r",
      " 51%|████████████████████▎                   | 103/203 [17:07<13:44,  8.24s/it]"
     ]
    },
    {
     "name": "stdout",
     "output_type": "stream",
     "text": [
      "\n"
     ]
    },
    {
     "name": "stderr",
     "output_type": "stream",
     "text": [
      "\r",
      " 51%|████████████████████▍                   | 104/203 [17:20<16:06,  9.77s/it]"
     ]
    },
    {
     "name": "stdout",
     "output_type": "stream",
     "text": [
      "\n"
     ]
    },
    {
     "name": "stderr",
     "output_type": "stream",
     "text": [
      "\r",
      " 52%|████████████████████▋                   | 105/203 [17:30<15:46,  9.65s/it]"
     ]
    },
    {
     "name": "stdout",
     "output_type": "stream",
     "text": [
      "\n"
     ]
    },
    {
     "name": "stderr",
     "output_type": "stream",
     "text": [
      "\r",
      " 52%|████████████████████▉                   | 106/203 [17:43<17:11, 10.64s/it]"
     ]
    },
    {
     "name": "stdout",
     "output_type": "stream",
     "text": [
      "\n"
     ]
    },
    {
     "name": "stderr",
     "output_type": "stream",
     "text": [
      "\r",
      " 53%|█████████████████████                   | 107/203 [17:53<16:42, 10.44s/it]"
     ]
    },
    {
     "name": "stdout",
     "output_type": "stream",
     "text": [
      "\n"
     ]
    },
    {
     "name": "stderr",
     "output_type": "stream",
     "text": [
      "\r",
      " 53%|█████████████████████▎                  | 108/203 [18:02<16:05, 10.17s/it]"
     ]
    },
    {
     "name": "stdout",
     "output_type": "stream",
     "text": [
      "\n"
     ]
    },
    {
     "name": "stderr",
     "output_type": "stream",
     "text": [
      "\r",
      " 54%|█████████████████████▍                  | 109/203 [18:10<14:38,  9.35s/it]"
     ]
    },
    {
     "name": "stdout",
     "output_type": "stream",
     "text": [
      "\n"
     ]
    },
    {
     "name": "stderr",
     "output_type": "stream",
     "text": [
      "\r",
      " 54%|█████████████████████▋                  | 110/203 [18:17<13:21,  8.62s/it]"
     ]
    },
    {
     "name": "stdout",
     "output_type": "stream",
     "text": [
      "\n"
     ]
    },
    {
     "name": "stderr",
     "output_type": "stream",
     "text": [
      "\r",
      " 55%|█████████████████████▊                  | 111/203 [18:31<15:52, 10.36s/it]"
     ]
    },
    {
     "name": "stdout",
     "output_type": "stream",
     "text": [
      "\n"
     ]
    },
    {
     "name": "stderr",
     "output_type": "stream",
     "text": [
      "\r",
      " 55%|██████████████████████                  | 112/203 [18:37<13:52,  9.15s/it]"
     ]
    },
    {
     "name": "stdout",
     "output_type": "stream",
     "text": [
      "\n"
     ]
    },
    {
     "name": "stderr",
     "output_type": "stream",
     "text": [
      "\r",
      " 56%|██████████████████████▎                 | 113/203 [18:44<12:26,  8.29s/it]"
     ]
    },
    {
     "name": "stdout",
     "output_type": "stream",
     "text": [
      "\n"
     ]
    },
    {
     "name": "stderr",
     "output_type": "stream",
     "text": [
      "\r",
      " 56%|██████████████████████▍                 | 114/203 [18:56<13:58,  9.42s/it]"
     ]
    },
    {
     "name": "stdout",
     "output_type": "stream",
     "text": [
      "\n"
     ]
    },
    {
     "name": "stderr",
     "output_type": "stream",
     "text": [
      "\r",
      " 57%|██████████████████████▋                 | 115/203 [19:02<12:34,  8.57s/it]"
     ]
    },
    {
     "name": "stdout",
     "output_type": "stream",
     "text": [
      "\n"
     ]
    },
    {
     "name": "stderr",
     "output_type": "stream",
     "text": [
      "\r",
      " 57%|██████████████████████▊                 | 116/203 [19:14<13:35,  9.38s/it]"
     ]
    },
    {
     "name": "stdout",
     "output_type": "stream",
     "text": [
      "\n"
     ]
    },
    {
     "name": "stderr",
     "output_type": "stream",
     "text": [
      "\r",
      " 58%|███████████████████████                 | 117/203 [19:26<14:37, 10.20s/it]"
     ]
    },
    {
     "name": "stdout",
     "output_type": "stream",
     "text": [
      "\n"
     ]
    },
    {
     "name": "stderr",
     "output_type": "stream",
     "text": [
      "\r",
      " 58%|███████████████████████▎                | 118/203 [19:35<14:07,  9.97s/it]"
     ]
    },
    {
     "name": "stdout",
     "output_type": "stream",
     "text": [
      "\n"
     ]
    },
    {
     "name": "stderr",
     "output_type": "stream",
     "text": [
      "\r",
      " 59%|███████████████████████▍                | 119/203 [19:45<14:02, 10.03s/it]"
     ]
    },
    {
     "name": "stdout",
     "output_type": "stream",
     "text": [
      "\n"
     ]
    },
    {
     "name": "stderr",
     "output_type": "stream",
     "text": [
      "\r",
      " 59%|███████████████████████▋                | 120/203 [19:52<12:20,  8.92s/it]"
     ]
    },
    {
     "name": "stdout",
     "output_type": "stream",
     "text": [
      "\n"
     ]
    },
    {
     "name": "stderr",
     "output_type": "stream",
     "text": [
      "\r",
      " 60%|███████████████████████▊                | 121/203 [19:58<11:08,  8.15s/it]"
     ]
    },
    {
     "name": "stdout",
     "output_type": "stream",
     "text": [
      "\n"
     ]
    },
    {
     "name": "stderr",
     "output_type": "stream",
     "text": [
      "\r",
      " 60%|████████████████████████                | 122/203 [20:06<10:50,  8.04s/it]"
     ]
    },
    {
     "name": "stdout",
     "output_type": "stream",
     "text": [
      "\n"
     ]
    },
    {
     "name": "stderr",
     "output_type": "stream",
     "text": [
      "\r",
      " 61%|████████████████████████▏               | 123/203 [20:24<14:47, 11.09s/it]"
     ]
    },
    {
     "name": "stdout",
     "output_type": "stream",
     "text": [
      "\n"
     ]
    },
    {
     "name": "stderr",
     "output_type": "stream",
     "text": [
      "\r",
      " 61%|████████████████████████▍               | 124/203 [20:33<13:39, 10.37s/it]"
     ]
    },
    {
     "name": "stdout",
     "output_type": "stream",
     "text": [
      "\n"
     ]
    },
    {
     "name": "stderr",
     "output_type": "stream",
     "text": [
      "\r",
      " 62%|████████████████████████▋               | 125/203 [20:40<12:29,  9.61s/it]"
     ]
    },
    {
     "name": "stdout",
     "output_type": "stream",
     "text": [
      "\n"
     ]
    },
    {
     "name": "stderr",
     "output_type": "stream",
     "text": [
      "\r",
      " 62%|████████████████████████▊               | 126/203 [20:51<12:41,  9.89s/it]"
     ]
    },
    {
     "name": "stdout",
     "output_type": "stream",
     "text": [
      "\n"
     ]
    },
    {
     "name": "stderr",
     "output_type": "stream",
     "text": [
      "\r",
      " 63%|█████████████████████████               | 127/203 [20:58<11:37,  9.17s/it]"
     ]
    },
    {
     "name": "stdout",
     "output_type": "stream",
     "text": [
      "\n"
     ]
    },
    {
     "name": "stderr",
     "output_type": "stream",
     "text": [
      "\r",
      " 63%|█████████████████████████▏              | 128/203 [21:07<11:15,  9.00s/it]"
     ]
    },
    {
     "name": "stdout",
     "output_type": "stream",
     "text": [
      "\n"
     ]
    },
    {
     "name": "stderr",
     "output_type": "stream",
     "text": [
      "\r",
      " 64%|█████████████████████████▍              | 129/203 [21:18<11:55,  9.66s/it]"
     ]
    },
    {
     "name": "stdout",
     "output_type": "stream",
     "text": [
      "\n"
     ]
    },
    {
     "name": "stderr",
     "output_type": "stream",
     "text": [
      "\r",
      " 64%|█████████████████████████▌              | 130/203 [21:26<10:52,  8.94s/it]"
     ]
    },
    {
     "name": "stdout",
     "output_type": "stream",
     "text": [
      "\n"
     ]
    },
    {
     "name": "stderr",
     "output_type": "stream",
     "text": [
      "\r",
      " 65%|█████████████████████████▊              | 131/203 [21:36<11:09,  9.30s/it]"
     ]
    },
    {
     "name": "stdout",
     "output_type": "stream",
     "text": [
      "\n"
     ]
    },
    {
     "name": "stderr",
     "output_type": "stream",
     "text": [
      "\r",
      " 65%|██████████████████████████              | 132/203 [21:44<10:34,  8.94s/it]"
     ]
    },
    {
     "name": "stdout",
     "output_type": "stream",
     "text": [
      "\n"
     ]
    },
    {
     "name": "stderr",
     "output_type": "stream",
     "text": [
      "\r",
      " 66%|██████████████████████████▏             | 133/203 [21:53<10:27,  8.96s/it]"
     ]
    },
    {
     "name": "stdout",
     "output_type": "stream",
     "text": [
      "\n"
     ]
    },
    {
     "name": "stderr",
     "output_type": "stream",
     "text": [
      "\r",
      " 66%|██████████████████████████▍             | 134/203 [22:05<11:26,  9.94s/it]"
     ]
    },
    {
     "name": "stdout",
     "output_type": "stream",
     "text": [
      "\n"
     ]
    },
    {
     "name": "stderr",
     "output_type": "stream",
     "text": [
      "\r",
      " 67%|██████████████████████████▌             | 135/203 [22:15<11:25, 10.09s/it]"
     ]
    },
    {
     "name": "stdout",
     "output_type": "stream",
     "text": [
      "\n"
     ]
    },
    {
     "name": "stderr",
     "output_type": "stream",
     "text": [
      "\r",
      " 67%|██████████████████████████▊             | 136/203 [22:24<10:44,  9.63s/it]"
     ]
    },
    {
     "name": "stdout",
     "output_type": "stream",
     "text": [
      "\n"
     ]
    },
    {
     "name": "stderr",
     "output_type": "stream",
     "text": [
      "\r",
      " 67%|██████████████████████████▉             | 137/203 [22:36<11:15, 10.24s/it]"
     ]
    },
    {
     "name": "stdout",
     "output_type": "stream",
     "text": [
      "\n"
     ]
    },
    {
     "name": "stderr",
     "output_type": "stream",
     "text": [
      "\r",
      " 68%|███████████████████████████▏            | 138/203 [22:47<11:27, 10.57s/it]"
     ]
    },
    {
     "name": "stdout",
     "output_type": "stream",
     "text": [
      "\n"
     ]
    },
    {
     "name": "stderr",
     "output_type": "stream",
     "text": [
      "\r",
      " 68%|███████████████████████████▍            | 139/203 [23:10<15:20, 14.39s/it]"
     ]
    },
    {
     "name": "stdout",
     "output_type": "stream",
     "text": [
      "\n"
     ]
    },
    {
     "name": "stderr",
     "output_type": "stream",
     "text": [
      "\r",
      " 69%|███████████████████████████▌            | 140/203 [23:18<12:58, 12.35s/it]"
     ]
    },
    {
     "name": "stdout",
     "output_type": "stream",
     "text": [
      "\n"
     ]
    },
    {
     "name": "stderr",
     "output_type": "stream",
     "text": [
      "\r",
      " 69%|███████████████████████████▊            | 141/203 [23:32<13:22, 12.94s/it]"
     ]
    },
    {
     "name": "stdout",
     "output_type": "stream",
     "text": [
      "\n"
     ]
    },
    {
     "name": "stderr",
     "output_type": "stream",
     "text": [
      "\r",
      " 70%|███████████████████████████▉            | 142/203 [23:48<13:52, 13.64s/it]"
     ]
    },
    {
     "name": "stdout",
     "output_type": "stream",
     "text": [
      "\n"
     ]
    },
    {
     "name": "stderr",
     "output_type": "stream",
     "text": [
      "\r",
      " 70%|████████████████████████████▏           | 143/203 [23:54<11:24, 11.41s/it]"
     ]
    },
    {
     "name": "stdout",
     "output_type": "stream",
     "text": [
      "\n"
     ]
    },
    {
     "name": "stderr",
     "output_type": "stream",
     "text": [
      "\r",
      " 71%|████████████████████████████▎           | 144/203 [24:07<11:50, 12.04s/it]"
     ]
    },
    {
     "name": "stdout",
     "output_type": "stream",
     "text": [
      "\n"
     ]
    },
    {
     "name": "stderr",
     "output_type": "stream",
     "text": [
      "\r",
      " 71%|████████████████████████████▌           | 145/203 [24:24<12:57, 13.41s/it]"
     ]
    },
    {
     "name": "stdout",
     "output_type": "stream",
     "text": [
      "\n"
     ]
    },
    {
     "name": "stderr",
     "output_type": "stream",
     "text": [
      "\r",
      " 72%|████████████████████████████▊           | 146/203 [24:30<10:45, 11.32s/it]"
     ]
    },
    {
     "name": "stdout",
     "output_type": "stream",
     "text": [
      "\n"
     ]
    },
    {
     "name": "stderr",
     "output_type": "stream",
     "text": [
      "\r",
      " 72%|████████████████████████████▉           | 147/203 [24:44<11:16, 12.09s/it]"
     ]
    },
    {
     "name": "stdout",
     "output_type": "stream",
     "text": [
      "\n"
     ]
    },
    {
     "name": "stderr",
     "output_type": "stream",
     "text": [
      "\r",
      " 73%|█████████████████████████████▏          | 148/203 [24:52<09:50, 10.73s/it]"
     ]
    },
    {
     "name": "stdout",
     "output_type": "stream",
     "text": [
      "\n"
     ]
    },
    {
     "name": "stderr",
     "output_type": "stream",
     "text": [
      "\r",
      " 73%|█████████████████████████████▎          | 149/203 [24:59<08:51,  9.83s/it]"
     ]
    },
    {
     "name": "stdout",
     "output_type": "stream",
     "text": [
      "\n"
     ]
    },
    {
     "name": "stderr",
     "output_type": "stream",
     "text": [
      "\r",
      " 74%|█████████████████████████████▌          | 150/203 [25:07<08:05,  9.17s/it]"
     ]
    },
    {
     "name": "stdout",
     "output_type": "stream",
     "text": [
      "\n"
     ]
    },
    {
     "name": "stderr",
     "output_type": "stream",
     "text": [
      "\r",
      " 74%|█████████████████████████████▊          | 151/203 [25:14<07:16,  8.39s/it]"
     ]
    },
    {
     "name": "stdout",
     "output_type": "stream",
     "text": [
      "\n"
     ]
    },
    {
     "name": "stderr",
     "output_type": "stream",
     "text": [
      "\r",
      " 75%|█████████████████████████████▉          | 152/203 [25:26<08:07,  9.56s/it]"
     ]
    },
    {
     "name": "stdout",
     "output_type": "stream",
     "text": [
      "\n"
     ]
    },
    {
     "name": "stderr",
     "output_type": "stream",
     "text": [
      "\r",
      " 75%|██████████████████████████████▏         | 153/203 [25:48<11:02, 13.25s/it]"
     ]
    },
    {
     "name": "stdout",
     "output_type": "stream",
     "text": [
      "\n"
     ]
    },
    {
     "name": "stderr",
     "output_type": "stream",
     "text": [
      "\r",
      " 76%|██████████████████████████████▎         | 154/203 [25:57<09:46, 11.96s/it]"
     ]
    },
    {
     "name": "stdout",
     "output_type": "stream",
     "text": [
      "\n"
     ]
    },
    {
     "name": "stderr",
     "output_type": "stream",
     "text": [
      "\r",
      " 76%|██████████████████████████████▌         | 155/203 [26:06<08:48, 11.00s/it]"
     ]
    },
    {
     "name": "stdout",
     "output_type": "stream",
     "text": [
      "\n"
     ]
    },
    {
     "name": "stderr",
     "output_type": "stream",
     "text": [
      "\r",
      " 77%|██████████████████████████████▋         | 156/203 [26:12<07:31,  9.60s/it]"
     ]
    },
    {
     "name": "stdout",
     "output_type": "stream",
     "text": [
      "\n"
     ]
    },
    {
     "name": "stderr",
     "output_type": "stream",
     "text": [
      "\r",
      " 77%|██████████████████████████████▉         | 157/203 [26:18<06:36,  8.62s/it]"
     ]
    },
    {
     "name": "stdout",
     "output_type": "stream",
     "text": [
      "\n"
     ]
    },
    {
     "name": "stderr",
     "output_type": "stream",
     "text": [
      "\r",
      " 78%|███████████████████████████████▏        | 158/203 [26:29<06:54,  9.22s/it]"
     ]
    },
    {
     "name": "stdout",
     "output_type": "stream",
     "text": [
      "\n"
     ]
    },
    {
     "name": "stderr",
     "output_type": "stream",
     "text": [
      "\r",
      " 78%|███████████████████████████████▎        | 159/203 [26:35<06:12,  8.46s/it]"
     ]
    },
    {
     "name": "stdout",
     "output_type": "stream",
     "text": [
      "\n"
     ]
    },
    {
     "name": "stderr",
     "output_type": "stream",
     "text": [
      "\r",
      " 79%|███████████████████████████████▌        | 160/203 [26:46<06:26,  8.98s/it]"
     ]
    },
    {
     "name": "stdout",
     "output_type": "stream",
     "text": [
      "\n"
     ]
    },
    {
     "name": "stderr",
     "output_type": "stream",
     "text": [
      "\r",
      " 79%|███████████████████████████████▋        | 161/203 [26:55<06:21,  9.08s/it]"
     ]
    },
    {
     "name": "stdout",
     "output_type": "stream",
     "text": [
      "\n"
     ]
    },
    {
     "name": "stderr",
     "output_type": "stream",
     "text": [
      "\r",
      " 80%|███████████████████████████████▉        | 162/203 [27:02<05:41,  8.33s/it]"
     ]
    },
    {
     "name": "stdout",
     "output_type": "stream",
     "text": [
      "\n"
     ]
    },
    {
     "name": "stderr",
     "output_type": "stream",
     "text": [
      "\r",
      " 80%|████████████████████████████████        | 163/203 [27:10<05:28,  8.22s/it]"
     ]
    },
    {
     "name": "stdout",
     "output_type": "stream",
     "text": [
      "\n"
     ]
    },
    {
     "name": "stderr",
     "output_type": "stream",
     "text": [
      "\r",
      " 81%|████████████████████████████████▎       | 164/203 [27:19<05:32,  8.53s/it]"
     ]
    },
    {
     "name": "stdout",
     "output_type": "stream",
     "text": [
      "\n"
     ]
    },
    {
     "name": "stderr",
     "output_type": "stream",
     "text": [
      "\r",
      " 81%|████████████████████████████████▌       | 165/203 [27:25<05:00,  7.92s/it]"
     ]
    },
    {
     "name": "stdout",
     "output_type": "stream",
     "text": [
      "\n"
     ]
    },
    {
     "name": "stderr",
     "output_type": "stream",
     "text": [
      "\r",
      " 82%|████████████████████████████████▋       | 166/203 [27:32<04:36,  7.47s/it]"
     ]
    },
    {
     "name": "stdout",
     "output_type": "stream",
     "text": [
      "\n"
     ]
    },
    {
     "name": "stderr",
     "output_type": "stream",
     "text": [
      "\r",
      " 82%|████████████████████████████████▉       | 167/203 [27:46<05:40,  9.45s/it]"
     ]
    },
    {
     "name": "stdout",
     "output_type": "stream",
     "text": [
      "\n"
     ]
    },
    {
     "name": "stderr",
     "output_type": "stream",
     "text": [
      "\r",
      " 83%|█████████████████████████████████       | 168/203 [28:02<06:43, 11.54s/it]"
     ]
    },
    {
     "name": "stdout",
     "output_type": "stream",
     "text": [
      "\n"
     ]
    },
    {
     "name": "stderr",
     "output_type": "stream",
     "text": [
      "\r",
      " 83%|█████████████████████████████████▎      | 169/203 [28:18<07:13, 12.75s/it]"
     ]
    },
    {
     "name": "stdout",
     "output_type": "stream",
     "text": [
      "\n"
     ]
    },
    {
     "name": "stderr",
     "output_type": "stream",
     "text": [
      "\r",
      " 84%|█████████████████████████████████▍      | 170/203 [28:24<05:57, 10.83s/it]"
     ]
    },
    {
     "name": "stdout",
     "output_type": "stream",
     "text": [
      "\n"
     ]
    },
    {
     "name": "stderr",
     "output_type": "stream",
     "text": [
      "\r",
      " 84%|█████████████████████████████████▋      | 171/203 [28:39<06:28, 12.13s/it]"
     ]
    },
    {
     "name": "stdout",
     "output_type": "stream",
     "text": [
      "\n"
     ]
    },
    {
     "name": "stderr",
     "output_type": "stream",
     "text": [
      "\r",
      " 85%|█████████████████████████████████▉      | 172/203 [28:45<05:20, 10.32s/it]"
     ]
    },
    {
     "name": "stdout",
     "output_type": "stream",
     "text": [
      "\n"
     ]
    },
    {
     "name": "stderr",
     "output_type": "stream",
     "text": [
      "\r",
      " 85%|██████████████████████████████████      | 173/203 [28:52<04:33,  9.12s/it]"
     ]
    },
    {
     "name": "stdout",
     "output_type": "stream",
     "text": [
      "\n"
     ]
    },
    {
     "name": "stderr",
     "output_type": "stream",
     "text": [
      "\r",
      " 86%|██████████████████████████████████▎     | 174/203 [29:01<04:25,  9.15s/it]"
     ]
    },
    {
     "name": "stdout",
     "output_type": "stream",
     "text": [
      "\n"
     ]
    },
    {
     "name": "stderr",
     "output_type": "stream",
     "text": [
      "\r",
      " 86%|██████████████████████████████████▍     | 175/203 [29:11<04:26,  9.51s/it]"
     ]
    },
    {
     "name": "stdout",
     "output_type": "stream",
     "text": [
      "\n"
     ]
    },
    {
     "name": "stderr",
     "output_type": "stream",
     "text": [
      "\r",
      " 87%|██████████████████████████████████▋     | 176/203 [29:17<03:49,  8.51s/it]"
     ]
    },
    {
     "name": "stdout",
     "output_type": "stream",
     "text": [
      "\n"
     ]
    },
    {
     "name": "stderr",
     "output_type": "stream",
     "text": [
      "\r",
      " 87%|██████████████████████████████████▉     | 177/203 [29:31<04:19,  9.96s/it]"
     ]
    },
    {
     "name": "stdout",
     "output_type": "stream",
     "text": [
      "\n"
     ]
    },
    {
     "name": "stderr",
     "output_type": "stream",
     "text": [
      "\r",
      " 88%|███████████████████████████████████     | 178/203 [29:40<04:00,  9.60s/it]"
     ]
    },
    {
     "name": "stdout",
     "output_type": "stream",
     "text": [
      "\n"
     ]
    },
    {
     "name": "stderr",
     "output_type": "stream",
     "text": [
      "\r",
      " 88%|███████████████████████████████████▎    | 179/203 [29:51<04:06, 10.25s/it]"
     ]
    },
    {
     "name": "stdout",
     "output_type": "stream",
     "text": [
      "\n"
     ]
    },
    {
     "name": "stderr",
     "output_type": "stream",
     "text": [
      "\r",
      " 89%|███████████████████████████████████▍    | 180/203 [30:01<03:51, 10.08s/it]"
     ]
    },
    {
     "name": "stdout",
     "output_type": "stream",
     "text": [
      "\n"
     ]
    },
    {
     "name": "stderr",
     "output_type": "stream",
     "text": [
      "\r",
      " 89%|███████████████████████████████████▋    | 181/203 [30:15<04:04, 11.11s/it]"
     ]
    },
    {
     "name": "stdout",
     "output_type": "stream",
     "text": [
      "\n"
     ]
    },
    {
     "name": "stderr",
     "output_type": "stream",
     "text": [
      "\r",
      " 90%|███████████████████████████████████▊    | 182/203 [30:30<04:20, 12.40s/it]"
     ]
    },
    {
     "name": "stdout",
     "output_type": "stream",
     "text": [
      "\n"
     ]
    },
    {
     "name": "stderr",
     "output_type": "stream",
     "text": [
      "\r",
      " 90%|████████████████████████████████████    | 183/203 [30:40<03:56, 11.83s/it]"
     ]
    },
    {
     "name": "stdout",
     "output_type": "stream",
     "text": [
      "\n"
     ]
    },
    {
     "name": "stderr",
     "output_type": "stream",
     "text": [
      "\r",
      " 91%|████████████████████████████████████▎   | 184/203 [30:47<03:12, 10.14s/it]"
     ]
    },
    {
     "name": "stdout",
     "output_type": "stream",
     "text": [
      "\n"
     ]
    },
    {
     "name": "stderr",
     "output_type": "stream",
     "text": [
      "\r",
      " 91%|████████████████████████████████████▍   | 185/203 [30:59<03:12, 10.70s/it]"
     ]
    },
    {
     "name": "stdout",
     "output_type": "stream",
     "text": [
      "\n"
     ]
    },
    {
     "name": "stderr",
     "output_type": "stream",
     "text": [
      "\r",
      " 92%|████████████████████████████████████▋   | 186/203 [31:21<03:59, 14.10s/it]"
     ]
    },
    {
     "name": "stdout",
     "output_type": "stream",
     "text": [
      "\n"
     ]
    },
    {
     "name": "stderr",
     "output_type": "stream",
     "text": [
      "\r",
      " 92%|████████████████████████████████████▊   | 187/203 [31:27<03:07, 11.71s/it]"
     ]
    },
    {
     "name": "stdout",
     "output_type": "stream",
     "text": [
      "\n"
     ]
    },
    {
     "name": "stderr",
     "output_type": "stream",
     "text": [
      "\r",
      " 93%|█████████████████████████████████████   | 188/203 [31:39<02:58, 11.89s/it]"
     ]
    },
    {
     "name": "stdout",
     "output_type": "stream",
     "text": [
      "\n"
     ]
    },
    {
     "name": "stderr",
     "output_type": "stream",
     "text": [
      "\r",
      " 93%|█████████████████████████████████████▏  | 189/203 [31:46<02:23, 10.26s/it]"
     ]
    },
    {
     "name": "stdout",
     "output_type": "stream",
     "text": [
      "\n"
     ]
    },
    {
     "name": "stderr",
     "output_type": "stream",
     "text": [
      "\r",
      " 94%|█████████████████████████████████████▍  | 190/203 [31:53<02:02,  9.41s/it]"
     ]
    },
    {
     "name": "stdout",
     "output_type": "stream",
     "text": [
      "\n"
     ]
    },
    {
     "name": "stderr",
     "output_type": "stream",
     "text": [
      "\r",
      " 94%|█████████████████████████████████████▋  | 191/203 [32:11<02:23, 11.96s/it]"
     ]
    },
    {
     "name": "stdout",
     "output_type": "stream",
     "text": [
      "\n"
     ]
    },
    {
     "name": "stderr",
     "output_type": "stream",
     "text": [
      "\r",
      " 95%|█████████████████████████████████████▊  | 192/203 [32:22<02:09, 11.75s/it]"
     ]
    },
    {
     "name": "stdout",
     "output_type": "stream",
     "text": [
      "\n"
     ]
    },
    {
     "name": "stderr",
     "output_type": "stream",
     "text": [
      "\r",
      " 95%|██████████████████████████████████████  | 193/203 [32:51<02:49, 16.91s/it]"
     ]
    },
    {
     "name": "stdout",
     "output_type": "stream",
     "text": [
      "\n"
     ]
    },
    {
     "name": "stderr",
     "output_type": "stream",
     "text": [
      "\r",
      " 96%|██████████████████████████████████████▏ | 194/203 [33:08<02:32, 16.91s/it]"
     ]
    },
    {
     "name": "stdout",
     "output_type": "stream",
     "text": [
      "\n"
     ]
    },
    {
     "name": "stderr",
     "output_type": "stream",
     "text": [
      "\r",
      " 96%|██████████████████████████████████████▍ | 195/203 [33:34<02:37, 19.73s/it]"
     ]
    },
    {
     "name": "stdout",
     "output_type": "stream",
     "text": [
      "\n"
     ]
    },
    {
     "name": "stderr",
     "output_type": "stream",
     "text": [
      "\r",
      " 97%|██████████████████████████████████████▌ | 196/203 [33:41<01:49, 15.67s/it]"
     ]
    },
    {
     "name": "stdout",
     "output_type": "stream",
     "text": [
      "\n"
     ]
    },
    {
     "name": "stderr",
     "output_type": "stream",
     "text": [
      "\r",
      " 97%|██████████████████████████████████████▊ | 197/203 [33:47<01:17, 12.91s/it]"
     ]
    },
    {
     "name": "stdout",
     "output_type": "stream",
     "text": [
      "\n"
     ]
    },
    {
     "name": "stderr",
     "output_type": "stream",
     "text": [
      "\r",
      " 98%|███████████████████████████████████████ | 198/203 [34:23<01:39, 19.96s/it]"
     ]
    },
    {
     "name": "stdout",
     "output_type": "stream",
     "text": [
      "\n"
     ]
    },
    {
     "name": "stderr",
     "output_type": "stream",
     "text": [
      "\r",
      " 98%|███████████████████████████████████████▏| 199/203 [35:15<01:57, 29.43s/it]"
     ]
    },
    {
     "name": "stdout",
     "output_type": "stream",
     "text": [
      "\n"
     ]
    },
    {
     "name": "stderr",
     "output_type": "stream",
     "text": [
      "\r",
      " 99%|███████████████████████████████████████▍| 200/203 [35:36<01:20, 26.84s/it]"
     ]
    },
    {
     "name": "stdout",
     "output_type": "stream",
     "text": [
      "\n"
     ]
    },
    {
     "name": "stderr",
     "output_type": "stream",
     "text": [
      "\r",
      " 99%|███████████████████████████████████████▌| 201/203 [36:16<01:01, 30.84s/it]"
     ]
    },
    {
     "name": "stdout",
     "output_type": "stream",
     "text": [
      "\n"
     ]
    },
    {
     "name": "stderr",
     "output_type": "stream",
     "text": [
      "\r",
      "100%|███████████████████████████████████████▊| 202/203 [37:09<00:37, 37.41s/it]"
     ]
    },
    {
     "name": "stdout",
     "output_type": "stream",
     "text": [
      "\n"
     ]
    },
    {
     "name": "stderr",
     "output_type": "stream",
     "text": [
      "100%|████████████████████████████████████████| 203/203 [37:43<00:00, 11.15s/it]\n"
     ]
    }
   ],
   "source": [
    "disease_info = {\n",
    "    'disease': [],\n",
    "    'link': [],\n",
    "    'overview': [],\n",
    "    'symptoms': [],\n",
    "    'remedies': [],\n",
    "}\n",
    "\n",
    "for name, link in tqdm(df.to_numpy()[1990:]):\n",
    "    scrape_remedies(name, link)"
   ]
  },
  {
   "cell_type": "code",
   "execution_count": 13,
   "id": "c7935f9f",
   "metadata": {},
   "outputs": [
    {
     "data": {
      "text/html": [
       "<div>\n",
       "<style scoped>\n",
       "    .dataframe tbody tr th:only-of-type {\n",
       "        vertical-align: middle;\n",
       "    }\n",
       "\n",
       "    .dataframe tbody tr th {\n",
       "        vertical-align: top;\n",
       "    }\n",
       "\n",
       "    .dataframe thead th {\n",
       "        text-align: right;\n",
       "    }\n",
       "</style>\n",
       "<table border=\"1\" class=\"dataframe\">\n",
       "  <thead>\n",
       "    <tr style=\"text-align: right;\">\n",
       "      <th></th>\n",
       "      <th>disease</th>\n",
       "      <th>link</th>\n",
       "      <th>overview</th>\n",
       "      <th>symptoms</th>\n",
       "      <th>remedies</th>\n",
       "    </tr>\n",
       "  </thead>\n",
       "  <tbody>\n",
       "    <tr>\n",
       "      <th>0</th>\n",
       "      <td>Tennis elbow</td>\n",
       "      <td>https://www.mayoclinic.org/diseases-conditions...</td>\n",
       "      <td>Tennis elbow (lateral epicondylitis) is a pain...</td>\n",
       "      <td>[Shake hands or grip an object, Turn a doorkno...</td>\n",
       "      <td>[Rest. Avoid activities that aggravate your el...</td>\n",
       "    </tr>\n",
       "    <tr>\n",
       "      <th>1</th>\n",
       "      <td>Tenosynovitis, de Quervain's, also known as\\nD...</td>\n",
       "      <td>https://www.mayoclinic.org/diseases-conditions...</td>\n",
       "      <td>De Quervain tenosynovitis (dih-kwer-VAIN ten-o...</td>\n",
       "      <td>[Pain near the base of the thumb, Swelling nea...</td>\n",
       "      <td>[Avoid moving your wrists the same way repeate...</td>\n",
       "    </tr>\n",
       "    <tr>\n",
       "      <th>2</th>\n",
       "      <td>Tension headache</td>\n",
       "      <td>https://www.mayoclinic.org/diseases-conditions...</td>\n",
       "      <td>A tension-type headache (TTH) is generally a m...</td>\n",
       "      <td>[Dull, aching head pain, Sensation of tightnes...</td>\n",
       "      <td>[Manage your stress level. One way to help red...</td>\n",
       "    </tr>\n",
       "    <tr>\n",
       "      <th>3</th>\n",
       "      <td>Testicle, retractile, also known as\\nRetractil...</td>\n",
       "      <td>https://www.mayoclinic.org/diseases-conditions...</td>\n",
       "      <td>A retractile testicle is a testicle that may m...</td>\n",
       "      <td>[The testicle may be moved by hand from the gr...</td>\n",
       "      <td>[]</td>\n",
       "    </tr>\n",
       "    <tr>\n",
       "      <th>4</th>\n",
       "      <td>Testicle, undescended, also known as\\nUndescen...</td>\n",
       "      <td>https://www.mayoclinic.org/diseases-conditions...</td>\n",
       "      <td>An undescended testicle (cryptorchidism) is a ...</td>\n",
       "      <td>[A retractile testicle, which moves back and f...</td>\n",
       "      <td>[Teach your son the right words to use when ta...</td>\n",
       "    </tr>\n",
       "    <tr>\n",
       "      <th>...</th>\n",
       "      <td>...</td>\n",
       "      <td>...</td>\n",
       "      <td>...</td>\n",
       "      <td>...</td>\n",
       "      <td>...</td>\n",
       "    </tr>\n",
       "    <tr>\n",
       "      <th>198</th>\n",
       "      <td>Yersinia pestis, also known as\\nPlague</td>\n",
       "      <td>https://www.mayoclinic.org/diseases-conditions...</td>\n",
       "      <td>Plague is a serious bacterial infection that's...</td>\n",
       "      <td>[Situated in the groin, armpit or neck, About ...</td>\n",
       "      <td>[]</td>\n",
       "    </tr>\n",
       "    <tr>\n",
       "      <th>199</th>\n",
       "      <td>Yips</td>\n",
       "      <td>https://www.mayoclinic.org/diseases-conditions...</td>\n",
       "      <td>The yips are involuntary wrist spasms that occ...</td>\n",
       "      <td>[Older age, More experience playing golf, Tour...</td>\n",
       "      <td>[]</td>\n",
       "    </tr>\n",
       "    <tr>\n",
       "      <th>200</th>\n",
       "      <td>Zika virus</td>\n",
       "      <td>https://www.mayoclinic.org/diseases-conditions...</td>\n",
       "      <td>The Zika (ZEE-kuh) virus is most often spread ...</td>\n",
       "      <td>[Mild fever, Rash, Joint pain, particularly in...</td>\n",
       "      <td>[]</td>\n",
       "    </tr>\n",
       "    <tr>\n",
       "      <th>201</th>\n",
       "      <td>Zollinger-Ellison syndrome</td>\n",
       "      <td>https://www.mayoclinic.org/diseases-conditions...</td>\n",
       "      <td>Zollinger-Ellison syndrome is a rare condition...</td>\n",
       "      <td>[Abdominal pain, Diarrhea, Burning, aching, gn...</td>\n",
       "      <td>[]</td>\n",
       "    </tr>\n",
       "    <tr>\n",
       "      <th>202</th>\n",
       "      <td>Zoster, also known as\\nShingles</td>\n",
       "      <td>https://www.mayoclinic.org/diseases-conditions...</td>\n",
       "      <td>Shingles is a viral infection that causes a pa...</td>\n",
       "      <td>[Pain, burning or tingling, Sensitivity to tou...</td>\n",
       "      <td>[Your symptoms, including any that seem unrela...</td>\n",
       "    </tr>\n",
       "  </tbody>\n",
       "</table>\n",
       "<p>203 rows × 5 columns</p>\n",
       "</div>"
      ],
      "text/plain": [
       "                                               disease  \\\n",
       "0                                         Tennis elbow   \n",
       "1    Tenosynovitis, de Quervain's, also known as\\nD...   \n",
       "2                                     Tension headache   \n",
       "3    Testicle, retractile, also known as\\nRetractil...   \n",
       "4    Testicle, undescended, also known as\\nUndescen...   \n",
       "..                                                 ...   \n",
       "198             Yersinia pestis, also known as\\nPlague   \n",
       "199                                               Yips   \n",
       "200                                         Zika virus   \n",
       "201                         Zollinger-Ellison syndrome   \n",
       "202                    Zoster, also known as\\nShingles   \n",
       "\n",
       "                                                  link  \\\n",
       "0    https://www.mayoclinic.org/diseases-conditions...   \n",
       "1    https://www.mayoclinic.org/diseases-conditions...   \n",
       "2    https://www.mayoclinic.org/diseases-conditions...   \n",
       "3    https://www.mayoclinic.org/diseases-conditions...   \n",
       "4    https://www.mayoclinic.org/diseases-conditions...   \n",
       "..                                                 ...   \n",
       "198  https://www.mayoclinic.org/diseases-conditions...   \n",
       "199  https://www.mayoclinic.org/diseases-conditions...   \n",
       "200  https://www.mayoclinic.org/diseases-conditions...   \n",
       "201  https://www.mayoclinic.org/diseases-conditions...   \n",
       "202  https://www.mayoclinic.org/diseases-conditions...   \n",
       "\n",
       "                                              overview  \\\n",
       "0    Tennis elbow (lateral epicondylitis) is a pain...   \n",
       "1    De Quervain tenosynovitis (dih-kwer-VAIN ten-o...   \n",
       "2    A tension-type headache (TTH) is generally a m...   \n",
       "3    A retractile testicle is a testicle that may m...   \n",
       "4    An undescended testicle (cryptorchidism) is a ...   \n",
       "..                                                 ...   \n",
       "198  Plague is a serious bacterial infection that's...   \n",
       "199  The yips are involuntary wrist spasms that occ...   \n",
       "200  The Zika (ZEE-kuh) virus is most often spread ...   \n",
       "201  Zollinger-Ellison syndrome is a rare condition...   \n",
       "202  Shingles is a viral infection that causes a pa...   \n",
       "\n",
       "                                              symptoms  \\\n",
       "0    [Shake hands or grip an object, Turn a doorkno...   \n",
       "1    [Pain near the base of the thumb, Swelling nea...   \n",
       "2    [Dull, aching head pain, Sensation of tightnes...   \n",
       "3    [The testicle may be moved by hand from the gr...   \n",
       "4    [A retractile testicle, which moves back and f...   \n",
       "..                                                 ...   \n",
       "198  [Situated in the groin, armpit or neck, About ...   \n",
       "199  [Older age, More experience playing golf, Tour...   \n",
       "200  [Mild fever, Rash, Joint pain, particularly in...   \n",
       "201  [Abdominal pain, Diarrhea, Burning, aching, gn...   \n",
       "202  [Pain, burning or tingling, Sensitivity to tou...   \n",
       "\n",
       "                                              remedies  \n",
       "0    [Rest. Avoid activities that aggravate your el...  \n",
       "1    [Avoid moving your wrists the same way repeate...  \n",
       "2    [Manage your stress level. One way to help red...  \n",
       "3                                                   []  \n",
       "4    [Teach your son the right words to use when ta...  \n",
       "..                                                 ...  \n",
       "198                                                 []  \n",
       "199                                                 []  \n",
       "200                                                 []  \n",
       "201                                                 []  \n",
       "202  [Your symptoms, including any that seem unrela...  \n",
       "\n",
       "[203 rows x 5 columns]"
      ]
     },
     "execution_count": 13,
     "metadata": {},
     "output_type": "execute_result"
    }
   ],
   "source": [
    "pd.DataFrame.from_dict(disease_info, orient='index').T"
   ]
  },
  {
   "cell_type": "code",
   "execution_count": 14,
   "id": "f55bd665",
   "metadata": {},
   "outputs": [],
   "source": [
    "pd.DataFrame.from_dict(disease_info, orient='index').T.to_csv('mayo disease remedies 4.csv')"
   ]
  },
  {
   "cell_type": "code",
   "execution_count": 5,
   "id": "5e98c357",
   "metadata": {},
   "outputs": [],
   "source": [
    "df = pd.concat([\n",
    "    pd.read_csv('mayo disease remedies 1.csv', index_col=0),\n",
    "    pd.read_csv('mayo disease remedies 2.csv', index_col=0),\n",
    "    pd.read_csv('mayo disease remedies 3.csv', index_col=0),\n",
    "    pd.read_csv('mayo disease remedies 4.csv', index_col=0)\n",
    "])"
   ]
  },
  {
   "cell_type": "code",
   "execution_count": 6,
   "id": "9463fe02",
   "metadata": {},
   "outputs": [],
   "source": [
    "df.to_csv('mayo data.csv')"
   ]
  },
  {
   "cell_type": "code",
   "execution_count": null,
   "id": "da25e552",
   "metadata": {},
   "outputs": [],
   "source": []
  },
  {
   "cell_type": "code",
   "execution_count": null,
   "id": "dd783b11",
   "metadata": {},
   "outputs": [],
   "source": []
  },
  {
   "cell_type": "code",
   "execution_count": null,
   "id": "793e26b8",
   "metadata": {},
   "outputs": [],
   "source": []
  }
 ],
 "metadata": {
  "kernelspec": {
   "display_name": "Python 3 (ipykernel)",
   "language": "python",
   "name": "python3"
  },
  "language_info": {
   "codemirror_mode": {
    "name": "ipython",
    "version": 3
   },
   "file_extension": ".py",
   "mimetype": "text/x-python",
   "name": "python",
   "nbconvert_exporter": "python",
   "pygments_lexer": "ipython3",
   "version": "3.10.8"
  }
 },
 "nbformat": 4,
 "nbformat_minor": 5
}
