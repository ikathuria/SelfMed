{
 "cells": [
  {
   "cell_type": "code",
   "execution_count": null,
   "id": "53f7a7a9",
   "metadata": {},
   "outputs": [],
   "source": [
    "import os\n",
    "import time\n",
    "\n",
    "from selenium import webdriver\n",
    "from selenium.webdriver.common.by import By\n",
    "from selenium.webdriver.chrome.options import Options\n",
    "\n",
    "from webdriver_manager.chrome import ChromeDriverManager"
   ]
  },
  {
   "cell_type": "code",
   "execution_count": null,
   "id": "c527b076",
   "metadata": {},
   "outputs": [],
   "source": [
    "options = Options()\n",
    "# options.add_argument(\"--headless\")\n",
    "options.add_argument(\"--disable-gpu\")\n",
    "options.add_argument(\"--no-sandbox\")\n",
    "options.add_argument(\"enable-automation\")\n",
    "options.add_argument(\"--disable-infobars\")\n",
    "options.add_argument(\"--disable-dev-shm-usage\")\n",
    "options.binary_location = os.environ.get(\"GOOGLE_CHROME_BIN\")"
   ]
  },
  {
   "cell_type": "code",
   "execution_count": null,
   "id": "b5c7056a",
   "metadata": {},
   "outputs": [],
   "source": [
    "def scrape_plants():\n",
    "    body_part = {}\n",
    "\n",
    "    driver = webdriver.Chrome(\n",
    "        ChromeDriverManager().install(),\n",
    "        options=options\n",
    "    )\n",
    "    path = \"https://cb.imsc.res.in/imppat/#browse\"\n",
    "    driver.get(path)\n",
    "\n",
    "    driver.find_element(By.ID, 'age').send_keys(21)\n",
    "    driver.find_element(By.ID, 'female').click()\n",
    "    driver.find_element(By.CLASS_NAME, 'continue-button').click()\n",
    "\n",
    "    driver.find_element(By.ID, 'general-button-icon').click()\n",
    "\n",
    "    time.sleep(2)\n",
    "\n",
    "    all_parts = driver.find_element(By.CLASS_NAME, 'general-symptoms-list')\n",
    "    all_parts = all_parts.find_elements(By.CLASS_NAME, 'body-parts-list')\n",
    "\n",
    "    for i in all_parts:\n",
    "        if 'body-list-header' in i.get_attribute('class'):\n",
    "            continue\n",
    "\n",
    "        i.click()\n",
    "\n",
    "        all_btn = driver.find_element(By.CLASS_NAME, 'body-symptoms-tabs')\n",
    "        all_btn.find_element(By.CLASS_NAME, 'body-symptoms-tab').click()\n",
    "\n",
    "        symptoms = []\n",
    "\n",
    "        syms = driver.find_element(By.XPATH, '//*[@id=\"body-symptoms\"]/div[4]')\n",
    "        print(syms)\n",
    "        syms = syms.find_element(By.TAG_NAME, 'ul')\n",
    "        print(syms)\n",
    "        syms = syms.find_elements(By.TAG_NAME, 'li')\n",
    "        print(syms)\n",
    "\n",
    "        for sym in syms:\n",
    "            sym = sym.find_element(By.TAG_NAME, 'label')\n",
    "            sym = sym.find_element(By.CLASS_NAME, 'body-symptom-text').text\n",
    "            print(sym)\n",
    "            symptoms.append(sym)\n",
    "\n",
    "        body_part[i.text] = symptoms\n",
    "        break\n",
    "\n",
    "        driver.find_element(By.CLASS_NAME, 'body-symptoms-back-button').click()\n",
    "\n",
    "    return body_part"
   ]
  },
  {
   "cell_type": "code",
   "execution_count": null,
   "id": "09637991",
   "metadata": {
    "scrolled": true
   },
   "outputs": [],
   "source": [
    "scrape_plants()"
   ]
  },
  {
   "cell_type": "code",
   "execution_count": null,
   "id": "e1f8ba55",
   "metadata": {},
   "outputs": [],
   "source": []
  },
  {
   "cell_type": "code",
   "execution_count": null,
   "id": "3d928a8c",
   "metadata": {},
   "outputs": [],
   "source": []
  },
  {
   "cell_type": "code",
   "execution_count": null,
   "id": "bf3ea74d",
   "metadata": {},
   "outputs": [],
   "source": []
  },
  {
   "cell_type": "code",
   "execution_count": null,
   "id": "a0b9be20",
   "metadata": {},
   "outputs": [],
   "source": []
  },
  {
   "cell_type": "code",
   "execution_count": null,
   "id": "48f872cf",
   "metadata": {},
   "outputs": [],
   "source": []
  },
  {
   "cell_type": "code",
   "execution_count": null,
   "id": "6b856fe7",
   "metadata": {},
   "outputs": [],
   "source": []
  }
 ],
 "metadata": {
  "kernelspec": {
   "display_name": "Python 3 (ipykernel)",
   "language": "python",
   "name": "python3"
  },
  "language_info": {
   "codemirror_mode": {
    "name": "ipython",
    "version": 3
   },
   "file_extension": ".py",
   "mimetype": "text/x-python",
   "name": "python",
   "nbconvert_exporter": "python",
   "pygments_lexer": "ipython3",
   "version": "3.10.5"
  }
 },
 "nbformat": 4,
 "nbformat_minor": 5
}
