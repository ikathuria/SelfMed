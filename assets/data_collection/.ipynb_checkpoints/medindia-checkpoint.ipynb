{
 "cells": [
  {
   "cell_type": "code",
   "execution_count": 20,
   "id": "53f7a7a9",
   "metadata": {},
   "outputs": [],
   "source": [
    "import os\n",
    "import time\n",
    "\n",
    "from selenium import webdriver\n",
    "from selenium.webdriver.common.by import By\n",
    "from selenium.webdriver.chrome.options import Options\n",
    "\n",
    "from webdriver_manager.chrome import ChromeDriverManager"
   ]
  },
  {
   "cell_type": "code",
   "execution_count": 21,
   "id": "c527b076",
   "metadata": {},
   "outputs": [],
   "source": [
    "options = Options()\n",
    "# options.add_argument(\"--headless\")\n",
    "options.add_argument(\"--disable-gpu\")\n",
    "options.add_argument(\"--no-sandbox\")\n",
    "options.add_argument(\"enable-automation\")\n",
    "options.add_argument(\"--disable-infobars\")\n",
    "options.add_argument(\"--disable-dev-shm-usage\")\n",
    "options.binary_location = os.environ.get(\"GOOGLE_CHROME_BIN\")"
   ]
  },
  {
   "cell_type": "markdown",
   "id": "1feb74f5",
   "metadata": {},
   "source": [
    "general-symptoms-list\n",
    "body-parts-list\n",
    "\n",
    "body-symptoms-tabs\n",
    "body-symptoms-tab[0]\n",
    "\n",
    "general-symptoms-list\n",
    "body-parts-list + body-part-inner\n",
    "\n",
    "body-symptoms-body\n",
    "single-common-symptom\n",
    "body-symptom-text"
   ]
  },
  {
   "cell_type": "code",
   "execution_count": 78,
   "id": "b5c7056a",
   "metadata": {},
   "outputs": [],
   "source": [
    "def scrape_symptoms():\n",
    "    body_part = {}\n",
    "\n",
    "    driver = webdriver.Chrome(\n",
    "        ChromeDriverManager().install(),\n",
    "        options=options\n",
    "    )\n",
    "    path = \"https://symptoms.webmd.com/\"\n",
    "    driver.get(path)\n",
    "\n",
    "    driver.find_element(By.ID, 'age').send_keys(21)\n",
    "    driver.find_element(By.ID, 'female').click()\n",
    "    driver.find_element(By.CLASS_NAME, 'continue-button').click()\n",
    "\n",
    "    driver.find_element(By.ID, 'general-button-icon').click()\n",
    "\n",
    "    time.sleep(2)\n",
    "\n",
    "    all_parts = driver.find_element(By.CLASS_NAME, 'general-symptoms-list')\n",
    "    all_parts = all_parts.find_elements(By.CLASS_NAME, 'body-parts-list')\n",
    "\n",
    "    for i in all_parts:\n",
    "        if 'body-list-header' in i.get_attribute('class'):\n",
    "            continue\n",
    "\n",
    "        i.click()\n",
    "\n",
    "        all_btn = driver.find_element(By.CLASS_NAME, 'body-symptoms-tabs')\n",
    "        all_btn.find_element(By.CLASS_NAME, 'body-symptoms-tab').click()\n",
    "\n",
    "        symptoms = []\n",
    "\n",
    "        syms = driver.find_element(By.XPATH, '//*[@id=\"body-symptoms\"]/div[4]')\n",
    "        print(syms)\n",
    "        syms = syms.find_element(By.TAG_NAME, 'ul')\n",
    "        print(syms)\n",
    "        syms = syms.find_elements(By.TAG_NAME, 'li')\n",
    "        print(syms)\n",
    "\n",
    "        for sym in syms:\n",
    "            sym = sym.find_element(By.TAG_NAME, 'label')\n",
    "            sym = sym.find_element(By.CLASS_NAME, 'body-symptom-text').text\n",
    "            print(sym)\n",
    "            symptoms.append(sym)\n",
    "\n",
    "        body_part[i.text] = symptoms\n",
    "        break\n",
    "\n",
    "        driver.find_element(By.CLASS_NAME, 'body-symptoms-back-button').click()\n",
    "\n",
    "    return body_part"
   ]
  },
  {
   "cell_type": "code",
   "execution_count": 79,
   "id": "09637991",
   "metadata": {
    "scrolled": true
   },
   "outputs": [
    {
     "name": "stdout",
     "output_type": "stream",
     "text": [
      "\n"
     ]
    },
    {
     "name": "stderr",
     "output_type": "stream",
     "text": [
      "C:\\Users\\ikath\\AppData\\Local\\Temp\\ipykernel_14476\\3792308874.py:4: DeprecationWarning: executable_path has been deprecated, please pass in a Service object\n",
      "  driver = webdriver.Chrome(\n"
     ]
    },
    {
     "name": "stdout",
     "output_type": "stream",
     "text": [
      "<selenium.webdriver.remote.webelement.WebElement (session=\"9b9c38c7b76d04574823975b153e1daf\", element=\"c735d782-ff5f-4d29-806e-2d251635723a\")>\n",
      "<selenium.webdriver.remote.webelement.WebElement (session=\"9b9c38c7b76d04574823975b153e1daf\", element=\"2314bee0-f119-4ef9-a36d-d21d0ee822bd\")>\n",
      "[]\n"
     ]
    },
    {
     "data": {
      "text/plain": [
       "{'General Symptoms': []}"
      ]
     },
     "execution_count": 79,
     "metadata": {},
     "output_type": "execute_result"
    }
   ],
   "source": [
    "scrape_symptoms()"
   ]
  },
  {
   "cell_type": "code",
   "execution_count": null,
   "id": "e1f8ba55",
   "metadata": {},
   "outputs": [],
   "source": []
  },
  {
   "cell_type": "code",
   "execution_count": 3,
   "id": "ebf8b593",
   "metadata": {},
   "outputs": [],
   "source": [
    "def scrape_justdial(topic, cities):\n",
    "    driver = webdriver.Chrome(\n",
    "        os.environ.get(\"CHROMEDRIVER_PATH\"), options=options\n",
    "    )\n",
    "    doc_name = []\n",
    "    doc_contact = []\n",
    "    doc_rating = []\n",
    "    doc_tags = []\n",
    "    for city in cities:\n",
    "        for page in range(1, 5):\n",
    "            try:\n",
    "                path = f\"https://www.justdial.com/{city}/{topic}/page-{page}\"\n",
    "                driver.get(path)\n",
    "                driver.set_page_load_timeout(5)\n",
    "\n",
    "                # getting all details\n",
    "                Details = driver.find_elements_by_class_name('store-details')\n",
    "\n",
    "                for i in range(len(Details)):\n",
    "                    # name of doctor or clinic\n",
    "                    name = Details[i].find_element_by_class_name(\n",
    "                        'lng_cont_name').text\n",
    "                    # rating\n",
    "                    rating = Details[i].find_elements_by_class_name(\n",
    "                        'green-box')[0].text\n",
    "                    # tags\n",
    "                    tags = Details[i].find_elements_by_class_name('addrinftxt')\n",
    "                    tags = \", \".join([i.text for i in tags if not \"..\" in i.text])\n",
    "                    # contact\n",
    "                    contact = Details[i].find_elements_by_class_name('mobilesv')\n",
    "\n",
    "                    number = []\n",
    "                    for j in range(len(contact)):\n",
    "                        myString = contact[j].get_attribute('class').split(\"-\")[1]\n",
    "                        number.append(strings_to_num(myString))\n",
    "\n",
    "                    doc_name.append(name)\n",
    "                    doc_contact.append(\"\".join(number))\n",
    "                    doc_rating.append(rating)\n",
    "                    doc_tags.append(tags)\n",
    "\n",
    "            except:\n",
    "                pass\n",
    "    driver.quit()\n",
    "\n",
    "    data = {\n",
    "        'Doctor/Clinic': doc_name,\n",
    "        'Phone': doc_contact,\n",
    "        'Rating': doc_rating,\n",
    "        'Tags': doc_tags\n",
    "    }\n",
    "\n",
    "    return data"
   ]
  },
  {
   "cell_type": "code",
   "execution_count": null,
   "id": "fedc3775",
   "metadata": {},
   "outputs": [],
   "source": []
  },
  {
   "cell_type": "code",
   "execution_count": null,
   "id": "3d928a8c",
   "metadata": {},
   "outputs": [],
   "source": []
  }
 ],
 "metadata": {
  "kernelspec": {
   "display_name": "Python 3 (ipykernel)",
   "language": "python",
   "name": "python3"
  },
  "language_info": {
   "codemirror_mode": {
    "name": "ipython",
    "version": 3
   },
   "file_extension": ".py",
   "mimetype": "text/x-python",
   "name": "python",
   "nbconvert_exporter": "python",
   "pygments_lexer": "ipython3",
   "version": "3.10.5"
  }
 },
 "nbformat": 4,
 "nbformat_minor": 5
}
