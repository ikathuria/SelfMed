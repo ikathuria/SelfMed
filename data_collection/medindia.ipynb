{
 "cells": [
  {
   "cell_type": "code",
   "execution_count": 20,
   "id": "53f7a7a9",
   "metadata": {},
   "outputs": [],
   "source": [
    "import os\n",
    "import time\n",
    "import pandas as pd\n",
    "from tqdm import tqdm\n",
    "\n",
    "from selenium import webdriver\n",
    "from selenium.webdriver.common.by import By\n",
    "from selenium.webdriver.chrome.options import Options\n",
    "\n",
    "from webdriver_manager.chrome import ChromeDriverManager"
   ]
  },
  {
   "cell_type": "code",
   "execution_count": 21,
   "id": "c527b076",
   "metadata": {},
   "outputs": [],
   "source": [
    "options = Options()\n",
    "# options.add_argument(\"--headless\")\n",
    "options.add_argument(\"--disable-gpu\")\n",
    "options.add_argument(\"--no-sandbox\")\n",
    "options.add_argument(\"enable-automation\")\n",
    "options.add_argument(\"--disable-infobars\")\n",
    "options.add_argument(\"--disable-dev-shm-usage\")"
   ]
  },
  {
   "cell_type": "code",
   "execution_count": 22,
   "id": "b5c7056a",
   "metadata": {},
   "outputs": [],
   "source": [
    "def scrape_remedy_pages():\n",
    "    remedies = {}\n",
    "\n",
    "    driver = webdriver.Chrome(\n",
    "        ChromeDriverManager().install(),\n",
    "        options=options\n",
    "    )\n",
    "    path = \"https://www.medindia.net/homeremedies/index.asp\"\n",
    "    driver.get(path)\n",
    "\n",
    "    main = driver.find_element(By.CLASS_NAME, 'widget-table-cell')\n",
    "    eles = main.find_elements(By.CLASS_NAME, 'card-row')\n",
    "    for ele in eles:\n",
    "        link = ele.find_element(By.TAG_NAME, 'a').get_attribute('href')\n",
    "\n",
    "        name = ele.find_element(\n",
    "            By.CLASS_NAME, 'card-content'\n",
    "        ).find_element(By.CLASS_NAME, 'card-title').text\n",
    "\n",
    "        remedies[name] = link\n",
    "\n",
    "    return remedies"
   ]
  },
  {
   "cell_type": "code",
   "execution_count": 23,
   "id": "09637991",
   "metadata": {
    "scrolled": true
   },
   "outputs": [],
   "source": [
    "# name_with_link = scrape_remedy_pages()"
   ]
  },
  {
   "cell_type": "code",
   "execution_count": 24,
   "id": "e1f8ba55",
   "metadata": {},
   "outputs": [],
   "source": [
    "# pd.DataFrame.from_dict(name_with_link, orient='index').to_csv('medindia remedies link.csv')"
   ]
  },
  {
   "cell_type": "code",
   "execution_count": 25,
   "id": "71912096",
   "metadata": {},
   "outputs": [],
   "source": [
    "def scrape_remedy_info(path):\n",
    "    driver = webdriver.Chrome(\n",
    "        ChromeDriverManager().install(),\n",
    "        options=options\n",
    "    )\n",
    "    driver.get(path)\n",
    "\n",
    "    main = driver.find_element(By.XPATH, '/html/body/div[16]/div[1]/div[9]/div[4]')\n",
    "    return main.text"
   ]
  },
  {
   "cell_type": "code",
   "execution_count": 27,
   "id": "c3edf657",
   "metadata": {},
   "outputs": [
    {
     "data": {
      "text/html": [
       "<div>\n",
       "<style scoped>\n",
       "    .dataframe tbody tr th:only-of-type {\n",
       "        vertical-align: middle;\n",
       "    }\n",
       "\n",
       "    .dataframe tbody tr th {\n",
       "        vertical-align: top;\n",
       "    }\n",
       "\n",
       "    .dataframe thead th {\n",
       "        text-align: right;\n",
       "    }\n",
       "</style>\n",
       "<table border=\"1\" class=\"dataframe\">\n",
       "  <thead>\n",
       "    <tr style=\"text-align: right;\">\n",
       "      <th></th>\n",
       "      <th>name</th>\n",
       "      <th>link</th>\n",
       "    </tr>\n",
       "  </thead>\n",
       "  <tbody>\n",
       "    <tr>\n",
       "      <th>0</th>\n",
       "      <td>Acid Reflux Disease</td>\n",
       "      <td>https://www.medindia.net/homeremedies/acid-ref...</td>\n",
       "    </tr>\n",
       "    <tr>\n",
       "      <th>1</th>\n",
       "      <td>Acidity</td>\n",
       "      <td>https://www.medindia.net/homeremedies/acidity.asp</td>\n",
       "    </tr>\n",
       "    <tr>\n",
       "      <th>2</th>\n",
       "      <td>Acne</td>\n",
       "      <td>https://www.medindia.net/homeremedies/acne.asp</td>\n",
       "    </tr>\n",
       "    <tr>\n",
       "      <th>3</th>\n",
       "      <td>Age Spots</td>\n",
       "      <td>https://www.medindia.net/homeremedies/age-spot...</td>\n",
       "    </tr>\n",
       "    <tr>\n",
       "      <th>4</th>\n",
       "      <td>Alcoholism</td>\n",
       "      <td>https://www.medindia.net/homeremedies/alcoholi...</td>\n",
       "    </tr>\n",
       "    <tr>\n",
       "      <th>...</th>\n",
       "      <td>...</td>\n",
       "      <td>...</td>\n",
       "    </tr>\n",
       "    <tr>\n",
       "      <th>118</th>\n",
       "      <td>Weak Memory</td>\n",
       "      <td>https://www.medindia.net/homeremedies/weakmemo...</td>\n",
       "    </tr>\n",
       "    <tr>\n",
       "      <th>119</th>\n",
       "      <td>Weight Loss</td>\n",
       "      <td>https://www.medindia.net/homeremedies/weight-l...</td>\n",
       "    </tr>\n",
       "    <tr>\n",
       "      <th>120</th>\n",
       "      <td>White Teeth</td>\n",
       "      <td>https://www.medindia.net/homeremedies/white-te...</td>\n",
       "    </tr>\n",
       "    <tr>\n",
       "      <th>121</th>\n",
       "      <td>Whiteheads</td>\n",
       "      <td>https://www.medindia.net/homeremedies/whitehea...</td>\n",
       "    </tr>\n",
       "    <tr>\n",
       "      <th>122</th>\n",
       "      <td>Yeast Infections</td>\n",
       "      <td>https://www.medindia.net/homeremedies/yeast-in...</td>\n",
       "    </tr>\n",
       "  </tbody>\n",
       "</table>\n",
       "<p>123 rows × 2 columns</p>\n",
       "</div>"
      ],
      "text/plain": [
       "                    name                                               link\n",
       "0    Acid Reflux Disease  https://www.medindia.net/homeremedies/acid-ref...\n",
       "1                Acidity  https://www.medindia.net/homeremedies/acidity.asp\n",
       "2                   Acne     https://www.medindia.net/homeremedies/acne.asp\n",
       "3              Age Spots  https://www.medindia.net/homeremedies/age-spot...\n",
       "4             Alcoholism  https://www.medindia.net/homeremedies/alcoholi...\n",
       "..                   ...                                                ...\n",
       "118          Weak Memory  https://www.medindia.net/homeremedies/weakmemo...\n",
       "119          Weight Loss  https://www.medindia.net/homeremedies/weight-l...\n",
       "120          White Teeth  https://www.medindia.net/homeremedies/white-te...\n",
       "121           Whiteheads  https://www.medindia.net/homeremedies/whitehea...\n",
       "122     Yeast Infections  https://www.medindia.net/homeremedies/yeast-in...\n",
       "\n",
       "[123 rows x 2 columns]"
      ]
     },
     "execution_count": 27,
     "metadata": {},
     "output_type": "execute_result"
    }
   ],
   "source": [
    "df = pd.read_csv(\"medindia remedies link.csv\", names=('name', 'link'), skiprows=1)\n",
    "df\n",
    "# name_with_link = scrape_remedy_pages()"
   ]
  },
  {
   "cell_type": "code",
   "execution_count": 31,
   "id": "6e508a69",
   "metadata": {},
   "outputs": [
    {
     "data": {
      "text/plain": [
       "'https://www.medindia.net/homeremedies/back-pain.asp'"
      ]
     },
     "execution_count": 31,
     "metadata": {},
     "output_type": "execute_result"
    }
   ],
   "source": [
    "df.link[11]"
   ]
  },
  {
   "cell_type": "code",
   "execution_count": 28,
   "id": "7c3ccfeb",
   "metadata": {
    "scrolled": true
   },
   "outputs": [
    {
     "name": "stderr",
     "output_type": "stream",
     "text": [
      "\r",
      "  0%|                                                  | 0/123 [00:00<?, ?it/s]"
     ]
    },
    {
     "name": "stdout",
     "output_type": "stream",
     "text": [
      "\n"
     ]
    },
    {
     "name": "stderr",
     "output_type": "stream",
     "text": [
      "C:\\Users\\ikath\\AppData\\Local\\Temp\\ipykernel_20700\\3060858375.py:2: DeprecationWarning: executable_path has been deprecated, please pass in a Service object\n",
      "  driver = webdriver.Chrome(\n",
      "  1%|▎                                         | 1/123 [00:07<15:46,  7.76s/it]"
     ]
    },
    {
     "name": "stdout",
     "output_type": "stream",
     "text": [
      "\n"
     ]
    },
    {
     "name": "stderr",
     "output_type": "stream",
     "text": [
      "\r",
      "  2%|▋                                         | 2/123 [00:16<16:26,  8.16s/it]"
     ]
    },
    {
     "name": "stdout",
     "output_type": "stream",
     "text": [
      "\n"
     ]
    },
    {
     "name": "stderr",
     "output_type": "stream",
     "text": [
      "\r",
      "  2%|█                                         | 3/123 [00:24<16:03,  8.03s/it]"
     ]
    },
    {
     "name": "stdout",
     "output_type": "stream",
     "text": [
      "\n"
     ]
    },
    {
     "name": "stderr",
     "output_type": "stream",
     "text": [
      "\r",
      "  3%|█▎                                        | 4/123 [00:31<15:49,  7.98s/it]"
     ]
    },
    {
     "name": "stdout",
     "output_type": "stream",
     "text": [
      "\n"
     ]
    },
    {
     "name": "stderr",
     "output_type": "stream",
     "text": [
      "\r",
      "  4%|█▋                                        | 5/123 [00:39<15:43,  7.99s/it]"
     ]
    },
    {
     "name": "stdout",
     "output_type": "stream",
     "text": [
      "\n"
     ]
    },
    {
     "name": "stderr",
     "output_type": "stream",
     "text": [
      "\r",
      "  5%|██                                        | 6/123 [00:48<16:12,  8.31s/it]"
     ]
    },
    {
     "name": "stdout",
     "output_type": "stream",
     "text": [
      "\n"
     ]
    },
    {
     "name": "stderr",
     "output_type": "stream",
     "text": [
      "\r",
      "  6%|██▍                                       | 7/123 [00:57<16:07,  8.34s/it]"
     ]
    },
    {
     "name": "stdout",
     "output_type": "stream",
     "text": [
      "\n"
     ]
    },
    {
     "name": "stderr",
     "output_type": "stream",
     "text": [
      "\r",
      "  7%|██▋                                       | 8/123 [01:05<15:48,  8.25s/it]"
     ]
    },
    {
     "name": "stdout",
     "output_type": "stream",
     "text": [
      "\n"
     ]
    },
    {
     "name": "stderr",
     "output_type": "stream",
     "text": [
      "\r",
      "  7%|███                                       | 9/123 [01:15<16:38,  8.76s/it]"
     ]
    },
    {
     "name": "stdout",
     "output_type": "stream",
     "text": [
      "\n"
     ]
    },
    {
     "name": "stderr",
     "output_type": "stream",
     "text": [
      "\r",
      "  8%|███▎                                     | 10/123 [01:23<16:28,  8.74s/it]"
     ]
    },
    {
     "name": "stdout",
     "output_type": "stream",
     "text": [
      "\n"
     ]
    },
    {
     "name": "stderr",
     "output_type": "stream",
     "text": [
      "\r",
      "  9%|███▋                                     | 11/123 [01:32<16:18,  8.73s/it]"
     ]
    },
    {
     "name": "stdout",
     "output_type": "stream",
     "text": [
      "\n"
     ]
    },
    {
     "name": "stderr",
     "output_type": "stream",
     "text": [
      "  9%|███▋                                     | 11/123 [01:39<16:51,  9.03s/it]\n"
     ]
    },
    {
     "ename": "NoSuchElementException",
     "evalue": "Message: no such element: Unable to locate element: {\"method\":\"xpath\",\"selector\":\"/html/body/div[16]/div[1]/div[9]/div[4]\"}\n  (Session info: chrome=105.0.5195.102)\nStacktrace:\nBacktrace:\n\tOrdinal0 [0x00CBDF13+2219795]\n\tOrdinal0 [0x00C52841+1779777]\n\tOrdinal0 [0x00B6423D+803389]\n\tOrdinal0 [0x00B93025+995365]\n\tOrdinal0 [0x00B931EB+995819]\n\tOrdinal0 [0x00BC0F52+1183570]\n\tOrdinal0 [0x00BAE844+1108036]\n\tOrdinal0 [0x00BBF192+1175954]\n\tOrdinal0 [0x00BAE616+1107478]\n\tOrdinal0 [0x00B87F89+950153]\n\tOrdinal0 [0x00B88F56+954198]\n\tGetHandleVerifier [0x00FB2CB2+3040210]\n\tGetHandleVerifier [0x00FA2BB4+2974420]\n\tGetHandleVerifier [0x00D56A0A+565546]\n\tGetHandleVerifier [0x00D55680+560544]\n\tOrdinal0 [0x00C59A5C+1808988]\n\tOrdinal0 [0x00C5E3A8+1827752]\n\tOrdinal0 [0x00C5E495+1827989]\n\tOrdinal0 [0x00C680A4+1867940]\n\tBaseThreadInitThunk [0x76246739+25]\n\tRtlGetFullPathName_UEx [0x771090AF+1215]\n\tRtlGetFullPathName_UEx [0x7710907D+1165]\n",
     "output_type": "error",
     "traceback": [
      "\u001b[1;31m---------------------------------------------------------------------------\u001b[0m",
      "\u001b[1;31mNoSuchElementException\u001b[0m                    Traceback (most recent call last)",
      "Input \u001b[1;32mIn [28]\u001b[0m, in \u001b[0;36m<cell line: 1>\u001b[1;34m()\u001b[0m\n\u001b[0;32m      1\u001b[0m \u001b[38;5;28;01mfor\u001b[39;00m i \u001b[38;5;129;01min\u001b[39;00m tqdm(\u001b[38;5;28mrange\u001b[39m(\u001b[38;5;28mlen\u001b[39m(df\u001b[38;5;241m.\u001b[39mlink))):\n\u001b[1;32m----> 2\u001b[0m     temp \u001b[38;5;241m=\u001b[39m \u001b[43mscrape_remedy_info\u001b[49m\u001b[43m(\u001b[49m\u001b[43mdf\u001b[49m\u001b[38;5;241;43m.\u001b[39;49m\u001b[43mlink\u001b[49m\u001b[43m[\u001b[49m\u001b[43mi\u001b[49m\u001b[43m]\u001b[49m\u001b[43m)\u001b[49m\n\u001b[0;32m      3\u001b[0m     \u001b[38;5;28;01mwith\u001b[39;00m \u001b[38;5;28mopen\u001b[39m(\u001b[38;5;124mf\u001b[39m\u001b[38;5;124m'\u001b[39m\u001b[38;5;124mmedindia/\u001b[39m\u001b[38;5;132;01m{\u001b[39;00mdf\u001b[38;5;241m.\u001b[39mname[i]\u001b[38;5;132;01m}\u001b[39;00m\u001b[38;5;124m.txt\u001b[39m\u001b[38;5;124m'\u001b[39m, \u001b[38;5;124m'\u001b[39m\u001b[38;5;124mw\u001b[39m\u001b[38;5;124m'\u001b[39m) \u001b[38;5;28;01mas\u001b[39;00m f:\n\u001b[0;32m      4\u001b[0m         f\u001b[38;5;241m.\u001b[39mwrite(temp)\n",
      "Input \u001b[1;32mIn [25]\u001b[0m, in \u001b[0;36mscrape_remedy_info\u001b[1;34m(path)\u001b[0m\n\u001b[0;32m      2\u001b[0m driver \u001b[38;5;241m=\u001b[39m webdriver\u001b[38;5;241m.\u001b[39mChrome(\n\u001b[0;32m      3\u001b[0m     ChromeDriverManager()\u001b[38;5;241m.\u001b[39minstall(),\n\u001b[0;32m      4\u001b[0m     options\u001b[38;5;241m=\u001b[39moptions\n\u001b[0;32m      5\u001b[0m )\n\u001b[0;32m      6\u001b[0m driver\u001b[38;5;241m.\u001b[39mget(path)\n\u001b[1;32m----> 8\u001b[0m main \u001b[38;5;241m=\u001b[39m \u001b[43mdriver\u001b[49m\u001b[38;5;241;43m.\u001b[39;49m\u001b[43mfind_element\u001b[49m\u001b[43m(\u001b[49m\u001b[43mBy\u001b[49m\u001b[38;5;241;43m.\u001b[39;49m\u001b[43mXPATH\u001b[49m\u001b[43m,\u001b[49m\u001b[43m \u001b[49m\u001b[38;5;124;43m'\u001b[39;49m\u001b[38;5;124;43m/html/body/div[16]/div[1]/div[9]/div[4]\u001b[39;49m\u001b[38;5;124;43m'\u001b[39;49m\u001b[43m)\u001b[49m\n\u001b[0;32m      9\u001b[0m \u001b[38;5;28;01mreturn\u001b[39;00m main\u001b[38;5;241m.\u001b[39mtext\n",
      "File \u001b[1;32m~\\AppData\\Roaming\\Python\\Python310\\site-packages\\selenium\\webdriver\\remote\\webdriver.py:857\u001b[0m, in \u001b[0;36mWebDriver.find_element\u001b[1;34m(self, by, value)\u001b[0m\n\u001b[0;32m    854\u001b[0m     by \u001b[38;5;241m=\u001b[39m By\u001b[38;5;241m.\u001b[39mCSS_SELECTOR\n\u001b[0;32m    855\u001b[0m     value \u001b[38;5;241m=\u001b[39m \u001b[38;5;124m'\u001b[39m\u001b[38;5;124m[name=\u001b[39m\u001b[38;5;124m\"\u001b[39m\u001b[38;5;132;01m%s\u001b[39;00m\u001b[38;5;124m\"\u001b[39m\u001b[38;5;124m]\u001b[39m\u001b[38;5;124m'\u001b[39m \u001b[38;5;241m%\u001b[39m value\n\u001b[1;32m--> 857\u001b[0m \u001b[38;5;28;01mreturn\u001b[39;00m \u001b[38;5;28;43mself\u001b[39;49m\u001b[38;5;241;43m.\u001b[39;49m\u001b[43mexecute\u001b[49m\u001b[43m(\u001b[49m\u001b[43mCommand\u001b[49m\u001b[38;5;241;43m.\u001b[39;49m\u001b[43mFIND_ELEMENT\u001b[49m\u001b[43m,\u001b[49m\u001b[43m \u001b[49m\u001b[43m{\u001b[49m\n\u001b[0;32m    858\u001b[0m \u001b[43m    \u001b[49m\u001b[38;5;124;43m'\u001b[39;49m\u001b[38;5;124;43musing\u001b[39;49m\u001b[38;5;124;43m'\u001b[39;49m\u001b[43m:\u001b[49m\u001b[43m \u001b[49m\u001b[43mby\u001b[49m\u001b[43m,\u001b[49m\n\u001b[0;32m    859\u001b[0m \u001b[43m    \u001b[49m\u001b[38;5;124;43m'\u001b[39;49m\u001b[38;5;124;43mvalue\u001b[39;49m\u001b[38;5;124;43m'\u001b[39;49m\u001b[43m:\u001b[49m\u001b[43m \u001b[49m\u001b[43mvalue\u001b[49m\u001b[43m}\u001b[49m\u001b[43m)\u001b[49m[\u001b[38;5;124m'\u001b[39m\u001b[38;5;124mvalue\u001b[39m\u001b[38;5;124m'\u001b[39m]\n",
      "File \u001b[1;32m~\\AppData\\Roaming\\Python\\Python310\\site-packages\\selenium\\webdriver\\remote\\webdriver.py:435\u001b[0m, in \u001b[0;36mWebDriver.execute\u001b[1;34m(self, driver_command, params)\u001b[0m\n\u001b[0;32m    433\u001b[0m response \u001b[38;5;241m=\u001b[39m \u001b[38;5;28mself\u001b[39m\u001b[38;5;241m.\u001b[39mcommand_executor\u001b[38;5;241m.\u001b[39mexecute(driver_command, params)\n\u001b[0;32m    434\u001b[0m \u001b[38;5;28;01mif\u001b[39;00m response:\n\u001b[1;32m--> 435\u001b[0m     \u001b[38;5;28;43mself\u001b[39;49m\u001b[38;5;241;43m.\u001b[39;49m\u001b[43merror_handler\u001b[49m\u001b[38;5;241;43m.\u001b[39;49m\u001b[43mcheck_response\u001b[49m\u001b[43m(\u001b[49m\u001b[43mresponse\u001b[49m\u001b[43m)\u001b[49m\n\u001b[0;32m    436\u001b[0m     response[\u001b[38;5;124m'\u001b[39m\u001b[38;5;124mvalue\u001b[39m\u001b[38;5;124m'\u001b[39m] \u001b[38;5;241m=\u001b[39m \u001b[38;5;28mself\u001b[39m\u001b[38;5;241m.\u001b[39m_unwrap_value(\n\u001b[0;32m    437\u001b[0m         response\u001b[38;5;241m.\u001b[39mget(\u001b[38;5;124m'\u001b[39m\u001b[38;5;124mvalue\u001b[39m\u001b[38;5;124m'\u001b[39m, \u001b[38;5;28;01mNone\u001b[39;00m))\n\u001b[0;32m    438\u001b[0m     \u001b[38;5;28;01mreturn\u001b[39;00m response\n",
      "File \u001b[1;32m~\\AppData\\Roaming\\Python\\Python310\\site-packages\\selenium\\webdriver\\remote\\errorhandler.py:247\u001b[0m, in \u001b[0;36mErrorHandler.check_response\u001b[1;34m(self, response)\u001b[0m\n\u001b[0;32m    245\u001b[0m         alert_text \u001b[38;5;241m=\u001b[39m value[\u001b[38;5;124m'\u001b[39m\u001b[38;5;124malert\u001b[39m\u001b[38;5;124m'\u001b[39m]\u001b[38;5;241m.\u001b[39mget(\u001b[38;5;124m'\u001b[39m\u001b[38;5;124mtext\u001b[39m\u001b[38;5;124m'\u001b[39m)\n\u001b[0;32m    246\u001b[0m     \u001b[38;5;28;01mraise\u001b[39;00m exception_class(message, screen, stacktrace, alert_text)  \u001b[38;5;66;03m# type: ignore[call-arg]  # mypy is not smart enough here\u001b[39;00m\n\u001b[1;32m--> 247\u001b[0m \u001b[38;5;28;01mraise\u001b[39;00m exception_class(message, screen, stacktrace)\n",
      "\u001b[1;31mNoSuchElementException\u001b[0m: Message: no such element: Unable to locate element: {\"method\":\"xpath\",\"selector\":\"/html/body/div[16]/div[1]/div[9]/div[4]\"}\n  (Session info: chrome=105.0.5195.102)\nStacktrace:\nBacktrace:\n\tOrdinal0 [0x00CBDF13+2219795]\n\tOrdinal0 [0x00C52841+1779777]\n\tOrdinal0 [0x00B6423D+803389]\n\tOrdinal0 [0x00B93025+995365]\n\tOrdinal0 [0x00B931EB+995819]\n\tOrdinal0 [0x00BC0F52+1183570]\n\tOrdinal0 [0x00BAE844+1108036]\n\tOrdinal0 [0x00BBF192+1175954]\n\tOrdinal0 [0x00BAE616+1107478]\n\tOrdinal0 [0x00B87F89+950153]\n\tOrdinal0 [0x00B88F56+954198]\n\tGetHandleVerifier [0x00FB2CB2+3040210]\n\tGetHandleVerifier [0x00FA2BB4+2974420]\n\tGetHandleVerifier [0x00D56A0A+565546]\n\tGetHandleVerifier [0x00D55680+560544]\n\tOrdinal0 [0x00C59A5C+1808988]\n\tOrdinal0 [0x00C5E3A8+1827752]\n\tOrdinal0 [0x00C5E495+1827989]\n\tOrdinal0 [0x00C680A4+1867940]\n\tBaseThreadInitThunk [0x76246739+25]\n\tRtlGetFullPathName_UEx [0x771090AF+1215]\n\tRtlGetFullPathName_UEx [0x7710907D+1165]\n"
     ]
    }
   ],
   "source": [
    "for i in range(len(df.link)):\n",
    "    print(df.name[i])\n",
    "    temp = scrape_remedy_info(df.link[i])\n",
    "    with open(f'medindia/{df.name[i]}.txt', 'w') as f:\n",
    "        f.write(temp)"
   ]
  },
  {
   "cell_type": "code",
   "execution_count": 12,
   "id": "fedc3775",
   "metadata": {},
   "outputs": [
    {
     "data": {
      "text/plain": [
       "'https://www.medindia.net/homeremedies/acid-reflux-disease.asp'"
      ]
     },
     "execution_count": 12,
     "metadata": {},
     "output_type": "execute_result"
    }
   ],
   "source": [
    "df = pd.read_csv(\"medindia remedies link.csv\", names=('name', 'link'), skiprows=1)\n",
    "df.link[0]\n",
    "# name_with_link = scrape_remedy_pages()"
   ]
  },
  {
   "cell_type": "code",
   "execution_count": null,
   "id": "6e5fc7b5",
   "metadata": {},
   "outputs": [],
   "source": []
  },
  {
   "cell_type": "code",
   "execution_count": null,
   "id": "335810f9",
   "metadata": {},
   "outputs": [],
   "source": []
  },
  {
   "cell_type": "code",
   "execution_count": null,
   "id": "6381abfe",
   "metadata": {},
   "outputs": [],
   "source": []
  },
  {
   "cell_type": "code",
   "execution_count": null,
   "id": "3d928a8c",
   "metadata": {},
   "outputs": [],
   "source": []
  }
 ],
 "metadata": {
  "kernelspec": {
   "display_name": "Python 3 (ipykernel)",
   "language": "python",
   "name": "python3"
  },
  "language_info": {
   "codemirror_mode": {
    "name": "ipython",
    "version": 3
   },
   "file_extension": ".py",
   "mimetype": "text/x-python",
   "name": "python",
   "nbconvert_exporter": "python",
   "pygments_lexer": "ipython3",
   "version": "3.10.5"
  }
 },
 "nbformat": 4,
 "nbformat_minor": 5
}
