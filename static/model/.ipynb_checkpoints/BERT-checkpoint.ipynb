{
 "cells": [
  {
   "cell_type": "markdown",
   "metadata": {},
   "source": [
    "# BERT - Semantic Similarity\n",
    "Trains a RNN on medical diagnosis of diseases dataset data is obtained from various online sources  \n",
    "Memory network needs to predict the disease using many symptoms listed as natural language sentences\n",
    "\n",
    "## Dataset: SNLI Corpus\n",
    "1. **sentence1**: The premise caption that was supplied to the author of the pair.\n",
    "2. **sentence2**: The hypothesis caption that was written by the author of the pair.\n",
    "3. **similarity**: This is the label chosen by the majority of annotators. Where no majority exists, the label \"-\" is used (we will skip such samples here).\n",
    "\n",
    "Here are the \"similarity\" label values in our dataset\n",
    "* Contradiction: The sentences share no similarity.\n",
    "* Entailment: The sentences have similar meaning.\n",
    "* Neutral: The sentences are neutral.\n",
    "\n",
    "\n",
    "[1](\"https://www.tensorflow.org/api_docs/python/tf/keras/models/save_model\")  \n",
    "[2](\"https://www.tensorflow.org/guide/saved_model\")"
   ]
  },
  {
   "cell_type": "markdown",
   "metadata": {},
   "source": [
    "# Imports"
   ]
  },
  {
   "cell_type": "code",
   "execution_count": 2,
   "metadata": {},
   "outputs": [],
   "source": [
    "import os\n",
    "os.environ['TF_CPP_MIN_LOG_LEVEL'] = '3'\n",
    "\n",
    "import re\n",
    "import csv\n",
    "import pdb\n",
    "import h5py\n",
    "import json\n",
    "import string\n",
    "import inflect # convert number into words\n",
    "import pickle\n",
    "import tarfile\n",
    "import itertools\n",
    "from functools import reduce\n",
    "\n",
    "import pandas as pd\n",
    "import numpy as np\n",
    "\n",
    "import nltk\n",
    "from nltk.corpus import stopwords\n",
    "from nltk.tokenize import word_tokenize\n",
    "from nltk.stem import WordNetLemmatizer\n",
    "\n",
    "import tensorflow as tf\n",
    "import transformers\n",
    "from sklearn.metrics.pairwise import cosine_similarity\n",
    "\n",
    "from keras.utils.vis_utils import plot_model\n",
    "import matplotlib.pyplot as plt\n",
    "import seaborn as sns\n",
    "\n",
    "transformers.logging.set_verbosity_error()"
   ]
  },
  {
   "cell_type": "code",
   "execution_count": 3,
   "metadata": {},
   "outputs": [],
   "source": [
    "# CONFIGURATION\n",
    "\n",
    "max_length = 128  # Maximum length of input sentence to the model.\n",
    "batch_size = 32\n",
    "epochs = 3\n",
    "\n",
    "# Labels in our dataset.\n",
    "labels = [\"contradiction\", \"entailment\", \"neutral\"]"
   ]
  },
  {
   "cell_type": "markdown",
   "metadata": {},
   "source": [
    "# 1. EDA"
   ]
  },
  {
   "cell_type": "code",
   "execution_count": 4,
   "metadata": {},
   "outputs": [],
   "source": [
    "train_df = pd.read_csv(\"SNLI_Corpus/snli_1.0_train.csv\")\n",
    "valid_df = pd.read_csv(\"SNLI_Corpus/snli_1.0_dev.csv\")\n",
    "test_df = pd.read_csv(\"SNLI_Corpus/snli_1.0_test.csv\")"
   ]
  },
  {
   "cell_type": "code",
   "execution_count": 5,
   "metadata": {},
   "outputs": [
    {
     "name": "stdout",
     "output_type": "stream",
     "text": [
      "Total train samples : 550152\n",
      "Total validation samples: 10000\n",
      "Total test samples: 10000\n"
     ]
    }
   ],
   "source": [
    "# Shape of the data\n",
    "print(f\"Total train samples : {train_df.shape[0]}\")\n",
    "print(f\"Total validation samples: {valid_df.shape[0]}\")\n",
    "print(f\"Total test samples: {valid_df.shape[0]}\")"
   ]
  },
  {
   "cell_type": "markdown",
   "metadata": {},
   "source": [
    "## Dataset samples"
   ]
  },
  {
   "cell_type": "code",
   "execution_count": 6,
   "metadata": {},
   "outputs": [
    {
     "name": "stdout",
     "output_type": "stream",
     "text": [
      "Sentence1: A person on a horse jumps over a broken down airplane.\n",
      "Sentence2: A person is at a diner, ordering an omelette.\n",
      "Similarity: contradiction\n"
     ]
    }
   ],
   "source": [
    "print(f\"Sentence1: {train_df.loc[1, 'sentence1']}\")\n",
    "print(f\"Sentence2: {train_df.loc[1, 'sentence2']}\")\n",
    "print(f\"Similarity: {train_df.loc[1, 'similarity']}\")"
   ]
  },
  {
   "cell_type": "markdown",
   "metadata": {},
   "source": [
    "## Preprocess dataset"
   ]
  },
  {
   "cell_type": "code",
   "execution_count": 7,
   "metadata": {},
   "outputs": [
    {
     "name": "stdout",
     "output_type": "stream",
     "text": [
      "Number of missing values\n",
      "similarity    0\n",
      "sentence1     0\n",
      "sentence2     6\n",
      "dtype: int64\n"
     ]
    }
   ],
   "source": [
    "# Removing null values from the train dataset\n",
    "print(\"Number of missing values\")\n",
    "print(train_df.isnull().sum())\n",
    "train_df.dropna(axis=0, inplace=True)"
   ]
  },
  {
   "cell_type": "code",
   "execution_count": 8,
   "metadata": {},
   "outputs": [
    {
     "name": "stdout",
     "output_type": "stream",
     "text": [
      "Train Target Distribution\n",
      "entailment       183414\n",
      "contradiction    183185\n",
      "neutral          182762\n",
      "-                   785\n",
      "Name: similarity, dtype: int64\n"
     ]
    }
   ],
   "source": [
    "print(\"Train Target Distribution\")\n",
    "print(train_df.similarity.value_counts())"
   ]
  },
  {
   "cell_type": "code",
   "execution_count": 9,
   "metadata": {},
   "outputs": [
    {
     "name": "stdout",
     "output_type": "stream",
     "text": [
      "Validation Target Distribution\n",
      "entailment       3329\n",
      "contradiction    3278\n",
      "neutral          3235\n",
      "-                 158\n",
      "Name: similarity, dtype: int64\n"
     ]
    }
   ],
   "source": [
    "print(\"Validation Target Distribution\")\n",
    "print(valid_df.similarity.value_counts())"
   ]
  },
  {
   "cell_type": "code",
   "execution_count": 10,
   "metadata": {},
   "outputs": [],
   "source": [
    "# Removing '-' from the dataset\n",
    "\n",
    "train_df = (\n",
    "    train_df[train_df.similarity != \"-\"]\n",
    "    .sample(frac=1.0, random_state=42)\n",
    "    .reset_index(drop=True)\n",
    ")\n",
    "valid_df = (\n",
    "    valid_df[valid_df.similarity != \"-\"]\n",
    "    .sample(frac=1.0, random_state=42)\n",
    "    .reset_index(drop=True)\n",
    ")"
   ]
  },
  {
   "cell_type": "markdown",
   "metadata": {},
   "source": [
    "## One-hot encode training, validation, and test labels"
   ]
  },
  {
   "cell_type": "code",
   "execution_count": 11,
   "metadata": {},
   "outputs": [],
   "source": [
    "train_df[\"label\"] = train_df[\"similarity\"].apply(\n",
    "    lambda x: 0 if x == \"contradiction\" else 1 if x == \"entailment\" else 2\n",
    ")\n",
    "y_train = tf.keras.utils.to_categorical(train_df.label, num_classes=3)\n",
    "\n",
    "valid_df[\"label\"] = valid_df[\"similarity\"].apply(\n",
    "    lambda x: 0 if x == \"contradiction\" else 1 if x == \"entailment\" else 2\n",
    ")\n",
    "y_val = tf.keras.utils.to_categorical(valid_df.label, num_classes=3)\n",
    "\n",
    "test_df[\"label\"] = test_df[\"similarity\"].apply(\n",
    "    lambda x: 0 if x == \"contradiction\" else 1 if x == \"entailment\" else 2\n",
    ")\n",
    "y_test = tf.keras.utils.to_categorical(test_df.label, num_classes=3)"
   ]
  },
  {
   "cell_type": "markdown",
   "metadata": {},
   "source": [
    "## Create a custom data generator"
   ]
  },
  {
   "cell_type": "code",
   "execution_count": 12,
   "metadata": {},
   "outputs": [],
   "source": [
    "class BertSemanticDataGenerator(tf.keras.utils.Sequence):\n",
    "    \"\"\"Generates batches of data.\n",
    "\n",
    "    Args:\n",
    "        sentence_pairs: Array of premise and hypothesis input sentences.\n",
    "        labels: Array of labels.\n",
    "        batch_size: Integer batch size.\n",
    "        shuffle: boolean, whether to shuffle the data.\n",
    "        include_targets: boolean, whether to incude the labels.\n",
    "\n",
    "    Returns:\n",
    "        Tuples `([input_ids, attention_mask, `token_type_ids], labels)`\n",
    "        (or just `[input_ids, attention_mask, `token_type_ids]`\n",
    "         if `include_targets=False`)\n",
    "    \"\"\"\n",
    "\n",
    "    def __init__(\n",
    "        self,\n",
    "        sentence_pairs,\n",
    "        labels,\n",
    "        batch_size=batch_size,\n",
    "        shuffle=True,\n",
    "        include_targets=True,\n",
    "    ):\n",
    "        self.sentence_pairs = sentence_pairs\n",
    "        self.labels = labels\n",
    "        self.shuffle = shuffle\n",
    "        self.batch_size = batch_size\n",
    "        self.include_targets = include_targets\n",
    "\n",
    "        # Loading BERT Tokenizer to encode the text.\n",
    "        # The bert-base-uncased pretrained model is used.\n",
    "        self.tokenizer = transformers.BertTokenizer.from_pretrained(\n",
    "            \"bert-base-uncased\", do_lower_case=True\n",
    "        )\n",
    "        self.indexes = np.arange(len(self.sentence_pairs))\n",
    "        self.on_epoch_end()\n",
    "\n",
    "    def __len__(self):\n",
    "        \"\"\"Denotes the number of batches per epoch.\"\"\"\n",
    "        return len(self.sentence_pairs) // self.batch_size\n",
    "\n",
    "    def __getitem__(self, idx):\n",
    "        \"\"\"Retrieves the batch of index.\"\"\"\n",
    "        indexes = self.indexes[idx * self.batch_size : (idx + 1) * self.batch_size]\n",
    "        sentence_pairs = self.sentence_pairs[indexes]\n",
    "\n",
    "        # With BERT tokenizer's batch_encode_plus batch of both the sentences are\n",
    "        # encoded together and separated by [SEP] token.\n",
    "        encoded = self.tokenizer.batch_encode_plus(\n",
    "            sentence_pairs.tolist(),\n",
    "            add_special_tokens=True,\n",
    "            max_length=max_length,\n",
    "            return_attention_mask=True,\n",
    "            return_token_type_ids=True,\n",
    "            pad_to_max_length=True,\n",
    "            return_tensors=\"tf\",\n",
    "        )\n",
    "\n",
    "        # Convert batch of encoded features to numpy array.\n",
    "        input_ids = np.array(encoded[\"input_ids\"], dtype=\"int32\")\n",
    "        attention_masks = np.array(encoded[\"attention_mask\"], dtype=\"int32\")\n",
    "        token_type_ids = np.array(encoded[\"token_type_ids\"], dtype=\"int32\")\n",
    "\n",
    "        # Set to true if data generator is used for training/validation.\n",
    "        if self.include_targets:\n",
    "            labels = np.array(self.labels[indexes], dtype=\"int32\")\n",
    "            return [input_ids, attention_masks, token_type_ids], labels\n",
    "        else:\n",
    "            return [input_ids, attention_masks, token_type_ids]\n",
    "\n",
    "    def on_epoch_end(self):\n",
    "        \"\"\"Shuffle indexes after each epoch if shuffle is set to True.\"\"\"\n",
    "        if self.shuffle:\n",
    "            np.random.RandomState(42).shuffle(self.indexes)"
   ]
  },
  {
   "cell_type": "markdown",
   "metadata": {},
   "source": [
    "# 2. Build the model"
   ]
  },
  {
   "cell_type": "code",
   "execution_count": 13,
   "metadata": {},
   "outputs": [
    {
     "data": {
      "text/plain": [
       "[PhysicalDevice(name='/physical_device:CPU:0', device_type='CPU'),\n",
       " PhysicalDevice(name='/physical_device:GPU:0', device_type='GPU')]"
      ]
     },
     "execution_count": 13,
     "metadata": {},
     "output_type": "execute_result"
    }
   ],
   "source": [
    "tf.config.list_physical_devices()"
   ]
  },
  {
   "cell_type": "code",
   "execution_count": 14,
   "metadata": {},
   "outputs": [
    {
     "name": "stdout",
     "output_type": "stream",
     "text": [
      "Model: \"model\"\n",
      "__________________________________________________________________________________________________\n",
      " Layer (type)                   Output Shape         Param #     Connected to                     \n",
      "==================================================================================================\n",
      " input_ids (InputLayer)         [(None, 128)]        0           []                               \n",
      "                                                                                                  \n",
      " attention_masks (InputLayer)   [(None, 128)]        0           []                               \n",
      "                                                                                                  \n",
      " token_type_ids (InputLayer)    [(None, 128)]        0           []                               \n",
      "                                                                                                  \n",
      " bert (TFBertMainLayer)         TFBaseModelOutputWi  109482240   ['input_ids[0][0]',              \n",
      "                                thPoolingAndCrossAt               'attention_masks[0][0]',        \n",
      "                                tentions(last_hidde               'token_type_ids[0][0]']         \n",
      "                                n_state=(None, 128,                                               \n",
      "                                 768),                                                            \n",
      "                                 pooler_output=(Non                                               \n",
      "                                e, 768),                                                          \n",
      "                                 past_key_values=No                                               \n",
      "                                ne, hidden_states=N                                               \n",
      "                                one, attentions=Non                                               \n",
      "                                e, cross_attentions                                               \n",
      "                                =None)                                                            \n",
      "                                                                                                  \n",
      " bidirectional (Bidirectional)  (None, 128, 128)     426496      ['bert[0][0]']                   \n",
      "                                                                                                  \n",
      " global_average_pooling1d (Glob  (None, 128)         0           ['bidirectional[0][0]']          \n",
      " alAveragePooling1D)                                                                              \n",
      "                                                                                                  \n",
      " global_max_pooling1d (GlobalMa  (None, 128)         0           ['bidirectional[0][0]']          \n",
      " xPooling1D)                                                                                      \n",
      "                                                                                                  \n",
      " concatenate (Concatenate)      (None, 256)          0           ['global_average_pooling1d[0][0]'\n",
      "                                                                 , 'global_max_pooling1d[0][0]']  \n",
      "                                                                                                  \n",
      " dropout_37 (Dropout)           (None, 256)          0           ['concatenate[0][0]']            \n",
      "                                                                                                  \n",
      " dense (Dense)                  (None, 3)            771         ['dropout_37[0][0]']             \n",
      "                                                                                                  \n",
      "==================================================================================================\n",
      "Total params: 109,909,507\n",
      "Trainable params: 427,267\n",
      "Non-trainable params: 109,482,240\n",
      "__________________________________________________________________________________________________\n"
     ]
    }
   ],
   "source": [
    "# Encoded token ids from BERT tokenizer.\n",
    "input_ids = tf.keras.layers.Input(\n",
    "    shape=(max_length,), dtype=tf.int32, name=\"input_ids\"\n",
    ")\n",
    "\n",
    "# Attention masks indicates to the model which tokens should be attended to.\n",
    "attention_masks = tf.keras.layers.Input(\n",
    "    shape=(max_length,), dtype=tf.int32, name=\"attention_masks\"\n",
    ")\n",
    "\n",
    "# Token type ids are binary masks identifying different sequences in the model.\n",
    "token_type_ids = tf.keras.layers.Input(\n",
    "    shape=(max_length,), dtype=tf.int32, name=\"token_type_ids\"\n",
    ")\n",
    "\n",
    "# Loading pretrained BERT model.\n",
    "bert_model = transformers.TFBertModel.from_pretrained(\"bert-base-uncased\")\n",
    "\n",
    "# Freeze the BERT model to reuse the pretrained features without modifying them.\n",
    "bert_model.trainable = False\n",
    "\n",
    "bert_output = bert_model.bert(\n",
    "    input_ids, attention_mask=attention_masks, token_type_ids=token_type_ids\n",
    ")\n",
    "sequence_output = bert_output.last_hidden_state\n",
    "pooled_output = bert_output.pooler_output\n",
    "\n",
    "# Add trainable layers on top of frozen layers to adapt the pretrained features on the new data.\n",
    "bi_lstm = tf.keras.layers.Bidirectional(\n",
    "    tf.keras.layers.LSTM(64, return_sequences=True)\n",
    ")(sequence_output)\n",
    "\n",
    "# Applying hybrid pooling approach to bi_lstm sequence output.\n",
    "avg_pool = tf.keras.layers.GlobalAveragePooling1D()(bi_lstm)\n",
    "max_pool = tf.keras.layers.GlobalMaxPooling1D()(bi_lstm)\n",
    "concat = tf.keras.layers.concatenate([avg_pool, max_pool])\n",
    "dropout = tf.keras.layers.Dropout(0.3)(concat)\n",
    "output = tf.keras.layers.Dense(3, activation=\"softmax\")(dropout)\n",
    "\n",
    "model = tf.keras.models.Model(\n",
    "    inputs=[input_ids, attention_masks, token_type_ids],\n",
    "    outputs=output\n",
    ")\n",
    "\n",
    "model.compile(\n",
    "    optimizer=tf.keras.optimizers.Adam(),\n",
    "    loss=\"categorical_crossentropy\",\n",
    "    metrics=[\"acc\"],\n",
    ")\n",
    "\n",
    "model.summary()"
   ]
  },
  {
   "cell_type": "code",
   "execution_count": 15,
   "metadata": {},
   "outputs": [
    {
     "data": {
      "image/png": "[encoded data removed]",
      "text/plain": [
       "<IPython.core.display.Image object>"
      ]
     },
     "execution_count": 15,
     "metadata": {},
     "output_type": "execute_result"
    }
   ],
   "source": [
    "plot_model(model, show_shapes=True, show_layer_names=True)"
   ]
  },
  {
   "cell_type": "code",
   "execution_count": 16,
   "metadata": {},
   "outputs": [],
   "source": [
    "train_data = BertSemanticDataGenerator(\n",
    "    train_df[[\"sentence1\", \"sentence2\"]].values.astype(\"str\"),\n",
    "    y_train,\n",
    "    batch_size=batch_size,\n",
    "    shuffle=True,\n",
    ")\n",
    "\n",
    "valid_data = BertSemanticDataGenerator(\n",
    "    valid_df[[\"sentence1\", \"sentence2\"]].values.astype(\"str\"),\n",
    "    y_val,\n",
    "    batch_size=batch_size,\n",
    "    shuffle=False,\n",
    ")"
   ]
  },
  {
   "cell_type": "markdown",
   "metadata": {},
   "source": [
    "# 3. Train the Model"
   ]
  },
  {
   "cell_type": "code",
   "execution_count": 17,
   "metadata": {},
   "outputs": [
    {
     "name": "stdout",
     "output_type": "stream",
     "text": [
      "Epoch 1/3\n"
     ]
    },
    {
     "name": "stderr",
     "output_type": "stream",
     "text": [
      "C:\\Users\\ikath\\AppData\\Roaming\\Python\\Python310\\site-packages\\transformers\\tokenization_utils_base.py:2302: FutureWarning: The `pad_to_max_length` argument is deprecated and will be removed in a future version, use `padding=True` or `padding='longest'` to pad to the longest sequence in the batch, or use `padding='max_length'` to pad to a max length. In this case, you can give a specific length with `max_length` (e.g. `max_length=45`) or leave max_length to None to pad to the maximal input size of the model (e.g. 512 for Bert).\n",
      "  warnings.warn(\n"
     ]
    },
    {
     "name": "stdout",
     "output_type": "stream",
     "text": [
      "17167/17167 [==============================] - 3726s 216ms/step - loss: 0.5953 - acc: 0.7564 - val_loss: 0.4580 - val_acc: 0.8226\n",
      "Epoch 2/3\n",
      "17167/17167 [==============================] - 3699s 216ms/step - loss: 0.5320 - acc: 0.7876 - val_loss: 0.4432 - val_acc: 0.8307\n",
      "Epoch 3/3\n",
      "17167/17167 [==============================] - 3707s 216ms/step - loss: 0.5102 - acc: 0.7983 - val_loss: 0.4283 - val_acc: 0.8389\n"
     ]
    }
   ],
   "source": [
    "history = model.fit(\n",
    "    train_data,\n",
    "    validation_data=valid_data,\n",
    "    epochs=epochs,\n",
    "    use_multiprocessing=True,\n",
    "    workers=-1,\n",
    ")"
   ]
  },
  {
   "cell_type": "code",
   "execution_count": 18,
   "metadata": {},
   "outputs": [],
   "source": [
    "model.save('nov1.h5')"
   ]
  },
  {
   "cell_type": "markdown",
   "metadata": {},
   "source": [
    "# 4. Evaluation"
   ]
  },
  {
   "cell_type": "code",
   "execution_count": 19,
   "metadata": {},
   "outputs": [
    {
     "name": "stderr",
     "output_type": "stream",
     "text": [
      "C:\\Users\\ikath\\AppData\\Roaming\\Python\\Python310\\site-packages\\transformers\\tokenization_utils_base.py:2302: FutureWarning: The `pad_to_max_length` argument is deprecated and will be removed in a future version, use `padding=True` or `padding='longest'` to pad to the longest sequence in the batch, or use `padding='max_length'` to pad to a max length. In this case, you can give a specific length with `max_length` (e.g. `max_length=45`) or leave max_length to None to pad to the maximal input size of the model (e.g. 512 for Bert).\n",
      "  warnings.warn(\n"
     ]
    },
    {
     "name": "stdout",
     "output_type": "stream",
     "text": [
      "312/312 [==============================] - 54s 171ms/step - loss: 0.4530 - acc: 0.8211\n"
     ]
    },
    {
     "data": {
      "text/plain": [
       "[0.45296990871429443, 0.8211137652397156]"
      ]
     },
     "execution_count": 19,
     "metadata": {},
     "output_type": "execute_result"
    }
   ],
   "source": [
    "test_data = BertSemanticDataGenerator(\n",
    "    test_df[[\"sentence1\", \"sentence2\"]].values.astype(\"str\"),\n",
    "    y_test,\n",
    "    batch_size=batch_size,\n",
    "    shuffle=False,\n",
    ")\n",
    "model.evaluate(test_data, verbose=1)"
   ]
  },
  {
   "cell_type": "code",
   "execution_count": 20,
   "metadata": {},
   "outputs": [],
   "source": [
    "model.save('nov1_backup.h5')"
   ]
  },
  {
   "cell_type": "markdown",
   "metadata": {},
   "source": [
    "## Inference on custom sentences"
   ]
  },
  {
   "cell_type": "code",
   "execution_count": 21,
   "metadata": {},
   "outputs": [],
   "source": [
    "def check_similarity(sentence1, sentence2):\n",
    "    sentence_pairs = np.array([[str(sentence1), str(sentence2)]])\n",
    "    test_data = BertSemanticDataGenerator(\n",
    "        sentence_pairs, labels=None, batch_size=1, shuffle=False, include_targets=False,\n",
    "    )\n",
    "\n",
    "    proba = model.predict(test_data[0])[0]\n",
    "    idx = np.argmax(proba)\n",
    "    proba = f\"{proba[idx]: .2f}%\"\n",
    "    pred = labels[idx]\n",
    "    return pred, proba"
   ]
  },
  {
   "cell_type": "code",
   "execution_count": 37,
   "metadata": {
    "scrolled": true
   },
   "outputs": [
    {
     "name": "stdout",
     "output_type": "stream",
     "text": [
      "1/1 [==============================] - 0s 92ms/step\n"
     ]
    },
    {
     "data": {
      "text/plain": [
       "('entailment', ' 0.71%')"
      ]
     },
     "execution_count": 37,
     "metadata": {},
     "output_type": "execute_result"
    }
   ],
   "source": [
    "para = preprocess_pipe(\"Overview.\\n\\nAcne is a skin condition that occurs when your hair follicles become plugged with oil and dead skin cells. It causes whiteheads, blackheads or pimples. Acne is most common among teenagers, though it affects people of all ages.\\n\\nEffective acne treatments are available, but acne can be persistent. The pimples and bumps heal slowly, and when one begins to go away, others seem to crop up.\\n\\nDepending on its severity, acne can cause emotional distress and scar the skin. The earlier you start treatment, the lower your risk of such problems.\\n\\nSymptoms.\\n\\nAcne signs vary depending on the severity of your condition:\\n\\nWhiteheads (closed plugged pores)\\nBlackheads (open plugged pores)\\nSmall red, tender bumps (papules)\\nPimples (pustules), which are papules with pus at their tips\\nLarge, solid, painful lumps under the skin (nodules)\\nPainful, pus-filled lumps under the skin (cystic lesions).\\n\\nWhiteheads (closed plugged pores).\\n\\nBlackheads (open plugged pores).\\n\\nSmall red, tender bumps (papules).\\n\\nPimples (pustules), which are papules with pus at their tips.\\n\\nLarge, solid, painful lumps under the skin (nodules).\\n\\nPainful, pus-filled lumps under the skin (cystic lesions).\\n\\nAcne usually appears on the face, forehead, chest, upper back and shoulders.\\n\\nIf self-care remedies don't clear your acne, see your primary care doctor. He or she can prescribe stronger medications. If acne persists or is severe, you may want to seek medical treatment from a doctor who specializes in the skin (dermatologist or pediatric dermatologist).\\n\\nFor many women, acne can persist for decades, with flares common a week before menstruation. This type of acne tends to clear up without treatment in women who use contraceptives.\\n\\nIn older adults, a sudden onset of severe acne may signal an underlying disease requiring medical attention.\\n\\nThe Food and Drug Administration (FDA) warns that some popular nonprescription acne lotions, cleansers and other skin products can cause a serious reaction. This type of reaction is quite rare, so don't confuse it with any redness, irritation or itchiness that occurs in areas where you've applied medications or products.\\n\\nSeek emergency medical help if after using a skin product you experience:\\n\\nFaintness\\nDifficulty breathing\\nSwelling of the eyes, face, lips or tongue\\nTightness of the throat.\\n\\nFaintness.\\n\\nDifficulty breathing.\\n\\nSwelling of the eyes, face, lips or tongue.\\n\\nTightness of the throat.\\n\\nFrom Mayo Clinic to your inbox.\\n\\nSign up for free, and stay up to date on research advancements, health tips and current health topics, like COVID-19, plus expertise on managing health.\\n\\nCauses.\\n\\nFour main factors cause acne:\\n\\nExcess oil (sebum) production\\nHair follicles clogged by oil and dead skin cells\\nBacteria\\nInflammation.\\n\\nExcess oil (sebum) production.\\n\\nHair follicles clogged by oil and dead skin cells.\\n\\nBacteria.\\n\\nInflammation.\\n\\nAcne typically appears on your face, forehead, chest, upper back and shoulders because these areas of skin have the most oil (sebaceous) glands. Hair follicles are connected to oil glands.\\n\\nThe follicle wall may bulge and produce a whitehead. Or the plug may be open to the surface and darken, causing a blackhead. A blackhead may look like dirt stuck in pores. But actually the pore is congested with bacteria and oil, which turns brown when it's exposed to the air.\\n\\nPimples are raised red spots with a white center that develop when blocked hair follicles become inflamed or infected with bacteria. Blockages and inflammation deep inside hair follicles produce cystlike lumps beneath the surface of your skin. Other pores in your skin, which are the openings of the sweat glands, aren't usually involved in acne.\\n\\nCertain things may trigger or worsen acne:\\n\\nHormonal changes. Androgens are hormones that increase in boys and girls during puberty and cause the sebaceous glands to enlarge and make more sebum. Hormone changes during midlife, particularly in women, can lead to breakouts too.\\nCertain medications. Examples include drugs containing corticosteroids, testosterone or lithium.\\nDiet. Studies indicate that consuming certain foods — including carbohydrate-rich foods, such as bread, bagels and chips — may worsen acne. Further study is needed to examine whether people with acne would benefit from following specific dietary restrictions.\\nStress. Stress doesn't cause acne, but if you have acne already, stress may make it worse.\\n\\nHormonal changes. Androgens are hormones that increase in boys and girls during puberty and cause the sebaceous glands to enlarge and make more sebum. Hormone changes during midlife, particularly in women, can lead to breakouts too.\\n\\nCertain medications. Examples include drugs containing corticosteroids, testosterone or lithium.\\n\\nDiet. Studies indicate that consuming certain foods — including carbohydrate-rich foods, such as bread, bagels and chips — may worsen acne. Further study is needed to examine whether people with acne would benefit from following specific dietary restrictions.\\n\\nStress. Stress doesn't cause acne, but if you have acne already, stress may make it worse.\\n\\nThese factors have little effect on acne:\\n\\nChocolate and greasy foods. Eating chocolate or greasy food has little to no effect on acne.\\nHygiene. Acne isn't caused by dirty skin. In fact, scrubbing the skin too hard or cleansing with harsh soaps or chemicals irritates the skin and can make acne worse.\\nCosmetics. Cosmetics don't necessarily worsen acne, especially if you use oil-free makeup that doesn't clog pores (noncomedogenics) and remove makeup regularly. Nonoily cosmetics don't interfere with the effectiveness of acne drugs.\\n\\nChocolate and greasy foods. Eating chocolate or greasy food has little to no effect on acne.\\n\\nHygiene. Acne isn't caused by dirty skin. In fact, scrubbing the skin too hard or cleansing with harsh soaps or chemicals irritates the skin and can make acne worse.\\n\\nCosmetics. Cosmetics don't necessarily worsen acne, especially if you use oil-free makeup that doesn't clog pores (noncomedogenics) and remove makeup regularly. Nonoily cosmetics don't interfere with the effectiveness of acne drugs.\\n\\nComplications.\\n\\nPeople with darker skin types are more likely than are people with lighter skin to experience these acne complications:\\n\\nScars. Pitted skin (acne scars) and thick scars (keloids) can remain long-term after acne has healed.\\nSkin changes. After acne has cleared, the affected skin may be darker (hyperpigmented) or lighter (hypopigmented) than before the condition occurred.\\n\\nScars. Pitted skin (acne scars) and thick scars (keloids) can remain long-term after acne has healed.\\n\\nSkin changes. After acne has cleared, the affected skin may be darker (hyperpigmented) or lighter (hypopigmented) than before the condition occurred.\\n\\nRisk factors.\\n\\nRisk factors for acne include:\\n\\nAge. People of all ages can get acne, but it's most common in teenagers.\\nHormonal changes. Such changes are common during puberty or pregnancy.\\nFamily history. Genetics plays a role in acne. If both of your parents had acne, you're likely to develop it too.\\nGreasy or oily substances. You may develop acne where your skin comes into contact with oil or oily lotions and creams.\\nFriction or pressure on your skin. This can be caused by items such as telephones, cellphones, helmets, tight collars and backpacks.\\n\\nAge. People of all ages can get acne, but it's most common in teenagers.\\n\\nHormonal changes. Such changes are common during puberty or pregnancy.\\n\\nFamily history. Genetics plays a role in acne. If both of your parents had acne, you're likely to develop it too.\\n\\nGreasy or oily substances. You may develop acne where your skin comes into contact with oil or oily lotions and creams.\\n\\nFriction or pressure on your skin. This can be caused by items such as telephones, cellphones, helmets, tight collars and backpacks.\")\n",
    "query = preprocess_pipe(\"I have pimples\")\n",
    "check_similarity(para, query)"
   ]
  },
  {
   "cell_type": "code",
   "execution_count": 31,
   "metadata": {},
   "outputs": [
    {
     "data": {
      "text/plain": [
       "((47,), (47,))"
      ]
     },
     "execution_count": 31,
     "metadata": {},
     "output_type": "execute_result"
    }
   ],
   "source": [
    "df = pd.read_excel('../datasets/updated details 2.xlsx', index_col=0)\n",
    "\n",
    "diseases = df.disease.values\n",
    "diseases_overview = df.overview.values\n",
    "\n",
    "diseases.shape, diseases_overview.shape"
   ]
  },
  {
   "cell_type": "code",
   "execution_count": 32,
   "metadata": {},
   "outputs": [],
   "source": [
    "dis_dict = {}\n",
    "for i in range(47):\n",
    "    try:\n",
    "        dis_dict[diseases[i]] = preprocess_pipe(diseases_overview[i])\n",
    "    except:\n",
    "        pass"
   ]
  },
  {
   "cell_type": "code",
   "execution_count": 54,
   "metadata": {},
   "outputs": [
    {
     "data": {
      "text/plain": [
       "'hair loss'"
      ]
     },
     "execution_count": 54,
     "metadata": {},
     "output_type": "execute_result"
    }
   ],
   "source": [
    "query = \"i have hair loss\"\n",
    "query = preprocess_pipe(query)\n",
    "query"
   ]
  },
  {
   "cell_type": "code",
   "execution_count": 55,
   "metadata": {
    "scrolled": true
   },
   "outputs": [
    {
     "name": "stdout",
     "output_type": "stream",
     "text": [
      "1/1 [==============================] - 0s 106ms/step\n",
      "1/1 [==============================] - 0s 78ms/step\n",
      "1/1 [==============================] - 0s 94ms/step\n",
      "1/1 [==============================] - 0s 94ms/step\n",
      "1/1 [==============================] - 0s 94ms/step\n",
      "1/1 [==============================] - 0s 93ms/step\n",
      "1/1 [==============================] - 0s 94ms/step\n",
      "1/1 [==============================] - 0s 94ms/step\n",
      "1/1 [==============================] - 0s 93ms/step\n",
      "1/1 [==============================] - 0s 93ms/step\n",
      "1/1 [==============================] - 0s 90ms/step\n",
      "1/1 [==============================] - 0s 72ms/step\n",
      "1/1 [==============================] - 0s 94ms/step\n",
      "1/1 [==============================] - 0s 81ms/step\n",
      "1/1 [==============================] - 0s 104ms/step\n",
      "1/1 [==============================] - 0s 87ms/step\n",
      "1/1 [==============================] - 0s 87ms/step\n",
      "1/1 [==============================] - 0s 86ms/step\n",
      "1/1 [==============================] - 0s 84ms/step\n",
      "1/1 [==============================] - 0s 106ms/step\n",
      "1/1 [==============================] - 0s 99ms/step\n",
      "1/1 [==============================] - 0s 96ms/step\n",
      "1/1 [==============================] - 0s 94ms/step\n",
      "1/1 [==============================] - 0s 82ms/step\n",
      "1/1 [==============================] - 0s 83ms/step\n",
      "1/1 [==============================] - 0s 79ms/step\n",
      "1/1 [==============================] - 0s 101ms/step\n",
      "1/1 [==============================] - 0s 86ms/step\n",
      "1/1 [==============================] - 0s 83ms/step\n",
      "1/1 [==============================] - 0s 83ms/step\n",
      "1/1 [==============================] - 0s 86ms/step\n",
      "1/1 [==============================] - 0s 102ms/step\n",
      "1/1 [==============================] - 0s 85ms/step\n",
      "1/1 [==============================] - 0s 88ms/step\n",
      "1/1 [==============================] - 0s 78ms/step\n",
      "1/1 [==============================] - 0s 88ms/step\n",
      "1/1 [==============================] - 0s 80ms/step\n",
      "1/1 [==============================] - 0s 93ms/step\n",
      "1/1 [==============================] - 0s 78ms/step\n",
      "1/1 [==============================] - 0s 79ms/step\n",
      "1/1 [==============================] - 0s 89ms/step\n"
     ]
    }
   ],
   "source": [
    "scores = {}\n",
    "for key, val in dis_dict.items():\n",
    "    scores[key] = check_similarity(val, query)"
   ]
  },
  {
   "cell_type": "code",
   "execution_count": 56,
   "metadata": {},
   "outputs": [],
   "source": [
    "entails = {}\n",
    "for key, val in scores.items():\n",
    "    if val[0] == 'entailment':\n",
    "        entails[key] = val"
   ]
  },
  {
   "cell_type": "code",
   "execution_count": 57,
   "metadata": {},
   "outputs": [
    {
     "data": {
      "text/plain": [
       "{'bad breath': ('entailment', ' 0.40%'),\n",
       " 'head lice': ('entailment', ' 0.40%'),\n",
       " 'wrist pain': ('entailment', ' 0.41%'),\n",
       " 'acid reflux': ('entailment', ' 0.42%'),\n",
       " 'common cold': ('entailment', ' 0.45%'),\n",
       " 'diarrhea': ('entailment', ' 0.45%'),\n",
       " 'muscle cramp': ('entailment', ' 0.46%'),\n",
       " 'obesity': ('entailment', ' 0.46%'),\n",
       " 'pink eye': ('entailment', ' 0.49%'),\n",
       " 'body lice': ('entailment', ' 0.52%'),\n",
       " 'bags under eyes': ('entailment', ' 0.54%'),\n",
       " 'ingrown hair': ('entailment', ' 0.56%'),\n",
       " 'neck pain': ('entailment', ' 0.57%'),\n",
       " 'acute sinusitis': ('entailment', ' 0.62%'),\n",
       " 'alopecia': ('entailment', ' 0.63%'),\n",
       " 'baldness': ('entailment', ' 0.63%'),\n",
       " 'acne': ('entailment', ' 0.64%'),\n",
       " 'cavities': ('entailment', ' 0.64%'),\n",
       " 'sunburn': ('entailment', ' 0.64%'),\n",
       " 'body odor and sweating': ('entailment', ' 0.65%'),\n",
       " 'indigestion': ('entailment', ' 0.66%'),\n",
       " 'prickly heat': ('entailment', ' 0.71%'),\n",
       " 'dandruff': ('entailment', ' 0.74%'),\n",
       " 'ingrown toenails': ('entailment', ' 0.78%')}"
      ]
     },
     "execution_count": 57,
     "metadata": {},
     "output_type": "execute_result"
    }
   ],
   "source": [
    "dict(sorted(entails.items(), key=lambda item:item[1][1]))"
   ]
  },
  {
   "cell_type": "code",
   "execution_count": null,
   "metadata": {},
   "outputs": [],
   "source": []
  },
  {
   "cell_type": "code",
   "execution_count": null,
   "metadata": {},
   "outputs": [],
   "source": []
  },
  {
   "cell_type": "markdown",
   "metadata": {},
   "source": [
    "# 1 preprocess text\n",
    "\n",
    "1. Converting to lowercase\n",
    "2. Converting digits to words\n",
    "3. Remove punctuation an whitespace\n",
    "4. Removing default stopwords\n",
    "5. Lemmatization"
   ]
  },
  {
   "cell_type": "markdown",
   "metadata": {},
   "source": [
    "## 1.1 Converting to lowercase\n",
    "Happy > happy"
   ]
  },
  {
   "cell_type": "code",
   "execution_count": 23,
   "metadata": {},
   "outputs": [],
   "source": [
    "def text_lowercase(text):\n",
    "    return text.lower()"
   ]
  },
  {
   "cell_type": "markdown",
   "metadata": {},
   "source": [
    "## 1.2 Converting digits to words\n",
    "3 > three"
   ]
  },
  {
   "cell_type": "code",
   "execution_count": 24,
   "metadata": {},
   "outputs": [],
   "source": [
    "def convert_number(text):\n",
    "    p = inflect.engine()\n",
    "    temp_str = text.split()\n",
    "\n",
    "    new_string = []\n",
    "\n",
    "    for word in temp_str:\n",
    "        if word.isdigit():\n",
    "            temp = p.number_to_words(word)\n",
    "            new_string.append(temp)\n",
    "\n",
    "        else:\n",
    "            new_string.append(word)\n",
    "\n",
    "    temp_str = ' '.join(new_string)\n",
    "    return temp_str"
   ]
  },
  {
   "cell_type": "markdown",
   "metadata": {},
   "source": [
    "## 1.3 Remove punctuation and whitespace\n",
    "itching   ! > itching"
   ]
  },
  {
   "cell_type": "code",
   "execution_count": 25,
   "metadata": {},
   "outputs": [],
   "source": [
    "def remove_punctuation(text):\n",
    "    text = text.replace('_', ' ')\n",
    "    translator = str.maketrans('', '', string.punctuation)\n",
    "    return text.translate(translator)"
   ]
  },
  {
   "cell_type": "code",
   "execution_count": 26,
   "metadata": {},
   "outputs": [],
   "source": [
    "def remove_whitespace(text):\n",
    "    return  \" \".join(text.split())"
   ]
  },
  {
   "cell_type": "markdown",
   "metadata": {},
   "source": [
    "## 1.4 Removing default stopwords"
   ]
  },
  {
   "cell_type": "code",
   "execution_count": 27,
   "metadata": {},
   "outputs": [],
   "source": [
    "def remove_stopwords(text):\n",
    "    stop_words = set(stopwords.words(\"english\"))\n",
    "    word_tokens = word_tokenize(text)\n",
    "    filtered_text = [word for word in word_tokens if word not in stop_words]\n",
    "    return \" \".join(filtered_text)"
   ]
  },
  {
   "cell_type": "markdown",
   "metadata": {},
   "source": [
    "## 1.5 Lemmatization\n",
    "itching > itch"
   ]
  },
  {
   "cell_type": "code",
   "execution_count": 28,
   "metadata": {},
   "outputs": [],
   "source": [
    "def lemmatize_word(text):\n",
    "    lemmatizer = WordNetLemmatizer()\n",
    "    word_tokens = word_tokenize(text)\n",
    "\n",
    "    lemmas = [lemmatizer.lemmatize(word, pos ='v') for word in word_tokens]\n",
    "    return \" \".join(lemmas)"
   ]
  },
  {
   "cell_type": "code",
   "execution_count": 29,
   "metadata": {},
   "outputs": [],
   "source": [
    "def preprocess_pipe(text):\n",
    "    \"\"\"\n",
    "    Combining all preprocessing steps.\n",
    "    \"\"\"\n",
    "    text = text_lowercase(text)\n",
    "    text = convert_number(text)\n",
    "    text = remove_punctuation(text)\n",
    "    text = remove_whitespace(text)\n",
    "    text = remove_stopwords(text)\n",
    "    text = lemmatize_word(text)\n",
    "\n",
    "    return text"
   ]
  },
  {
   "cell_type": "code",
   "execution_count": null,
   "metadata": {},
   "outputs": [],
   "source": []
  },
  {
   "cell_type": "code",
   "execution_count": null,
   "metadata": {},
   "outputs": [],
   "source": []
  }
 ],
 "metadata": {
  "kernelspec": {
   "display_name": "Python 3 (ipykernel)",
   "language": "python",
   "name": "python3"
  },
  "language_info": {
   "codemirror_mode": {
    "name": "ipython",
    "version": 3
   },
   "file_extension": ".py",
   "mimetype": "text/x-python",
   "name": "python",
   "nbconvert_exporter": "python",
   "pygments_lexer": "ipython3",
   "version": "3.10.8"
  },
  "vscode": {
   "interpreter": {
    "hash": "26de051ba29f2982a8de78e945f0abaf191376122a1563185a90213a26c5da77"
   }
  }
 },
 "nbformat": 4,
 "nbformat_minor": 4
}
