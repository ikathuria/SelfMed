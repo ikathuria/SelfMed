{
 "cells": [
  {
   "cell_type": "code",
   "execution_count": 3,
   "id": "53f7a7a9",
   "metadata": {},
   "outputs": [],
   "source": [
    "import os\n",
    "import glob\n",
    "import time\n",
    "import pandas as pd\n",
    "from tqdm import tqdm\n",
    "\n",
    "from selenium import webdriver\n",
    "from selenium.webdriver.common.by import By\n",
    "from selenium.webdriver.chrome.options import Options\n",
    "\n",
    "from webdriver_manager.chrome import ChromeDriverManager"
   ]
  },
  {
   "cell_type": "code",
   "execution_count": 2,
   "id": "c527b076",
   "metadata": {},
   "outputs": [],
   "source": [
    "options = Options()\n",
    "options.add_argument(\"--headless\")\n",
    "options.add_argument(\"--disable-gpu\")\n",
    "options.add_argument(\"--no-sandbox\")\n",
    "options.add_argument(\"enable-automation\")\n",
    "options.add_argument(\"--disable-infobars\")\n",
    "options.add_argument(\"--disable-dev-shm-usage\")"
   ]
  },
  {
   "cell_type": "code",
   "execution_count": 10,
   "id": "a285949f",
   "metadata": {},
   "outputs": [],
   "source": [
    "final = {\n",
    "    'name': [],\n",
    "    'data': []\n",
    "}\n",
    "\n",
    "for i in glob.glob(\"*.txt\"):\n",
    "    name = i.replace('.txt', '')\n",
    "    final['name'].append(name)\n",
    "\n",
    "    with open(i, encoding='utf-8') as f:\n",
    "        content = f.read()\n",
    "\n",
    "    final['data'].append(content)"
   ]
  },
  {
   "cell_type": "code",
   "execution_count": 13,
   "id": "d8cb9c6b",
   "metadata": {},
   "outputs": [],
   "source": [
    "pd.DataFrame(final).to_excel('medindia final.xlsx')"
   ]
  },
  {
   "cell_type": "code",
   "execution_count": 3,
   "id": "b5c7056a",
   "metadata": {},
   "outputs": [],
   "source": [
    "def scrape_remedy_pages():\n",
    "    remedies = {}\n",
    "\n",
    "    driver = webdriver.Chrome(\n",
    "        ChromeDriverManager().install(),\n",
    "        options=options\n",
    "    )\n",
    "    path = \"https://www.medindia.net/homeremedies/index.asp\"\n",
    "    driver.get(path)\n",
    "\n",
    "    main = driver.find_element(By.CLASS_NAME, 'widget-table-cell')\n",
    "    eles = main.find_elements(By.CLASS_NAME, 'card-row')\n",
    "    for ele in eles:\n",
    "        link = ele.find_element(By.TAG_NAME, 'a').get_attribute('href')\n",
    "\n",
    "        name = ele.find_element(\n",
    "            By.CLASS_NAME, 'card-content'\n",
    "        ).find_element(By.CLASS_NAME, 'card-title').text\n",
    "\n",
    "        remedies[name] = link\n",
    "\n",
    "    return remedies"
   ]
  },
  {
   "cell_type": "code",
   "execution_count": 4,
   "id": "09637991",
   "metadata": {
    "scrolled": true
   },
   "outputs": [],
   "source": [
    "# name_with_link = scrape_remedy_pages()"
   ]
  },
  {
   "cell_type": "code",
   "execution_count": 5,
   "id": "e1f8ba55",
   "metadata": {},
   "outputs": [],
   "source": [
    "# pd.DataFrame.from_dict(name_with_link, orient='index').to_csv('medindia remedies link.csv')"
   ]
  },
  {
   "cell_type": "code",
   "execution_count": 8,
   "id": "c3edf657",
   "metadata": {},
   "outputs": [
    {
     "data": {
      "text/html": [
       "<div>\n",
       "<style scoped>\n",
       "    .dataframe tbody tr th:only-of-type {\n",
       "        vertical-align: middle;\n",
       "    }\n",
       "\n",
       "    .dataframe tbody tr th {\n",
       "        vertical-align: top;\n",
       "    }\n",
       "\n",
       "    .dataframe thead th {\n",
       "        text-align: right;\n",
       "    }\n",
       "</style>\n",
       "<table border=\"1\" class=\"dataframe\">\n",
       "  <thead>\n",
       "    <tr style=\"text-align: right;\">\n",
       "      <th></th>\n",
       "      <th>name</th>\n",
       "      <th>link</th>\n",
       "    </tr>\n",
       "  </thead>\n",
       "  <tbody>\n",
       "    <tr>\n",
       "      <th>0</th>\n",
       "      <td>Acid Reflux Disease</td>\n",
       "      <td>https://www.medindia.net/homeremedies/acid-ref...</td>\n",
       "    </tr>\n",
       "    <tr>\n",
       "      <th>1</th>\n",
       "      <td>Acidity</td>\n",
       "      <td>https://www.medindia.net/homeremedies/acidity.asp</td>\n",
       "    </tr>\n",
       "    <tr>\n",
       "      <th>2</th>\n",
       "      <td>Acne</td>\n",
       "      <td>https://www.medindia.net/homeremedies/acne.asp</td>\n",
       "    </tr>\n",
       "    <tr>\n",
       "      <th>3</th>\n",
       "      <td>Age Spots</td>\n",
       "      <td>https://www.medindia.net/homeremedies/age-spot...</td>\n",
       "    </tr>\n",
       "    <tr>\n",
       "      <th>4</th>\n",
       "      <td>Alcoholism</td>\n",
       "      <td>https://www.medindia.net/homeremedies/alcoholi...</td>\n",
       "    </tr>\n",
       "    <tr>\n",
       "      <th>...</th>\n",
       "      <td>...</td>\n",
       "      <td>...</td>\n",
       "    </tr>\n",
       "    <tr>\n",
       "      <th>118</th>\n",
       "      <td>Weak Memory</td>\n",
       "      <td>https://www.medindia.net/homeremedies/weakmemo...</td>\n",
       "    </tr>\n",
       "    <tr>\n",
       "      <th>119</th>\n",
       "      <td>Weight Loss</td>\n",
       "      <td>https://www.medindia.net/homeremedies/weight-l...</td>\n",
       "    </tr>\n",
       "    <tr>\n",
       "      <th>120</th>\n",
       "      <td>White Teeth</td>\n",
       "      <td>https://www.medindia.net/homeremedies/white-te...</td>\n",
       "    </tr>\n",
       "    <tr>\n",
       "      <th>121</th>\n",
       "      <td>Whiteheads</td>\n",
       "      <td>https://www.medindia.net/homeremedies/whitehea...</td>\n",
       "    </tr>\n",
       "    <tr>\n",
       "      <th>122</th>\n",
       "      <td>Yeast Infections</td>\n",
       "      <td>https://www.medindia.net/homeremedies/yeast-in...</td>\n",
       "    </tr>\n",
       "  </tbody>\n",
       "</table>\n",
       "<p>123 rows × 2 columns</p>\n",
       "</div>"
      ],
      "text/plain": [
       "                    name                                               link\n",
       "0    Acid Reflux Disease  https://www.medindia.net/homeremedies/acid-ref...\n",
       "1                Acidity  https://www.medindia.net/homeremedies/acidity.asp\n",
       "2                   Acne     https://www.medindia.net/homeremedies/acne.asp\n",
       "3              Age Spots  https://www.medindia.net/homeremedies/age-spot...\n",
       "4             Alcoholism  https://www.medindia.net/homeremedies/alcoholi...\n",
       "..                   ...                                                ...\n",
       "118          Weak Memory  https://www.medindia.net/homeremedies/weakmemo...\n",
       "119          Weight Loss  https://www.medindia.net/homeremedies/weight-l...\n",
       "120          White Teeth  https://www.medindia.net/homeremedies/white-te...\n",
       "121           Whiteheads  https://www.medindia.net/homeremedies/whitehea...\n",
       "122     Yeast Infections  https://www.medindia.net/homeremedies/yeast-in...\n",
       "\n",
       "[123 rows x 2 columns]"
      ]
     },
     "execution_count": 8,
     "metadata": {},
     "output_type": "execute_result"
    }
   ],
   "source": [
    "df = pd.read_csv(\"medindia remedies link.csv\", names=('name', 'link'), skiprows=1)\n",
    "df\n",
    "# name_with_link = scrape_remedy_pages()"
   ]
  },
  {
   "cell_type": "code",
   "execution_count": 17,
   "id": "71912096",
   "metadata": {},
   "outputs": [],
   "source": [
    "def scrape_remedy_info(path):\n",
    "    driver = webdriver.Chrome(\n",
    "        ChromeDriverManager().install(),\n",
    "        options=options\n",
    "    )\n",
    "    driver.get(path)\n",
    "\n",
    "    main = driver.find_element(By.XPATH, \"//div[@itemprop='articleBody']\")\n",
    "    return main.text"
   ]
  },
  {
   "cell_type": "code",
   "execution_count": 25,
   "id": "ee431794",
   "metadata": {},
   "outputs": [
    {
     "data": {
      "text/plain": [
       "'Top 7 Home Remedies to Get Rid of Ingrown Hair'"
      ]
     },
     "execution_count": 25,
     "metadata": {},
     "output_type": "execute_result"
    }
   ],
   "source": [
    "df.name[113]"
   ]
  },
  {
   "cell_type": "code",
   "execution_count": 28,
   "id": "7c3ccfeb",
   "metadata": {
    "scrolled": true
   },
   "outputs": [
    {
     "name": "stderr",
     "output_type": "stream",
     "text": [
      "\r",
      "  0%|                                                    | 0/9 [00:00<?, ?it/s]"
     ]
    },
    {
     "name": "stdout",
     "output_type": "stream",
     "text": [
      "\n"
     ]
    },
    {
     "name": "stderr",
     "output_type": "stream",
     "text": [
      "C:\\Users\\ikath\\AppData\\Local\\Temp\\ipykernel_24652\\1675920221.py:2: DeprecationWarning: executable_path has been deprecated, please pass in a Service object\n",
      "  driver = webdriver.Chrome(\n",
      " 11%|████▉                                       | 1/9 [00:12<01:38, 12.31s/it]"
     ]
    },
    {
     "name": "stdout",
     "output_type": "stream",
     "text": [
      "\n"
     ]
    },
    {
     "name": "stderr",
     "output_type": "stream",
     "text": [
      "\r",
      " 22%|█████████▊                                  | 2/9 [00:21<01:14, 10.63s/it]"
     ]
    },
    {
     "name": "stdout",
     "output_type": "stream",
     "text": [
      "\n"
     ]
    },
    {
     "name": "stderr",
     "output_type": "stream",
     "text": [
      "\r",
      " 33%|██████████████▋                             | 3/9 [00:30<00:59,  9.89s/it]"
     ]
    },
    {
     "name": "stdout",
     "output_type": "stream",
     "text": [
      "\n"
     ]
    },
    {
     "name": "stderr",
     "output_type": "stream",
     "text": [
      "\r",
      " 44%|███████████████████▌                        | 4/9 [00:39<00:48,  9.61s/it]"
     ]
    },
    {
     "name": "stdout",
     "output_type": "stream",
     "text": [
      "\n"
     ]
    },
    {
     "name": "stderr",
     "output_type": "stream",
     "text": [
      "\r",
      " 56%|████████████████████████▍                   | 5/9 [00:50<00:39,  9.80s/it]"
     ]
    },
    {
     "name": "stdout",
     "output_type": "stream",
     "text": [
      "\n"
     ]
    },
    {
     "name": "stderr",
     "output_type": "stream",
     "text": [
      "\r",
      " 67%|█████████████████████████████▎              | 6/9 [00:59<00:29,  9.80s/it]"
     ]
    },
    {
     "name": "stdout",
     "output_type": "stream",
     "text": [
      "\n"
     ]
    },
    {
     "name": "stderr",
     "output_type": "stream",
     "text": [
      "\r",
      " 78%|██████████████████████████████████▏         | 7/9 [01:09<00:19,  9.70s/it]"
     ]
    },
    {
     "name": "stdout",
     "output_type": "stream",
     "text": [
      "\n"
     ]
    },
    {
     "name": "stderr",
     "output_type": "stream",
     "text": [
      "\r",
      " 89%|███████████████████████████████████████     | 8/9 [01:18<00:09,  9.47s/it]"
     ]
    },
    {
     "name": "stdout",
     "output_type": "stream",
     "text": [
      "\n"
     ]
    },
    {
     "name": "stderr",
     "output_type": "stream",
     "text": [
      "100%|████████████████████████████████████████████| 9/9 [01:28<00:00,  9.89s/it]\n"
     ]
    }
   ],
   "source": [
    "for i in tqdm(range(114, len(df.link))):\n",
    "    temp = scrape_remedy_info(df.link[i])\n",
    "    with open(f\"{df.name[i].replace('/', '')}.txt\", 'w', encoding=\"utf-8\") as f:\n",
    "        f.write(temp)"
   ]
  },
  {
   "cell_type": "code",
   "execution_count": null,
   "id": "9c276e44",
   "metadata": {},
   "outputs": [],
   "source": []
  },
  {
   "cell_type": "code",
   "execution_count": null,
   "id": "8818922e",
   "metadata": {},
   "outputs": [],
   "source": []
  },
  {
   "cell_type": "code",
   "execution_count": 12,
   "id": "fedc3775",
   "metadata": {},
   "outputs": [
    {
     "data": {
      "text/plain": [
       "'https://www.medindia.net/homeremedies/acid-reflux-disease.asp'"
      ]
     },
     "execution_count": 12,
     "metadata": {},
     "output_type": "execute_result"
    }
   ],
   "source": [
    "df = pd.read_csv(\"medindia remedies link.csv\", names=('name', 'link'), skiprows=1)\n",
    "df.link[0]\n",
    "# name_with_link = scrape_remedy_pages()"
   ]
  },
  {
   "cell_type": "code",
   "execution_count": null,
   "id": "6e5fc7b5",
   "metadata": {},
   "outputs": [],
   "source": []
  },
  {
   "cell_type": "code",
   "execution_count": null,
   "id": "335810f9",
   "metadata": {},
   "outputs": [],
   "source": []
  },
  {
   "cell_type": "code",
   "execution_count": null,
   "id": "6381abfe",
   "metadata": {},
   "outputs": [],
   "source": []
  },
  {
   "cell_type": "code",
   "execution_count": null,
   "id": "3d928a8c",
   "metadata": {},
   "outputs": [],
   "source": []
  }
 ],
 "metadata": {
  "kernelspec": {
   "display_name": "Python 3 (ipykernel)",
   "language": "python",
   "name": "python3"
  },
  "language_info": {
   "codemirror_mode": {
    "name": "ipython",
    "version": 3
   },
   "file_extension": ".py",
   "mimetype": "text/x-python",
   "name": "python",
   "nbconvert_exporter": "python",
   "pygments_lexer": "ipython3",
   "version": "3.10.8"
  }
 },
 "nbformat": 4,
 "nbformat_minor": 5
}
