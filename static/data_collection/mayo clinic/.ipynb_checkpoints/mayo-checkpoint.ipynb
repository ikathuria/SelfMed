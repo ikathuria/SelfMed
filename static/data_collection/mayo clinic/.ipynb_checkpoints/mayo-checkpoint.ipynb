{
 "cells": [
  {
   "cell_type": "code",
   "execution_count": 1,
   "id": "53f7a7a9",
   "metadata": {},
   "outputs": [],
   "source": [
    "import os\n",
    "import time\n",
    "import pandas as pd\n",
    "from tqdm import tqdm\n",
    "\n",
    "from selenium import webdriver\n",
    "from selenium.webdriver.common.by import By\n",
    "from selenium.webdriver.chrome.options import Options\n",
    "\n",
    "from webdriver_manager.chrome import ChromeDriverManager"
   ]
  },
  {
   "cell_type": "code",
   "execution_count": 2,
   "id": "c527b076",
   "metadata": {},
   "outputs": [],
   "source": [
    "options = Options()\n",
    "# options.add_argument(\"--headless\")\n",
    "options.add_argument(\"--disable-gpu\")\n",
    "options.add_argument(\"--no-sandbox\")\n",
    "options.add_argument(\"enable-automation\")\n",
    "options.add_argument(\"--disable-infobars\")\n",
    "options.add_argument(\"--disable-dev-shm-usage\")\n",
    "options.binary_location = os.environ.get(\"GOOGLE_CHROME_BIN\")"
   ]
  },
  {
   "cell_type": "code",
   "execution_count": 3,
   "id": "e99c1cbf",
   "metadata": {},
   "outputs": [
    {
     "data": {
      "text/html": [
       "<div>\n",
       "<style scoped>\n",
       "    .dataframe tbody tr th:only-of-type {\n",
       "        vertical-align: middle;\n",
       "    }\n",
       "\n",
       "    .dataframe tbody tr th {\n",
       "        vertical-align: top;\n",
       "    }\n",
       "\n",
       "    .dataframe thead th {\n",
       "        text-align: right;\n",
       "    }\n",
       "</style>\n",
       "<table border=\"1\" class=\"dataframe\">\n",
       "  <thead>\n",
       "    <tr style=\"text-align: right;\">\n",
       "      <th></th>\n",
       "      <th>name</th>\n",
       "      <th>link</th>\n",
       "    </tr>\n",
       "  </thead>\n",
       "  <tbody>\n",
       "    <tr>\n",
       "      <th>0</th>\n",
       "      <td>A fib, also known as\\nAtrial fibrillation</td>\n",
       "      <td>https://www.mayoclinic.org/diseases-conditions...</td>\n",
       "    </tr>\n",
       "    <tr>\n",
       "      <th>1</th>\n",
       "      <td>Abdominal aortic aneurysm</td>\n",
       "      <td>https://www.mayoclinic.org/diseases-conditions...</td>\n",
       "    </tr>\n",
       "    <tr>\n",
       "      <th>2</th>\n",
       "      <td>Abnormally excessive sweating, also known as\\n...</td>\n",
       "      <td>https://www.mayoclinic.org/diseases-conditions...</td>\n",
       "    </tr>\n",
       "    <tr>\n",
       "      <th>3</th>\n",
       "      <td>Abscess, Bartholin's, also known as\\nBartholin...</td>\n",
       "      <td>https://www.mayoclinic.org/diseases-conditions...</td>\n",
       "    </tr>\n",
       "    <tr>\n",
       "      <th>4</th>\n",
       "      <td>Absence seizure</td>\n",
       "      <td>https://www.mayoclinic.org/diseases-conditions...</td>\n",
       "    </tr>\n",
       "  </tbody>\n",
       "</table>\n",
       "</div>"
      ],
      "text/plain": [
       "                                                name  \\\n",
       "0          A fib, also known as\\nAtrial fibrillation   \n",
       "1                          Abdominal aortic aneurysm   \n",
       "2  Abnormally excessive sweating, also known as\\n...   \n",
       "3  Abscess, Bartholin's, also known as\\nBartholin...   \n",
       "4                                    Absence seizure   \n",
       "\n",
       "                                                link  \n",
       "0  https://www.mayoclinic.org/diseases-conditions...  \n",
       "1  https://www.mayoclinic.org/diseases-conditions...  \n",
       "2  https://www.mayoclinic.org/diseases-conditions...  \n",
       "3  https://www.mayoclinic.org/diseases-conditions...  \n",
       "4  https://www.mayoclinic.org/diseases-conditions...  "
      ]
     },
     "execution_count": 3,
     "metadata": {},
     "output_type": "execute_result"
    }
   ],
   "source": [
    "dis = pd.read_csv('mayo disease links.csv')\n",
    "mayo_links = dis.link.values\n",
    "dis.head()"
   ]
  },
  {
   "cell_type": "code",
   "execution_count": 4,
   "id": "4496121f",
   "metadata": {},
   "outputs": [
    {
     "data": {
      "text/html": [
       "<div>\n",
       "<style scoped>\n",
       "    .dataframe tbody tr th:only-of-type {\n",
       "        vertical-align: middle;\n",
       "    }\n",
       "\n",
       "    .dataframe tbody tr th {\n",
       "        vertical-align: top;\n",
       "    }\n",
       "\n",
       "    .dataframe thead th {\n",
       "        text-align: right;\n",
       "    }\n",
       "</style>\n",
       "<table border=\"1\" class=\"dataframe\">\n",
       "  <thead>\n",
       "    <tr style=\"text-align: right;\">\n",
       "      <th></th>\n",
       "      <th>name</th>\n",
       "      <th>name2</th>\n",
       "    </tr>\n",
       "  </thead>\n",
       "  <tbody>\n",
       "    <tr>\n",
       "      <th>0</th>\n",
       "      <td>A fib</td>\n",
       "      <td>Atrial fibrillation</td>\n",
       "    </tr>\n",
       "    <tr>\n",
       "      <th>1</th>\n",
       "      <td>Abdominal aortic aneurysm</td>\n",
       "      <td>None</td>\n",
       "    </tr>\n",
       "    <tr>\n",
       "      <th>2</th>\n",
       "      <td>Abnormally excessive sweating</td>\n",
       "      <td>Hyperhidrosis</td>\n",
       "    </tr>\n",
       "    <tr>\n",
       "      <th>3</th>\n",
       "      <td>Abscess, Bartholin's</td>\n",
       "      <td>Bartholin's cyst</td>\n",
       "    </tr>\n",
       "    <tr>\n",
       "      <th>4</th>\n",
       "      <td>Absence seizure</td>\n",
       "      <td>None</td>\n",
       "    </tr>\n",
       "    <tr>\n",
       "      <th>...</th>\n",
       "      <td>...</td>\n",
       "      <td>...</td>\n",
       "    </tr>\n",
       "    <tr>\n",
       "      <th>2188</th>\n",
       "      <td>Yersinia pestis</td>\n",
       "      <td>Plague</td>\n",
       "    </tr>\n",
       "    <tr>\n",
       "      <th>2189</th>\n",
       "      <td>Yips</td>\n",
       "      <td>None</td>\n",
       "    </tr>\n",
       "    <tr>\n",
       "      <th>2190</th>\n",
       "      <td>Zika virus</td>\n",
       "      <td>None</td>\n",
       "    </tr>\n",
       "    <tr>\n",
       "      <th>2191</th>\n",
       "      <td>Zollinger-Ellison syndrome</td>\n",
       "      <td>None</td>\n",
       "    </tr>\n",
       "    <tr>\n",
       "      <th>2192</th>\n",
       "      <td>Zoster</td>\n",
       "      <td>Shingles</td>\n",
       "    </tr>\n",
       "  </tbody>\n",
       "</table>\n",
       "<p>2193 rows × 2 columns</p>\n",
       "</div>"
      ],
      "text/plain": [
       "                               name                name2\n",
       "0                             A fib  Atrial fibrillation\n",
       "1         Abdominal aortic aneurysm                 None\n",
       "2     Abnormally excessive sweating        Hyperhidrosis\n",
       "3              Abscess, Bartholin's     Bartholin's cyst\n",
       "4                   Absence seizure                 None\n",
       "...                             ...                  ...\n",
       "2188                Yersinia pestis               Plague\n",
       "2189                           Yips                 None\n",
       "2190                     Zika virus                 None\n",
       "2191     Zollinger-Ellison syndrome                 None\n",
       "2192                         Zoster             Shingles\n",
       "\n",
       "[2193 rows x 2 columns]"
      ]
     },
     "execution_count": 4,
     "metadata": {},
     "output_type": "execute_result"
    }
   ],
   "source": [
    "df = pd.DataFrame(\n",
    "    dis['name'].apply(lambda x: x.replace('\\n', '').split(', also known as')).to_list(),\n",
    "    columns=['name', 'name2']\n",
    ")\n",
    "df"
   ]
  },
  {
   "cell_type": "markdown",
   "id": "6f98f6a0",
   "metadata": {},
   "source": [
    "## Scrape full page of disease"
   ]
  },
  {
   "cell_type": "code",
   "execution_count": 7,
   "id": "d1cfc4ec",
   "metadata": {},
   "outputs": [],
   "source": [
    "def scrape_diseases(links):\n",
    "    diseases = {\n",
    "        'link': [],\n",
    "        'overview': [],\n",
    "        'treatment': []\n",
    "    }\n",
    "\n",
    "    driver = webdriver.Chrome(\n",
    "        ChromeDriverManager().install(),\n",
    "        options=options\n",
    "    )\n",
    "\n",
    "    viable_tags = ['h2', 'p', 'ul', 'li']\n",
    "    for path in tqdm(links):\n",
    "        driver.get(path)\n",
    "        diseases['link'].append(path)\n",
    "\n",
    "        # overview and symptoms\n",
    "        try:\n",
    "            try:\n",
    "                content = driver.find_element(By.XPATH, '/html/body/form/div[5]/article/div[1]/div[1]/div[2]')\n",
    "                content_childs = content.find_elements(By.XPATH, './/*')\n",
    "            except:\n",
    "                try:\n",
    "                    content = driver.find_element(By.XPATH, '/html/body/form/div[5]/article/div[1]/div[1]/div[3]')\n",
    "                    content_childs = content.find_elements(By.XPATH, './/*')\n",
    "                except:\n",
    "                    continue\n",
    "\n",
    "            temp = []\n",
    "            for i in content_childs:\n",
    "                if i.tag_name in viable_tags and i.get_attribute('class') != 'listGroup' and i.get_attribute('class') != 'acces-listitems':\n",
    "                    i = i.text.strip()\n",
    "                    if i != '' and i != ' ':\n",
    "                        temp.append(i)\n",
    "\n",
    "            diseases['overview'].append(\".\\n\\n\".join(temp).replace('..', '.').replace(':.', ':'))\n",
    "\n",
    "        except:\n",
    "            diseases['overview'].append('')\n",
    "\n",
    "        # diagnosis and treatment\n",
    "        try:\n",
    "            driver.find_element(By.ID, 'et_genericNavigation_diagnosis-treatment').click()\n",
    "            try:\n",
    "                content = driver.find_element(By.XPATH, '/html/body/form/div[5]/article/div[1]/div[1]/div[2]')\n",
    "                content_childs = content.find_elements(By.XPATH, './/*')\n",
    "            except:\n",
    "                try:\n",
    "                    content = driver.find_element(By.XPATH, '/html/body/form/div[5]/article/div[1]/div[1]/div[3]')\n",
    "                    content_childs = content.find_elements(By.XPATH, './/*')\n",
    "                except:\n",
    "                    continue\n",
    "\n",
    "            temp = []\n",
    "            for i in content_childs:\n",
    "                if i.tag_name in viable_tags and i.get_attribute('class') != 'listGroup' and i.get_attribute('class') != 'acces-listitems':\n",
    "                    i = i.text.strip()\n",
    "                    if i != '' and i != ' ':\n",
    "                        temp.append(i)\n",
    "\n",
    "            diseases['treatment'].append(\".\\n\\n\".join(temp).replace('..', '.').replace(':.', ':'))\n",
    "\n",
    "        except:\n",
    "            diseases['treatment'].append('')\n",
    "\n",
    "    return diseases"
   ]
  },
  {
   "cell_type": "code",
   "execution_count": 8,
   "id": "e6cf1b05",
   "metadata": {},
   "outputs": [
    {
     "name": "stdout",
     "output_type": "stream",
     "text": [
      "\n"
     ]
    },
    {
     "name": "stderr",
     "output_type": "stream",
     "text": [
      "C:\\Users\\ikath\\AppData\\Local\\Temp\\ipykernel_21092\\2574304367.py:8: DeprecationWarning: executable_path has been deprecated, please pass in a Service object\n",
      "  driver = webdriver.Chrome(\n",
      "100%|████████████████████████████████████| 2193/2193 [5:33:48<00:00,  9.13s/it]\n"
     ]
    }
   ],
   "source": [
    "x = scrape_diseases(mayo_links)"
   ]
  },
  {
   "cell_type": "code",
   "execution_count": 12,
   "id": "fd523ca1",
   "metadata": {
    "scrolled": true
   },
   "outputs": [
    {
     "data": {
      "text/html": [
       "<div>\n",
       "<style scoped>\n",
       "    .dataframe tbody tr th:only-of-type {\n",
       "        vertical-align: middle;\n",
       "    }\n",
       "\n",
       "    .dataframe tbody tr th {\n",
       "        vertical-align: top;\n",
       "    }\n",
       "\n",
       "    .dataframe thead th {\n",
       "        text-align: right;\n",
       "    }\n",
       "</style>\n",
       "<table border=\"1\" class=\"dataframe\">\n",
       "  <thead>\n",
       "    <tr style=\"text-align: right;\">\n",
       "      <th></th>\n",
       "      <th>link</th>\n",
       "      <th>overview</th>\n",
       "      <th>treatment</th>\n",
       "    </tr>\n",
       "  </thead>\n",
       "  <tbody>\n",
       "    <tr>\n",
       "      <th>0</th>\n",
       "      <td>https://www.mayoclinic.org/diseases-conditions...</td>\n",
       "      <td></td>\n",
       "      <td>Diagnosis.\\n\\nSome people are unaware that the...</td>\n",
       "    </tr>\n",
       "    <tr>\n",
       "      <th>1</th>\n",
       "      <td>https://www.mayoclinic.org/diseases-conditions...</td>\n",
       "      <td>Overview.\\n\\nAn abdominal aortic aneurysm is a...</td>\n",
       "      <td>Diagnosis.\\n\\nAbdominal aortic aneurysms are o...</td>\n",
       "    </tr>\n",
       "    <tr>\n",
       "      <th>2</th>\n",
       "      <td>https://www.mayoclinic.org/diseases-conditions...</td>\n",
       "      <td></td>\n",
       "      <td>Diagnosis.\\n\\nDiagnosing hyperhidrosis may sta...</td>\n",
       "    </tr>\n",
       "    <tr>\n",
       "      <th>3</th>\n",
       "      <td>https://www.mayoclinic.org/diseases-conditions...</td>\n",
       "      <td>Overview.\\n\\nThe Bartholin's (BAHR-toe-linz) g...</td>\n",
       "      <td>Diagnosis.\\n\\nTo diagnose a Bartholin's cyst, ...</td>\n",
       "    </tr>\n",
       "    <tr>\n",
       "      <th>4</th>\n",
       "      <td>https://www.mayoclinic.org/diseases-conditions...</td>\n",
       "      <td></td>\n",
       "      <td>Diagnosis.\\n\\nYour doctor will ask for a detai...</td>\n",
       "    </tr>\n",
       "    <tr>\n",
       "      <th>...</th>\n",
       "      <td>...</td>\n",
       "      <td>...</td>\n",
       "      <td>...</td>\n",
       "    </tr>\n",
       "    <tr>\n",
       "      <th>2188</th>\n",
       "      <td>https://www.mayoclinic.org/diseases-conditions...</td>\n",
       "      <td>None</td>\n",
       "      <td>None</td>\n",
       "    </tr>\n",
       "    <tr>\n",
       "      <th>2189</th>\n",
       "      <td>https://www.mayoclinic.org/diseases-conditions...</td>\n",
       "      <td>None</td>\n",
       "      <td>None</td>\n",
       "    </tr>\n",
       "    <tr>\n",
       "      <th>2190</th>\n",
       "      <td>https://www.mayoclinic.org/diseases-conditions...</td>\n",
       "      <td>None</td>\n",
       "      <td>None</td>\n",
       "    </tr>\n",
       "    <tr>\n",
       "      <th>2191</th>\n",
       "      <td>https://www.mayoclinic.org/diseases-conditions...</td>\n",
       "      <td>None</td>\n",
       "      <td>None</td>\n",
       "    </tr>\n",
       "    <tr>\n",
       "      <th>2192</th>\n",
       "      <td>https://www.mayoclinic.org/diseases-conditions...</td>\n",
       "      <td>None</td>\n",
       "      <td>None</td>\n",
       "    </tr>\n",
       "  </tbody>\n",
       "</table>\n",
       "<p>2193 rows × 3 columns</p>\n",
       "</div>"
      ],
      "text/plain": [
       "                                                   link  \\\n",
       "0     https://www.mayoclinic.org/diseases-conditions...   \n",
       "1     https://www.mayoclinic.org/diseases-conditions...   \n",
       "2     https://www.mayoclinic.org/diseases-conditions...   \n",
       "3     https://www.mayoclinic.org/diseases-conditions...   \n",
       "4     https://www.mayoclinic.org/diseases-conditions...   \n",
       "...                                                 ...   \n",
       "2188  https://www.mayoclinic.org/diseases-conditions...   \n",
       "2189  https://www.mayoclinic.org/diseases-conditions...   \n",
       "2190  https://www.mayoclinic.org/diseases-conditions...   \n",
       "2191  https://www.mayoclinic.org/diseases-conditions...   \n",
       "2192  https://www.mayoclinic.org/diseases-conditions...   \n",
       "\n",
       "                                               overview  \\\n",
       "0                                                         \n",
       "1     Overview.\\n\\nAn abdominal aortic aneurysm is a...   \n",
       "2                                                         \n",
       "3     Overview.\\n\\nThe Bartholin's (BAHR-toe-linz) g...   \n",
       "4                                                         \n",
       "...                                                 ...   \n",
       "2188                                               None   \n",
       "2189                                               None   \n",
       "2190                                               None   \n",
       "2191                                               None   \n",
       "2192                                               None   \n",
       "\n",
       "                                              treatment  \n",
       "0     Diagnosis.\\n\\nSome people are unaware that the...  \n",
       "1     Diagnosis.\\n\\nAbdominal aortic aneurysms are o...  \n",
       "2     Diagnosis.\\n\\nDiagnosing hyperhidrosis may sta...  \n",
       "3     Diagnosis.\\n\\nTo diagnose a Bartholin's cyst, ...  \n",
       "4     Diagnosis.\\n\\nYour doctor will ask for a detai...  \n",
       "...                                                 ...  \n",
       "2188                                               None  \n",
       "2189                                               None  \n",
       "2190                                               None  \n",
       "2191                                               None  \n",
       "2192                                               None  \n",
       "\n",
       "[2193 rows x 3 columns]"
      ]
     },
     "execution_count": 12,
     "metadata": {},
     "output_type": "execute_result"
    }
   ],
   "source": [
    "details = pd.DataFrame.from_dict(x, 'index').T\n",
    "details"
   ]
  },
  {
   "cell_type": "code",
   "execution_count": 13,
   "id": "987bf775",
   "metadata": {},
   "outputs": [],
   "source": [
    "pd.concat([df, details], axis=1).to_excel('mayooooooooooooooooooo.xlsx')"
   ]
  },
  {
   "cell_type": "code",
   "execution_count": null,
   "id": "640f0303",
   "metadata": {},
   "outputs": [],
   "source": [
    "stop"
   ]
  },
  {
   "cell_type": "code",
   "execution_count": null,
   "id": "f7685f2a",
   "metadata": {},
   "outputs": [],
   "source": []
  },
  {
   "cell_type": "code",
   "execution_count": 29,
   "id": "e4ee3673",
   "metadata": {
    "scrolled": false
   },
   "outputs": [],
   "source": [
    "# print(x['overview'][0].replace('..', '.').replace(':.', ':'))"
   ]
  },
  {
   "cell_type": "code",
   "execution_count": 34,
   "id": "dcd6c8de",
   "metadata": {
    "scrolled": true
   },
   "outputs": [
    {
     "data": {
      "text/html": [
       "<div>\n",
       "<style scoped>\n",
       "    .dataframe tbody tr th:only-of-type {\n",
       "        vertical-align: middle;\n",
       "    }\n",
       "\n",
       "    .dataframe tbody tr th {\n",
       "        vertical-align: top;\n",
       "    }\n",
       "\n",
       "    .dataframe thead th {\n",
       "        text-align: right;\n",
       "    }\n",
       "</style>\n",
       "<table border=\"1\" class=\"dataframe\">\n",
       "  <thead>\n",
       "    <tr style=\"text-align: right;\">\n",
       "      <th></th>\n",
       "      <th>link</th>\n",
       "      <th>overview</th>\n",
       "      <th>treatment</th>\n",
       "    </tr>\n",
       "  </thead>\n",
       "  <tbody>\n",
       "    <tr>\n",
       "      <th>0</th>\n",
       "      <td>https://www.mayoclinic.org/diseases-conditions...</td>\n",
       "      <td>Overview.\\n\\nGastroesophageal reflux disease (...</td>\n",
       "      <td>Diagnosis.\\n\\nYour health care provider might ...</td>\n",
       "    </tr>\n",
       "    <tr>\n",
       "      <th>1</th>\n",
       "      <td>https://www.mayoclinic.org/diseases-conditions...</td>\n",
       "      <td>Overview.\\n\\nAcne is a skin condition that occ...</td>\n",
       "      <td>Treatment.\\n\\nIf you've tried over-the-counter...</td>\n",
       "    </tr>\n",
       "    <tr>\n",
       "      <th>2</th>\n",
       "      <td>https://www.mayoclinic.org/diseases-conditions...</td>\n",
       "      <td>Overview.\\n\\nAcute sinusitis causes the spaces...</td>\n",
       "      <td>Diagnosis.\\n\\nYour doctor may ask about your s...</td>\n",
       "    </tr>\n",
       "    <tr>\n",
       "      <th>3</th>\n",
       "      <td>https://www.mayoclinic.org/diseases-conditions...</td>\n",
       "      <td>Overview.\\n\\nAllergies occur when your immune ...</td>\n",
       "      <td>Diagnosis.\\n\\nTo evaluate whether you have an ...</td>\n",
       "    </tr>\n",
       "    <tr>\n",
       "      <th>4</th>\n",
       "      <td>https://www.mayoclinic.org/diseases-conditions...</td>\n",
       "      <td>Overview.\\n\\nHair loss (alopecia) can affect j...</td>\n",
       "      <td>Diagnosis.\\n\\nBefore making a diagnosis, your ...</td>\n",
       "    </tr>\n",
       "    <tr>\n",
       "      <th>5</th>\n",
       "      <td>https://www.mayoclinic.org/diseases-conditions...</td>\n",
       "      <td>Overview.\\n\\nBad breath, also called halitosis...</td>\n",
       "      <td>Diagnosis.\\n\\nYour dentist will likely smell b...</td>\n",
       "    </tr>\n",
       "    <tr>\n",
       "      <th>6</th>\n",
       "      <td>https://www.mayoclinic.org/diseases-conditions...</td>\n",
       "      <td>Overview.\\n\\nBags under eyes are mild swelling...</td>\n",
       "      <td>Treatment.\\n\\nBags under eyes are usually a co...</td>\n",
       "    </tr>\n",
       "    <tr>\n",
       "      <th>7</th>\n",
       "      <td>https://www.mayoclinic.org/diseases-conditions...</td>\n",
       "      <td>Overview.\\n\\nHair loss (alopecia) can affect j...</td>\n",
       "      <td>Diagnosis.\\n\\nBefore making a diagnosis, your ...</td>\n",
       "    </tr>\n",
       "    <tr>\n",
       "      <th>8</th>\n",
       "      <td>https://www.mayoclinic.org/diseases-conditions...</td>\n",
       "      <td>Overview.\\n\\nBee stings are a common outdoor n...</td>\n",
       "      <td>Diagnosis.\\n\\nIf you've had a reaction to bee ...</td>\n",
       "    </tr>\n",
       "    <tr>\n",
       "      <th>9</th>\n",
       "      <td>https://www.mayoclinic.org/diseases-conditions...</td>\n",
       "      <td>Overview.\\n\\nBody lice are tiny insects, about...</td>\n",
       "      <td>Diagnosis.\\n\\nYou or your doctor can usually c...</td>\n",
       "    </tr>\n",
       "    <tr>\n",
       "      <th>10</th>\n",
       "      <td>https://www.mayoclinic.org/diseases-conditions...</td>\n",
       "      <td>Overview.\\n\\nSweating and body odor are common...</td>\n",
       "      <td>Diagnosis.\\n\\nTo diagnose a problem with sweat...</td>\n",
       "    </tr>\n",
       "    <tr>\n",
       "      <th>11</th>\n",
       "      <td>https://www.mayoclinic.org/diseases-conditions...</td>\n",
       "      <td>Overview.\\n\\nCorns and calluses are thick, har...</td>\n",
       "      <td>Diagnosis.\\n\\nYour health care provider will l...</td>\n",
       "    </tr>\n",
       "    <tr>\n",
       "      <th>12</th>\n",
       "      <td>https://www.mayoclinic.org/diseases-conditions...</td>\n",
       "      <td>Overview.\\n\\nCavities are permanently damaged ...</td>\n",
       "      <td>Diagnosis.\\n\\nYour dentist can usually detect ...</td>\n",
       "    </tr>\n",
       "    <tr>\n",
       "      <th>13</th>\n",
       "      <td>https://www.mayoclinic.org/diseases-conditions...</td>\n",
       "      <td></td>\n",
       "      <td>Diagnosis.\\n\\nYour doctor may determine a diag...</td>\n",
       "    </tr>\n",
       "    <tr>\n",
       "      <th>14</th>\n",
       "      <td>https://www.mayoclinic.org/diseases-conditions...</td>\n",
       "      <td>Overview.\\n\\nRelated information.\\n\\nCOVID-19,...</td>\n",
       "      <td>Diagnosis.\\n\\nIn general, you don't need to se...</td>\n",
       "    </tr>\n",
       "    <tr>\n",
       "      <th>15</th>\n",
       "      <td>https://www.mayoclinic.org/diseases-conditions...</td>\n",
       "      <td>Overview.\\n\\nChronic constipation is infrequen...</td>\n",
       "      <td>Diagnosis.\\n\\nIn addition to a general physica...</td>\n",
       "    </tr>\n",
       "    <tr>\n",
       "      <th>16</th>\n",
       "      <td>https://www.mayoclinic.org/diseases-conditions...</td>\n",
       "      <td>Overview.\\n\\nCorns and calluses are thick, har...</td>\n",
       "      <td>Diagnosis.\\n\\nYour health care provider will l...</td>\n",
       "    </tr>\n",
       "    <tr>\n",
       "      <th>17</th>\n",
       "      <td>https://www.mayoclinic.org/diseases-conditions...</td>\n",
       "      <td>Overview.\\n\\nDandruff is a common condition th...</td>\n",
       "      <td>Diagnosis.\\n\\nA doctor can often diagnose dand...</td>\n",
       "    </tr>\n",
       "    <tr>\n",
       "      <th>18</th>\n",
       "      <td>https://www.mayoclinic.org/diseases-conditions...</td>\n",
       "      <td>Overview.\\n\\nDengue (DENG-gey) fever is a mosq...</td>\n",
       "      <td>Diagnosis.\\n\\nDiagnosing dengue fever can be d...</td>\n",
       "    </tr>\n",
       "    <tr>\n",
       "      <th>19</th>\n",
       "      <td>https://www.mayoclinic.org/diseases-conditions...</td>\n",
       "      <td>Overview.\\n\\nDiarrhea — loose, watery and poss...</td>\n",
       "      <td>Diagnosis.\\n\\nYour doctor will ask about your ...</td>\n",
       "    </tr>\n",
       "    <tr>\n",
       "      <th>20</th>\n",
       "      <td>https://www.mayoclinic.org/diseases-conditions...</td>\n",
       "      <td>Overview.\\n\\nDizziness is a term used to descr...</td>\n",
       "      <td>Diagnosis.\\n\\nIf your doctor suspects you are ...</td>\n",
       "    </tr>\n",
       "    <tr>\n",
       "      <th>21</th>\n",
       "      <td>https://www.mayoclinic.org/diseases-conditions...</td>\n",
       "      <td>Overview.\\n\\nFarsightedness (hyperopia) is a c...</td>\n",
       "      <td>Diagnosis.\\n\\nFarsightedness is diagnosed by a...</td>\n",
       "    </tr>\n",
       "    <tr>\n",
       "      <th>22</th>\n",
       "      <td>https://www.mayoclinic.org/diseases-conditions...</td>\n",
       "      <td></td>\n",
       "      <td>Diagnosis.\\n\\nTo help diagnose generalized anx...</td>\n",
       "    </tr>\n",
       "    <tr>\n",
       "      <th>23</th>\n",
       "      <td>https://www.mayoclinic.org/diseases-conditions...</td>\n",
       "      <td>Overview.\\n\\nHead lice are tiny insects that f...</td>\n",
       "      <td>Diagnosis.\\n\\nAccording to the American Academ...</td>\n",
       "    </tr>\n",
       "    <tr>\n",
       "      <th>24</th>\n",
       "      <td>https://www.mayoclinic.org/diseases-conditions...</td>\n",
       "      <td>Overview.\\n\\nHiccups are involuntary contracti...</td>\n",
       "      <td>Diagnosis.\\n\\nDuring the physical exam, your d...</td>\n",
       "    </tr>\n",
       "    <tr>\n",
       "      <th>25</th>\n",
       "      <td>https://www.mayoclinic.org/diseases-conditions...</td>\n",
       "      <td>Overview.\\n\\nIndigestion — also called dyspeps...</td>\n",
       "      <td>Diagnosis.\\n\\nYour doctor is likely to start w...</td>\n",
       "    </tr>\n",
       "    <tr>\n",
       "      <th>26</th>\n",
       "      <td>https://www.mayoclinic.org/diseases-conditions...</td>\n",
       "      <td>Overview.\\n\\nIngrown hair occurs when a hair t...</td>\n",
       "      <td>Diagnosis.\\n\\nYour health care provider is lik...</td>\n",
       "    </tr>\n",
       "    <tr>\n",
       "      <th>27</th>\n",
       "      <td>https://www.mayoclinic.org/diseases-conditions...</td>\n",
       "      <td>Overview.\\n\\nIngrown toenails are a common con...</td>\n",
       "      <td>Diagnosis.\\n\\nYour health care provider can di...</td>\n",
       "    </tr>\n",
       "    <tr>\n",
       "      <th>28</th>\n",
       "      <td>https://www.mayoclinic.org/diseases-conditions...</td>\n",
       "      <td>Overview.\\n\\nMenstrual cramps (dysmenorrhea) a...</td>\n",
       "      <td>Diagnosis.\\n\\nYour health care provider will r...</td>\n",
       "    </tr>\n",
       "    <tr>\n",
       "      <th>29</th>\n",
       "      <td>https://www.mayoclinic.org/diseases-conditions...</td>\n",
       "      <td></td>\n",
       "      <td>Diagnosis.\\n\\nAmaal Starling, M.D., a neurolog...</td>\n",
       "    </tr>\n",
       "    <tr>\n",
       "      <th>30</th>\n",
       "      <td>https://www.mayoclinic.org/diseases-conditions...</td>\n",
       "      <td>Overview.\\n\\nMosquito bites are the itchy bump...</td>\n",
       "      <td>Diagnosis.\\n\\nDoctors can usually identify mos...</td>\n",
       "    </tr>\n",
       "    <tr>\n",
       "      <th>31</th>\n",
       "      <td>https://www.mayoclinic.org/diseases-conditions...</td>\n",
       "      <td>Overview.\\n\\nA muscle cramp is a sudden and in...</td>\n",
       "      <td>Treatment.\\n\\nYou can usually treat muscle cra...</td>\n",
       "    </tr>\n",
       "    <tr>\n",
       "      <th>32</th>\n",
       "      <td>https://www.mayoclinic.org/diseases-conditions...</td>\n",
       "      <td>Overview.\\n\\nNearsightedness (myopia) is a com...</td>\n",
       "      <td>Diagnosis.\\n\\nNearsightedness is diagnosed by ...</td>\n",
       "    </tr>\n",
       "    <tr>\n",
       "      <th>33</th>\n",
       "      <td>https://www.mayoclinic.org/diseases-conditions...</td>\n",
       "      <td>Overview.\\n\\nNeck pain is common. Poor posture...</td>\n",
       "      <td>Diagnosis.\\n\\nYour health care provider will t...</td>\n",
       "    </tr>\n",
       "    <tr>\n",
       "      <th>34</th>\n",
       "      <td>https://www.mayoclinic.org/diseases-conditions...</td>\n",
       "      <td>Overview.\\n\\nObesity is a complex disease invo...</td>\n",
       "      <td>Diagnosis.\\n\\nTo diagnose obesity, your doctor...</td>\n",
       "    </tr>\n",
       "    <tr>\n",
       "      <th>35</th>\n",
       "      <td>https://www.mayoclinic.org/diseases-conditions...</td>\n",
       "      <td></td>\n",
       "      <td>Diagnosis.\\n\\nSteps to help diagnose obsessive...</td>\n",
       "    </tr>\n",
       "    <tr>\n",
       "      <th>36</th>\n",
       "      <td>https://www.mayoclinic.org/diseases-conditions...</td>\n",
       "      <td>Overview.\\n\\nA panic attack is a sudden episod...</td>\n",
       "      <td>Diagnosis.\\n\\nYour primary care provider will ...</td>\n",
       "    </tr>\n",
       "    <tr>\n",
       "      <th>37</th>\n",
       "      <td>https://www.mayoclinic.org/diseases-conditions...</td>\n",
       "      <td>Overview.\\n\\nPink eye (conjunctivitis) is an i...</td>\n",
       "      <td>Diagnosis.\\n\\nIn most cases, your doctor can d...</td>\n",
       "    </tr>\n",
       "    <tr>\n",
       "      <th>38</th>\n",
       "      <td>https://www.mayoclinic.org/diseases-conditions...</td>\n",
       "      <td>Overview.\\n\\nPolycystic ovary syndrome (PCOS) ...</td>\n",
       "      <td>Diagnosis.\\n\\nThere's no single test to specif...</td>\n",
       "    </tr>\n",
       "    <tr>\n",
       "      <th>39</th>\n",
       "      <td>https://www.mayoclinic.org/diseases-conditions...</td>\n",
       "      <td>Overview.\\n\\nPremenstrual syndrome (PMS) has a...</td>\n",
       "      <td>Diagnosis.\\n\\nThere are no unique physical fin...</td>\n",
       "    </tr>\n",
       "    <tr>\n",
       "      <th>40</th>\n",
       "      <td>https://www.mayoclinic.org/diseases-conditions...</td>\n",
       "      <td>Overview.\\n\\nHeat rash — also known as prickly...</td>\n",
       "      <td>Diagnosis.\\n\\nYou don't need tests to diagnose...</td>\n",
       "    </tr>\n",
       "    <tr>\n",
       "      <th>41</th>\n",
       "      <td>https://www.mayoclinic.org/diseases-conditions...</td>\n",
       "      <td>Overview.\\n\\nSnoring is the hoarse or harsh so...</td>\n",
       "      <td>Diagnosis.\\n\\nTo diagnose your condition, your...</td>\n",
       "    </tr>\n",
       "    <tr>\n",
       "      <th>42</th>\n",
       "      <td>https://www.mayoclinic.org/diseases-conditions...</td>\n",
       "      <td></td>\n",
       "      <td>Diagnosis.\\n\\nYour health care provider will w...</td>\n",
       "    </tr>\n",
       "    <tr>\n",
       "      <th>43</th>\n",
       "      <td>https://www.mayoclinic.org/diseases-conditions...</td>\n",
       "      <td>Overview.\\n\\nBee stings are a common outdoor n...</td>\n",
       "      <td>Diagnosis.\\n\\nIf you've had a reaction to bee ...</td>\n",
       "    </tr>\n",
       "    <tr>\n",
       "      <th>44</th>\n",
       "      <td>https://www.mayoclinic.org/diseases-conditions...</td>\n",
       "      <td>Overview.\\n\\nSunburn is inflamed, painful skin...</td>\n",
       "      <td>Diagnosis.\\n\\nDiagnosing sunburn generally inc...</td>\n",
       "    </tr>\n",
       "    <tr>\n",
       "      <th>45</th>\n",
       "      <td>https://www.mayoclinic.org/diseases-conditions...</td>\n",
       "      <td></td>\n",
       "      <td>Diagnosis.\\n\\nIf you have chronic or recurrent...</td>\n",
       "    </tr>\n",
       "    <tr>\n",
       "      <th>46</th>\n",
       "      <td>https://www.mayoclinic.org/diseases-conditions...</td>\n",
       "      <td>Overview.\\n\\nWrist pain is often caused by spr...</td>\n",
       "      <td>Diagnosis.\\n\\nDuring the physical exam, your d...</td>\n",
       "    </tr>\n",
       "  </tbody>\n",
       "</table>\n",
       "</div>"
      ],
      "text/plain": [
       "                                                 link  \\\n",
       "0   https://www.mayoclinic.org/diseases-conditions...   \n",
       "1   https://www.mayoclinic.org/diseases-conditions...   \n",
       "2   https://www.mayoclinic.org/diseases-conditions...   \n",
       "3   https://www.mayoclinic.org/diseases-conditions...   \n",
       "4   https://www.mayoclinic.org/diseases-conditions...   \n",
       "5   https://www.mayoclinic.org/diseases-conditions...   \n",
       "6   https://www.mayoclinic.org/diseases-conditions...   \n",
       "7   https://www.mayoclinic.org/diseases-conditions...   \n",
       "8   https://www.mayoclinic.org/diseases-conditions...   \n",
       "9   https://www.mayoclinic.org/diseases-conditions...   \n",
       "10  https://www.mayoclinic.org/diseases-conditions...   \n",
       "11  https://www.mayoclinic.org/diseases-conditions...   \n",
       "12  https://www.mayoclinic.org/diseases-conditions...   \n",
       "13  https://www.mayoclinic.org/diseases-conditions...   \n",
       "14  https://www.mayoclinic.org/diseases-conditions...   \n",
       "15  https://www.mayoclinic.org/diseases-conditions...   \n",
       "16  https://www.mayoclinic.org/diseases-conditions...   \n",
       "17  https://www.mayoclinic.org/diseases-conditions...   \n",
       "18  https://www.mayoclinic.org/diseases-conditions...   \n",
       "19  https://www.mayoclinic.org/diseases-conditions...   \n",
       "20  https://www.mayoclinic.org/diseases-conditions...   \n",
       "21  https://www.mayoclinic.org/diseases-conditions...   \n",
       "22  https://www.mayoclinic.org/diseases-conditions...   \n",
       "23  https://www.mayoclinic.org/diseases-conditions...   \n",
       "24  https://www.mayoclinic.org/diseases-conditions...   \n",
       "25  https://www.mayoclinic.org/diseases-conditions...   \n",
       "26  https://www.mayoclinic.org/diseases-conditions...   \n",
       "27  https://www.mayoclinic.org/diseases-conditions...   \n",
       "28  https://www.mayoclinic.org/diseases-conditions...   \n",
       "29  https://www.mayoclinic.org/diseases-conditions...   \n",
       "30  https://www.mayoclinic.org/diseases-conditions...   \n",
       "31  https://www.mayoclinic.org/diseases-conditions...   \n",
       "32  https://www.mayoclinic.org/diseases-conditions...   \n",
       "33  https://www.mayoclinic.org/diseases-conditions...   \n",
       "34  https://www.mayoclinic.org/diseases-conditions...   \n",
       "35  https://www.mayoclinic.org/diseases-conditions...   \n",
       "36  https://www.mayoclinic.org/diseases-conditions...   \n",
       "37  https://www.mayoclinic.org/diseases-conditions...   \n",
       "38  https://www.mayoclinic.org/diseases-conditions...   \n",
       "39  https://www.mayoclinic.org/diseases-conditions...   \n",
       "40  https://www.mayoclinic.org/diseases-conditions...   \n",
       "41  https://www.mayoclinic.org/diseases-conditions...   \n",
       "42  https://www.mayoclinic.org/diseases-conditions...   \n",
       "43  https://www.mayoclinic.org/diseases-conditions...   \n",
       "44  https://www.mayoclinic.org/diseases-conditions...   \n",
       "45  https://www.mayoclinic.org/diseases-conditions...   \n",
       "46  https://www.mayoclinic.org/diseases-conditions...   \n",
       "\n",
       "                                             overview  \\\n",
       "0   Overview.\\n\\nGastroesophageal reflux disease (...   \n",
       "1   Overview.\\n\\nAcne is a skin condition that occ...   \n",
       "2   Overview.\\n\\nAcute sinusitis causes the spaces...   \n",
       "3   Overview.\\n\\nAllergies occur when your immune ...   \n",
       "4   Overview.\\n\\nHair loss (alopecia) can affect j...   \n",
       "5   Overview.\\n\\nBad breath, also called halitosis...   \n",
       "6   Overview.\\n\\nBags under eyes are mild swelling...   \n",
       "7   Overview.\\n\\nHair loss (alopecia) can affect j...   \n",
       "8   Overview.\\n\\nBee stings are a common outdoor n...   \n",
       "9   Overview.\\n\\nBody lice are tiny insects, about...   \n",
       "10  Overview.\\n\\nSweating and body odor are common...   \n",
       "11  Overview.\\n\\nCorns and calluses are thick, har...   \n",
       "12  Overview.\\n\\nCavities are permanently damaged ...   \n",
       "13                                                      \n",
       "14  Overview.\\n\\nRelated information.\\n\\nCOVID-19,...   \n",
       "15  Overview.\\n\\nChronic constipation is infrequen...   \n",
       "16  Overview.\\n\\nCorns and calluses are thick, har...   \n",
       "17  Overview.\\n\\nDandruff is a common condition th...   \n",
       "18  Overview.\\n\\nDengue (DENG-gey) fever is a mosq...   \n",
       "19  Overview.\\n\\nDiarrhea — loose, watery and poss...   \n",
       "20  Overview.\\n\\nDizziness is a term used to descr...   \n",
       "21  Overview.\\n\\nFarsightedness (hyperopia) is a c...   \n",
       "22                                                      \n",
       "23  Overview.\\n\\nHead lice are tiny insects that f...   \n",
       "24  Overview.\\n\\nHiccups are involuntary contracti...   \n",
       "25  Overview.\\n\\nIndigestion — also called dyspeps...   \n",
       "26  Overview.\\n\\nIngrown hair occurs when a hair t...   \n",
       "27  Overview.\\n\\nIngrown toenails are a common con...   \n",
       "28  Overview.\\n\\nMenstrual cramps (dysmenorrhea) a...   \n",
       "29                                                      \n",
       "30  Overview.\\n\\nMosquito bites are the itchy bump...   \n",
       "31  Overview.\\n\\nA muscle cramp is a sudden and in...   \n",
       "32  Overview.\\n\\nNearsightedness (myopia) is a com...   \n",
       "33  Overview.\\n\\nNeck pain is common. Poor posture...   \n",
       "34  Overview.\\n\\nObesity is a complex disease invo...   \n",
       "35                                                      \n",
       "36  Overview.\\n\\nA panic attack is a sudden episod...   \n",
       "37  Overview.\\n\\nPink eye (conjunctivitis) is an i...   \n",
       "38  Overview.\\n\\nPolycystic ovary syndrome (PCOS) ...   \n",
       "39  Overview.\\n\\nPremenstrual syndrome (PMS) has a...   \n",
       "40  Overview.\\n\\nHeat rash — also known as prickly...   \n",
       "41  Overview.\\n\\nSnoring is the hoarse or harsh so...   \n",
       "42                                                      \n",
       "43  Overview.\\n\\nBee stings are a common outdoor n...   \n",
       "44  Overview.\\n\\nSunburn is inflamed, painful skin...   \n",
       "45                                                      \n",
       "46  Overview.\\n\\nWrist pain is often caused by spr...   \n",
       "\n",
       "                                            treatment  \n",
       "0   Diagnosis.\\n\\nYour health care provider might ...  \n",
       "1   Treatment.\\n\\nIf you've tried over-the-counter...  \n",
       "2   Diagnosis.\\n\\nYour doctor may ask about your s...  \n",
       "3   Diagnosis.\\n\\nTo evaluate whether you have an ...  \n",
       "4   Diagnosis.\\n\\nBefore making a diagnosis, your ...  \n",
       "5   Diagnosis.\\n\\nYour dentist will likely smell b...  \n",
       "6   Treatment.\\n\\nBags under eyes are usually a co...  \n",
       "7   Diagnosis.\\n\\nBefore making a diagnosis, your ...  \n",
       "8   Diagnosis.\\n\\nIf you've had a reaction to bee ...  \n",
       "9   Diagnosis.\\n\\nYou or your doctor can usually c...  \n",
       "10  Diagnosis.\\n\\nTo diagnose a problem with sweat...  \n",
       "11  Diagnosis.\\n\\nYour health care provider will l...  \n",
       "12  Diagnosis.\\n\\nYour dentist can usually detect ...  \n",
       "13  Diagnosis.\\n\\nYour doctor may determine a diag...  \n",
       "14  Diagnosis.\\n\\nIn general, you don't need to se...  \n",
       "15  Diagnosis.\\n\\nIn addition to a general physica...  \n",
       "16  Diagnosis.\\n\\nYour health care provider will l...  \n",
       "17  Diagnosis.\\n\\nA doctor can often diagnose dand...  \n",
       "18  Diagnosis.\\n\\nDiagnosing dengue fever can be d...  \n",
       "19  Diagnosis.\\n\\nYour doctor will ask about your ...  \n",
       "20  Diagnosis.\\n\\nIf your doctor suspects you are ...  \n",
       "21  Diagnosis.\\n\\nFarsightedness is diagnosed by a...  \n",
       "22  Diagnosis.\\n\\nTo help diagnose generalized anx...  \n",
       "23  Diagnosis.\\n\\nAccording to the American Academ...  \n",
       "24  Diagnosis.\\n\\nDuring the physical exam, your d...  \n",
       "25  Diagnosis.\\n\\nYour doctor is likely to start w...  \n",
       "26  Diagnosis.\\n\\nYour health care provider is lik...  \n",
       "27  Diagnosis.\\n\\nYour health care provider can di...  \n",
       "28  Diagnosis.\\n\\nYour health care provider will r...  \n",
       "29  Diagnosis.\\n\\nAmaal Starling, M.D., a neurolog...  \n",
       "30  Diagnosis.\\n\\nDoctors can usually identify mos...  \n",
       "31  Treatment.\\n\\nYou can usually treat muscle cra...  \n",
       "32  Diagnosis.\\n\\nNearsightedness is diagnosed by ...  \n",
       "33  Diagnosis.\\n\\nYour health care provider will t...  \n",
       "34  Diagnosis.\\n\\nTo diagnose obesity, your doctor...  \n",
       "35  Diagnosis.\\n\\nSteps to help diagnose obsessive...  \n",
       "36  Diagnosis.\\n\\nYour primary care provider will ...  \n",
       "37  Diagnosis.\\n\\nIn most cases, your doctor can d...  \n",
       "38  Diagnosis.\\n\\nThere's no single test to specif...  \n",
       "39  Diagnosis.\\n\\nThere are no unique physical fin...  \n",
       "40  Diagnosis.\\n\\nYou don't need tests to diagnose...  \n",
       "41  Diagnosis.\\n\\nTo diagnose your condition, your...  \n",
       "42  Diagnosis.\\n\\nYour health care provider will w...  \n",
       "43  Diagnosis.\\n\\nIf you've had a reaction to bee ...  \n",
       "44  Diagnosis.\\n\\nDiagnosing sunburn generally inc...  \n",
       "45  Diagnosis.\\n\\nIf you have chronic or recurrent...  \n",
       "46  Diagnosis.\\n\\nDuring the physical exam, your d...  "
      ]
     },
     "execution_count": 34,
     "metadata": {},
     "output_type": "execute_result"
    }
   ],
   "source": [
    "details = pd.DataFrame(x)\n",
    "details"
   ]
  },
  {
   "cell_type": "code",
   "execution_count": null,
   "id": "a7c27ee6",
   "metadata": {},
   "outputs": [],
   "source": [
    "# details.overview[0].replace('. . . ', '')"
   ]
  },
  {
   "cell_type": "code",
   "execution_count": 46,
   "id": "c70f409a",
   "metadata": {},
   "outputs": [],
   "source": [
    "final = pd.concat([dis.iloc[:, :5], details.iloc[:, 1:]], axis=1)\n",
    "final.head()\n",
    "final.to_excel('../datasets/updated details 2.xlsx')"
   ]
  },
  {
   "cell_type": "code",
   "execution_count": null,
   "id": "1b80e153",
   "metadata": {},
   "outputs": [],
   "source": []
  },
  {
   "cell_type": "code",
   "execution_count": 13,
   "id": "35df1505",
   "metadata": {},
   "outputs": [],
   "source": [
    "def scrape_remedies(links):\n",
    "    driver = webdriver.Chrome(\n",
    "        ChromeDriverManager().install(),\n",
    "        options=options\n",
    "    )\n",
    "\n",
    "    disease_info = {\n",
    "        'link': [],\n",
    "        'alternatives':[],\n",
    "        'remedies': []\n",
    "    }\n",
    "\n",
    "    for path in tqdm(links):\n",
    "        disease_info['link'].append(path)\n",
    "        driver.get(path)\n",
    "\n",
    "        # going to diagnosis-treatment\n",
    "        driver.find_element(By.ID, 'et_genericNavigation_diagnosis-treatment').click()\n",
    "\n",
    "        try:\n",
    "            # alternatives\n",
    "            alts = driver.find_element(By.XPATH, \"//h2[contains(text(), 'Alternative')]/following-sibling::ul\")\n",
    "            alts = alts.find_elements(By.TAG_NAME, 'li')\n",
    "\n",
    "            temp = []\n",
    "            for a in alts:\n",
    "                temp.append(a.text)\n",
    "            disease_info['alternatives'].append(\"\\n\".join(temp))\n",
    "\n",
    "        except:\n",
    "            disease_info['alternatives'].append('')\n",
    "\n",
    "        try:\n",
    "            # home remedies\n",
    "            remedies = driver.find_element(By.XPATH, \"//h2[contains(text(), 'Lifestyle')]/following-sibling::\")\n",
    "            disease_info['remedies'].append(remedies.text)\n",
    "            # remedies = remedies.find_elements(By.TAG_NAME, 'li')\n",
    "\n",
    "            # temp = []\n",
    "            # for r in remedies:\n",
    "            #     temp.append(r.text)\n",
    "            # disease_info['remedies'].append(\"\\n\".join(temp))\n",
    "\n",
    "        except:\n",
    "            disease_info['remedies'].append('')\n",
    "\n",
    "    return disease_info"
   ]
  },
  {
   "cell_type": "code",
   "execution_count": 14,
   "id": "07cb05ae",
   "metadata": {},
   "outputs": [
    {
     "name": "stdout",
     "output_type": "stream",
     "text": [
      "\n"
     ]
    },
    {
     "name": "stderr",
     "output_type": "stream",
     "text": [
      "C:\\Users\\ikath\\AppData\\Local\\Temp\\ipykernel_27472\\687257708.py:2: DeprecationWarning: executable_path has been deprecated, please pass in a Service object\n",
      "  driver = webdriver.Chrome(\n",
      "100%|████████████████████████████████████████████| 1/1 [00:01<00:00,  1.12s/it]\n"
     ]
    }
   ],
   "source": [
    "l = ['https://www.mayoclinic.org/diseases-conditions/head-lice/symptoms-causes/syc-20356180']\n",
    "x = scrape_remedies(l)"
   ]
  },
  {
   "cell_type": "code",
   "execution_count": 15,
   "id": "422b562c",
   "metadata": {},
   "outputs": [
    {
     "data": {
      "text/plain": [
       "{'link': ['https://www.mayoclinic.org/diseases-conditions/head-lice/symptoms-causes/syc-20356180'],\n",
       " 'alternatives': [''],\n",
       " 'remedies': ['']}"
      ]
     },
     "execution_count": 15,
     "metadata": {},
     "output_type": "execute_result"
    }
   ],
   "source": [
    "x"
   ]
  },
  {
   "cell_type": "code",
   "execution_count": null,
   "id": "e4d18de3",
   "metadata": {},
   "outputs": [],
   "source": [
    "# details = pd.DataFrame(x)\n",
    "# details"
   ]
  },
  {
   "cell_type": "code",
   "execution_count": null,
   "id": "8563c7e4",
   "metadata": {},
   "outputs": [],
   "source": []
  },
  {
   "cell_type": "code",
   "execution_count": null,
   "id": "6a546a66",
   "metadata": {},
   "outputs": [],
   "source": []
  },
  {
   "cell_type": "markdown",
   "id": "b6edf926",
   "metadata": {},
   "source": [
    "## Scrape links for each disease page"
   ]
  },
  {
   "cell_type": "code",
   "execution_count": 3,
   "id": "d1d6a3dc",
   "metadata": {},
   "outputs": [],
   "source": [
    "alphabet = [\n",
    "    'A', 'B', 'C', 'D', 'E', 'F', 'G', 'H', 'I', 'J',\n",
    "    'K', 'L', 'M', 'N', 'O', 'P', 'Q', 'R', 'S', 'T',\n",
    "    'U', 'V', 'W', 'X', 'Y', 'Z'\n",
    "]"
   ]
  },
  {
   "cell_type": "code",
   "execution_count": 4,
   "id": "b5c7056a",
   "metadata": {},
   "outputs": [],
   "source": [
    "def scrape_diseases():\n",
    "    diseases = {\n",
    "        'name': [],\n",
    "        'link': []\n",
    "    }\n",
    "\n",
    "    driver = webdriver.Chrome(\n",
    "        ChromeDriverManager().install(),\n",
    "        options=options\n",
    "    )\n",
    "\n",
    "    for letter in tqdm(alphabet):\n",
    "        path = f\"https://www.mayoclinic.org/diseases-conditions/index?letter={letter}\"\n",
    "        driver.get(path)\n",
    "\n",
    "        total = driver.find_element(By.ID, 'index').find_element(By.TAG_NAME, 'ol')\n",
    "        all_eles = total.find_elements(By.TAG_NAME, 'li')\n",
    "\n",
    "        for ele in all_eles:\n",
    "            temp = ele.find_element(By.TAG_NAME, 'a')\n",
    "            diseases['name'].append(temp.text)\n",
    "            diseases['link'].append(temp.get_attribute('href'))\n",
    "\n",
    "    return diseases"
   ]
  },
  {
   "cell_type": "code",
   "execution_count": 5,
   "id": "09637991",
   "metadata": {
    "scrolled": true
   },
   "outputs": [],
   "source": [
    "# all_diseases = scrape_diseases()"
   ]
  },
  {
   "cell_type": "code",
   "execution_count": 6,
   "id": "e1f8ba55",
   "metadata": {},
   "outputs": [],
   "source": [
    "# df = pd.DataFrame(all_diseases)\n",
    "# df.to_csv('mayo disease links.csv', index=False)\n",
    "# df"
   ]
  },
  {
   "cell_type": "markdown",
   "id": "d711ec68",
   "metadata": {},
   "source": [
    "## Scrape only remedies"
   ]
  },
  {
   "cell_type": "code",
   "execution_count": 5,
   "id": "fb9bb801",
   "metadata": {},
   "outputs": [],
   "source": [
    "def scrape_remedies(name, path):\n",
    "    driver = webdriver.Chrome(\n",
    "        ChromeDriverManager().install(),\n",
    "        options=options\n",
    "    )\n",
    "\n",
    "    disease_info['disease'].append(name)\n",
    "    disease_info['link'].append(path)\n",
    "\n",
    "    driver.get(path)\n",
    "\n",
    "    # finding overview\n",
    "    try:\n",
    "        overview = driver.find_element(By.XPATH, \"//h2[contains(text(), 'Overview')]/following-sibling::p\")\n",
    "        disease_info['overview'].append(overview.text)\n",
    "    except:\n",
    "        disease_info['overview'].append('')\n",
    "\n",
    "    # finding symptoms\n",
    "    try:\n",
    "        symptoms = driver.find_element(By.XPATH, \"//h2[contains(text(), 'Symptoms')]/following-sibling::ul\")\n",
    "        symptoms = symptoms.find_elements(By.TAG_NAME, \"li\")\n",
    "\n",
    "        temp = []\n",
    "        for s in symptoms:\n",
    "            temp.append(s.text)\n",
    "\n",
    "        disease_info['symptoms'].append(temp)\n",
    "\n",
    "    except:\n",
    "        disease_info['symptoms'].append([])\n",
    "\n",
    "    # going to diagnosis-treatment\n",
    "    try:\n",
    "        driver.find_element(By.ID, 'et_genericNavigation_diagnosis-treatment').click()\n",
    "\n",
    "        # finding remedy list\n",
    "        remedies = driver.find_element(By.XPATH, \"//h2[contains(text(), 'Lifestyle and home remedies')]/following-sibling::ul\")\n",
    "        remedies = remedies.find_elements(By.TAG_NAME, 'li')\n",
    "\n",
    "        temp = []\n",
    "        for r in remedies:\n",
    "            temp.append(r.text)\n",
    "\n",
    "        disease_info['remedies'].append(temp)\n",
    "    except:\n",
    "        disease_info['remedies'].append([])"
   ]
  },
  {
   "cell_type": "code",
   "execution_count": 6,
   "id": "a644006f",
   "metadata": {},
   "outputs": [
    {
     "data": {
      "text/html": [
       "<div>\n",
       "<style scoped>\n",
       "    .dataframe tbody tr th:only-of-type {\n",
       "        vertical-align: middle;\n",
       "    }\n",
       "\n",
       "    .dataframe tbody tr th {\n",
       "        vertical-align: top;\n",
       "    }\n",
       "\n",
       "    .dataframe thead th {\n",
       "        text-align: right;\n",
       "    }\n",
       "</style>\n",
       "<table border=\"1\" class=\"dataframe\">\n",
       "  <thead>\n",
       "    <tr style=\"text-align: right;\">\n",
       "      <th></th>\n",
       "      <th>name</th>\n",
       "      <th>link</th>\n",
       "    </tr>\n",
       "  </thead>\n",
       "  <tbody>\n",
       "    <tr>\n",
       "      <th>0</th>\n",
       "      <td>A fib, also known as\\nAtrial fibrillation</td>\n",
       "      <td>https://www.mayoclinic.org/diseases-conditions...</td>\n",
       "    </tr>\n",
       "    <tr>\n",
       "      <th>1</th>\n",
       "      <td>Abdominal aortic aneurysm</td>\n",
       "      <td>https://www.mayoclinic.org/diseases-conditions...</td>\n",
       "    </tr>\n",
       "    <tr>\n",
       "      <th>2</th>\n",
       "      <td>Abnormally excessive sweating, also known as\\n...</td>\n",
       "      <td>https://www.mayoclinic.org/diseases-conditions...</td>\n",
       "    </tr>\n",
       "    <tr>\n",
       "      <th>3</th>\n",
       "      <td>Abscess, Bartholin's, also known as\\nBartholin...</td>\n",
       "      <td>https://www.mayoclinic.org/diseases-conditions...</td>\n",
       "    </tr>\n",
       "    <tr>\n",
       "      <th>4</th>\n",
       "      <td>Absence seizure</td>\n",
       "      <td>https://www.mayoclinic.org/diseases-conditions...</td>\n",
       "    </tr>\n",
       "    <tr>\n",
       "      <th>...</th>\n",
       "      <td>...</td>\n",
       "      <td>...</td>\n",
       "    </tr>\n",
       "    <tr>\n",
       "      <th>2188</th>\n",
       "      <td>Yersinia pestis, also known as\\nPlague</td>\n",
       "      <td>https://www.mayoclinic.org/diseases-conditions...</td>\n",
       "    </tr>\n",
       "    <tr>\n",
       "      <th>2189</th>\n",
       "      <td>Yips</td>\n",
       "      <td>https://www.mayoclinic.org/diseases-conditions...</td>\n",
       "    </tr>\n",
       "    <tr>\n",
       "      <th>2190</th>\n",
       "      <td>Zika virus</td>\n",
       "      <td>https://www.mayoclinic.org/diseases-conditions...</td>\n",
       "    </tr>\n",
       "    <tr>\n",
       "      <th>2191</th>\n",
       "      <td>Zollinger-Ellison syndrome</td>\n",
       "      <td>https://www.mayoclinic.org/diseases-conditions...</td>\n",
       "    </tr>\n",
       "    <tr>\n",
       "      <th>2192</th>\n",
       "      <td>Zoster, also known as\\nShingles</td>\n",
       "      <td>https://www.mayoclinic.org/diseases-conditions...</td>\n",
       "    </tr>\n",
       "  </tbody>\n",
       "</table>\n",
       "<p>2193 rows × 2 columns</p>\n",
       "</div>"
      ],
      "text/plain": [
       "                                                   name  \\\n",
       "0             A fib, also known as\\nAtrial fibrillation   \n",
       "1                             Abdominal aortic aneurysm   \n",
       "2     Abnormally excessive sweating, also known as\\n...   \n",
       "3     Abscess, Bartholin's, also known as\\nBartholin...   \n",
       "4                                       Absence seizure   \n",
       "...                                                 ...   \n",
       "2188             Yersinia pestis, also known as\\nPlague   \n",
       "2189                                               Yips   \n",
       "2190                                         Zika virus   \n",
       "2191                         Zollinger-Ellison syndrome   \n",
       "2192                    Zoster, also known as\\nShingles   \n",
       "\n",
       "                                                   link  \n",
       "0     https://www.mayoclinic.org/diseases-conditions...  \n",
       "1     https://www.mayoclinic.org/diseases-conditions...  \n",
       "2     https://www.mayoclinic.org/diseases-conditions...  \n",
       "3     https://www.mayoclinic.org/diseases-conditions...  \n",
       "4     https://www.mayoclinic.org/diseases-conditions...  \n",
       "...                                                 ...  \n",
       "2188  https://www.mayoclinic.org/diseases-conditions...  \n",
       "2189  https://www.mayoclinic.org/diseases-conditions...  \n",
       "2190  https://www.mayoclinic.org/diseases-conditions...  \n",
       "2191  https://www.mayoclinic.org/diseases-conditions...  \n",
       "2192  https://www.mayoclinic.org/diseases-conditions...  \n",
       "\n",
       "[2193 rows x 2 columns]"
      ]
     },
     "execution_count": 6,
     "metadata": {},
     "output_type": "execute_result"
    }
   ],
   "source": [
    "df = pd.read_csv('mayo disease links.csv')\n",
    "df"
   ]
  },
  {
   "cell_type": "code",
   "execution_count": null,
   "id": "514bdc95",
   "metadata": {},
   "outputs": [],
   "source": []
  },
  {
   "cell_type": "code",
   "execution_count": 7,
   "id": "9d2166d6",
   "metadata": {},
   "outputs": [],
   "source": [
    "# x = 1288+207+494\n",
    "# print(x)\n",
    "# df.to_numpy()[x:]"
   ]
  },
  {
   "cell_type": "code",
   "execution_count": 12,
   "id": "6893629e",
   "metadata": {
    "scrolled": true
   },
   "outputs": [
    {
     "name": "stderr",
     "output_type": "stream",
     "text": [
      "\r",
      "  0%|                                                  | 0/203 [00:00<?, ?it/s]"
     ]
    },
    {
     "name": "stdout",
     "output_type": "stream",
     "text": [
      "\n"
     ]
    },
    {
     "name": "stderr",
     "output_type": "stream",
     "text": [
      "C:\\Users\\ikath\\AppData\\Local\\Temp\\ipykernel_19092\\3910751785.py:2: DeprecationWarning: executable_path has been deprecated, please pass in a Service object\n",
      "  driver = webdriver.Chrome(\n",
      "  0%|▏                                         | 1/203 [00:09<30:38,  9.10s/it]"
     ]
    },
    {
     "name": "stdout",
     "output_type": "stream",
     "text": [
      "\n"
     ]
    },
    {
     "name": "stderr",
     "output_type": "stream",
     "text": [
      "\r",
      "  1%|▍                                         | 2/203 [00:22<39:26, 11.77s/it]"
     ]
    },
    {
     "name": "stdout",
     "output_type": "stream",
     "text": [
      "\n"
     ]
    },
    {
     "name": "stderr",
     "output_type": "stream",
     "text": [
      "\r",
      "  1%|▌                                         | 3/203 [00:29<31:29,  9.45s/it]"
     ]
    },
    {
     "name": "stdout",
     "output_type": "stream",
     "text": [
      "\n"
     ]
    },
    {
     "name": "stderr",
     "output_type": "stream",
     "text": [
      "\r",
      "  2%|▊                                         | 4/203 [00:39<32:39,  9.85s/it]"
     ]
    },
    {
     "name": "stdout",
     "output_type": "stream",
     "text": [
      "\n"
     ]
    },
    {
     "name": "stderr",
     "output_type": "stream",
     "text": [
      "\r",
      "  2%|█                                         | 5/203 [00:50<32:56,  9.98s/it]"
     ]
    },
    {
     "name": "stdout",
     "output_type": "stream",
     "text": [
      "\n"
     ]
    },
    {
     "name": "stderr",
     "output_type": "stream",
     "text": [
      "\r",
      "  3%|█▏                                        | 6/203 [00:59<31:35,  9.62s/it]"
     ]
    },
    {
     "name": "stdout",
     "output_type": "stream",
     "text": [
      "\n"
     ]
    },
    {
     "name": "stderr",
     "output_type": "stream",
     "text": [
      "\r",
      "  3%|█▍                                        | 7/203 [01:05<28:09,  8.62s/it]"
     ]
    },
    {
     "name": "stdout",
     "output_type": "stream",
     "text": [
      "\n"
     ]
    },
    {
     "name": "stderr",
     "output_type": "stream",
     "text": [
      "\r",
      "  4%|█▋                                        | 8/203 [01:13<27:38,  8.51s/it]"
     ]
    },
    {
     "name": "stdout",
     "output_type": "stream",
     "text": [
      "\n"
     ]
    },
    {
     "name": "stderr",
     "output_type": "stream",
     "text": [
      "\r",
      "  4%|█▊                                        | 9/203 [01:21<26:37,  8.23s/it]"
     ]
    },
    {
     "name": "stdout",
     "output_type": "stream",
     "text": [
      "\n"
     ]
    },
    {
     "name": "stderr",
     "output_type": "stream",
     "text": [
      "\r",
      "  5%|██                                       | 10/203 [01:31<28:13,  8.77s/it]"
     ]
    },
    {
     "name": "stdout",
     "output_type": "stream",
     "text": [
      "\n"
     ]
    },
    {
     "name": "stderr",
     "output_type": "stream",
     "text": [
      "\r",
      "  5%|██▏                                      | 11/203 [01:40<28:37,  8.95s/it]"
     ]
    },
    {
     "name": "stdout",
     "output_type": "stream",
     "text": [
      "\n"
     ]
    },
    {
     "name": "stderr",
     "output_type": "stream",
     "text": [
      "\r",
      "  6%|██▍                                      | 12/203 [01:47<26:07,  8.21s/it]"
     ]
    },
    {
     "name": "stdout",
     "output_type": "stream",
     "text": [
      "\n"
     ]
    },
    {
     "name": "stderr",
     "output_type": "stream",
     "text": [
      "\r",
      "  6%|██▋                                      | 13/203 [01:58<29:09,  9.21s/it]"
     ]
    },
    {
     "name": "stdout",
     "output_type": "stream",
     "text": [
      "\n"
     ]
    },
    {
     "name": "stderr",
     "output_type": "stream",
     "text": [
      "\r",
      "  7%|██▊                                      | 14/203 [02:06<27:44,  8.80s/it]"
     ]
    },
    {
     "name": "stdout",
     "output_type": "stream",
     "text": [
      "\n"
     ]
    },
    {
     "name": "stderr",
     "output_type": "stream",
     "text": [
      "\r",
      "  7%|███                                      | 15/203 [02:13<25:30,  8.14s/it]"
     ]
    },
    {
     "name": "stdout",
     "output_type": "stream",
     "text": [
      "\n"
     ]
    },
    {
     "name": "stderr",
     "output_type": "stream",
     "text": [
      "\r",
      "  8%|███▏                                     | 16/203 [02:20<24:13,  7.77s/it]"
     ]
    },
    {
     "name": "stdout",
     "output_type": "stream",
     "text": [
      "\n"
     ]
    },
    {
     "name": "stderr",
     "output_type": "stream",
     "text": [
      "\r",
      "  8%|███▍                                     | 17/203 [02:28<24:06,  7.78s/it]"
     ]
    },
    {
     "name": "stdout",
     "output_type": "stream",
     "text": [
      "\n"
     ]
    },
    {
     "name": "stderr",
     "output_type": "stream",
     "text": [
      "\r",
      "  9%|███▋                                     | 18/203 [02:41<29:18,  9.51s/it]"
     ]
    },
    {
     "name": "stdout",
     "output_type": "stream",
     "text": [
      "\n"
     ]
    },
    {
     "name": "stderr",
     "output_type": "stream",
     "text": [
      "\r",
      "  9%|███▊                                     | 19/203 [02:49<27:46,  9.06s/it]"
     ]
    },
    {
     "name": "stdout",
     "output_type": "stream",
     "text": [
      "\n"
     ]
    },
    {
     "name": "stderr",
     "output_type": "stream",
     "text": [
      "\r",
      " 10%|████                                     | 20/203 [02:57<26:43,  8.76s/it]"
     ]
    },
    {
     "name": "stdout",
     "output_type": "stream",
     "text": [
      "\n"
     ]
    },
    {
     "name": "stderr",
     "output_type": "stream",
     "text": [
      "\r",
      " 10%|████▏                                    | 21/203 [03:05<25:34,  8.43s/it]"
     ]
    },
    {
     "name": "stdout",
     "output_type": "stream",
     "text": [
      "\n"
     ]
    },
    {
     "name": "stderr",
     "output_type": "stream",
     "text": [
      "\r",
      " 11%|████▍                                    | 22/203 [03:12<24:44,  8.20s/it]"
     ]
    },
    {
     "name": "stdout",
     "output_type": "stream",
     "text": [
      "\n"
     ]
    },
    {
     "name": "stderr",
     "output_type": "stream",
     "text": [
      "\r",
      " 11%|████▋                                    | 23/203 [03:26<29:09,  9.72s/it]"
     ]
    },
    {
     "name": "stdout",
     "output_type": "stream",
     "text": [
      "\n"
     ]
    },
    {
     "name": "stderr",
     "output_type": "stream",
     "text": [
      "\r",
      " 12%|████▊                                    | 24/203 [03:36<29:17,  9.82s/it]"
     ]
    },
    {
     "name": "stdout",
     "output_type": "stream",
     "text": [
      "\n"
     ]
    },
    {
     "name": "stderr",
     "output_type": "stream",
     "text": [
      "\r",
      " 12%|█████                                    | 25/203 [03:50<33:13, 11.20s/it]"
     ]
    },
    {
     "name": "stdout",
     "output_type": "stream",
     "text": [
      "\n"
     ]
    },
    {
     "name": "stderr",
     "output_type": "stream",
     "text": [
      "\r",
      " 13%|█████▎                                   | 26/203 [04:01<32:35, 11.05s/it]"
     ]
    },
    {
     "name": "stdout",
     "output_type": "stream",
     "text": [
      "\n"
     ]
    },
    {
     "name": "stderr",
     "output_type": "stream",
     "text": [
      "\r",
      " 13%|█████▍                                   | 27/203 [04:11<31:39, 10.79s/it]"
     ]
    },
    {
     "name": "stdout",
     "output_type": "stream",
     "text": [
      "\n"
     ]
    },
    {
     "name": "stderr",
     "output_type": "stream",
     "text": [
      "\r",
      " 14%|█████▋                                   | 28/203 [04:18<28:00,  9.60s/it]"
     ]
    },
    {
     "name": "stdout",
     "output_type": "stream",
     "text": [
      "\n"
     ]
    },
    {
     "name": "stderr",
     "output_type": "stream",
     "text": [
      "\r",
      " 14%|█████▊                                   | 29/203 [04:25<25:18,  8.73s/it]"
     ]
    },
    {
     "name": "stdout",
     "output_type": "stream",
     "text": [
      "\n"
     ]
    },
    {
     "name": "stderr",
     "output_type": "stream",
     "text": [
      "\r",
      " 15%|██████                                   | 30/203 [04:35<26:22,  9.15s/it]"
     ]
    },
    {
     "name": "stdout",
     "output_type": "stream",
     "text": [
      "\n"
     ]
    },
    {
     "name": "stderr",
     "output_type": "stream",
     "text": [
      "\r",
      " 15%|██████▎                                  | 31/203 [04:41<23:53,  8.33s/it]"
     ]
    },
    {
     "name": "stdout",
     "output_type": "stream",
     "text": [
      "\n"
     ]
    },
    {
     "name": "stderr",
     "output_type": "stream",
     "text": [
      "\r",
      " 16%|██████▍                                  | 32/203 [04:49<23:02,  8.09s/it]"
     ]
    },
    {
     "name": "stdout",
     "output_type": "stream",
     "text": [
      "\n"
     ]
    },
    {
     "name": "stderr",
     "output_type": "stream",
     "text": [
      "\r",
      " 16%|██████▋                                  | 33/203 [04:57<22:46,  8.04s/it]"
     ]
    },
    {
     "name": "stdout",
     "output_type": "stream",
     "text": [
      "\n"
     ]
    },
    {
     "name": "stderr",
     "output_type": "stream",
     "text": [
      "\r",
      " 17%|██████▊                                  | 34/203 [05:06<23:29,  8.34s/it]"
     ]
    },
    {
     "name": "stdout",
     "output_type": "stream",
     "text": [
      "\n"
     ]
    },
    {
     "name": "stderr",
     "output_type": "stream",
     "text": [
      "\r",
      " 17%|███████                                  | 35/203 [05:14<23:29,  8.39s/it]"
     ]
    },
    {
     "name": "stdout",
     "output_type": "stream",
     "text": [
      "\n"
     ]
    },
    {
     "name": "stderr",
     "output_type": "stream",
     "text": [
      "\r",
      " 18%|███████▎                                 | 36/203 [05:24<24:13,  8.70s/it]"
     ]
    },
    {
     "name": "stdout",
     "output_type": "stream",
     "text": [
      "\n"
     ]
    },
    {
     "name": "stderr",
     "output_type": "stream",
     "text": [
      "\r",
      " 18%|███████▍                                 | 37/203 [05:30<22:03,  7.97s/it]"
     ]
    },
    {
     "name": "stdout",
     "output_type": "stream",
     "text": [
      "\n"
     ]
    },
    {
     "name": "stderr",
     "output_type": "stream",
     "text": [
      "\r",
      " 19%|███████▋                                 | 38/203 [05:42<25:15,  9.19s/it]"
     ]
    },
    {
     "name": "stdout",
     "output_type": "stream",
     "text": [
      "\n"
     ]
    },
    {
     "name": "stderr",
     "output_type": "stream",
     "text": [
      "\r",
      " 19%|███████▉                                 | 39/203 [05:49<23:14,  8.50s/it]"
     ]
    },
    {
     "name": "stdout",
     "output_type": "stream",
     "text": [
      "\n"
     ]
    },
    {
     "name": "stderr",
     "output_type": "stream",
     "text": [
      "\r",
      " 20%|████████                                 | 40/203 [05:55<21:29,  7.91s/it]"
     ]
    },
    {
     "name": "stdout",
     "output_type": "stream",
     "text": [
      "\n"
     ]
    },
    {
     "name": "stderr",
     "output_type": "stream",
     "text": [
      "\r",
      " 20%|████████▎                                | 41/203 [06:04<21:40,  8.03s/it]"
     ]
    },
    {
     "name": "stdout",
     "output_type": "stream",
     "text": [
      "\n"
     ]
    },
    {
     "name": "stderr",
     "output_type": "stream",
     "text": [
      "\r",
      " 21%|████████▍                                | 42/203 [06:13<22:24,  8.35s/it]"
     ]
    },
    {
     "name": "stdout",
     "output_type": "stream",
     "text": [
      "\n"
     ]
    },
    {
     "name": "stderr",
     "output_type": "stream",
     "text": [
      "\r",
      " 21%|████████▋                                | 43/203 [06:19<20:43,  7.77s/it]"
     ]
    },
    {
     "name": "stdout",
     "output_type": "stream",
     "text": [
      "\n"
     ]
    },
    {
     "name": "stderr",
     "output_type": "stream",
     "text": [
      "\r",
      " 22%|████████▉                                | 44/203 [06:28<21:13,  8.01s/it]"
     ]
    },
    {
     "name": "stdout",
     "output_type": "stream",
     "text": [
      "\n"
     ]
    },
    {
     "name": "stderr",
     "output_type": "stream",
     "text": [
      "\r",
      " 22%|█████████                                | 45/203 [06:34<19:46,  7.51s/it]"
     ]
    },
    {
     "name": "stdout",
     "output_type": "stream",
     "text": [
      "\n"
     ]
    },
    {
     "name": "stderr",
     "output_type": "stream",
     "text": [
      "\r",
      " 23%|█████████▎                               | 46/203 [06:43<20:46,  7.94s/it]"
     ]
    },
    {
     "name": "stdout",
     "output_type": "stream",
     "text": [
      "\n"
     ]
    },
    {
     "name": "stderr",
     "output_type": "stream",
     "text": [
      "\r",
      " 23%|█████████▍                               | 47/203 [06:56<24:14,  9.33s/it]"
     ]
    },
    {
     "name": "stdout",
     "output_type": "stream",
     "text": [
      "\n"
     ]
    },
    {
     "name": "stderr",
     "output_type": "stream",
     "text": [
      "\r",
      " 24%|█████████▋                               | 48/203 [07:06<24:45,  9.58s/it]"
     ]
    },
    {
     "name": "stdout",
     "output_type": "stream",
     "text": [
      "\n"
     ]
    },
    {
     "name": "stderr",
     "output_type": "stream",
     "text": [
      "\r",
      " 24%|█████████▉                               | 49/203 [07:18<26:59, 10.52s/it]"
     ]
    },
    {
     "name": "stdout",
     "output_type": "stream",
     "text": [
      "\n"
     ]
    },
    {
     "name": "stderr",
     "output_type": "stream",
     "text": [
      "\r",
      " 25%|██████████                               | 50/203 [07:25<24:04,  9.44s/it]"
     ]
    },
    {
     "name": "stdout",
     "output_type": "stream",
     "text": [
      "\n"
     ]
    },
    {
     "name": "stderr",
     "output_type": "stream",
     "text": [
      "\r",
      " 25%|██████████▎                              | 51/203 [07:34<23:12,  9.16s/it]"
     ]
    },
    {
     "name": "stdout",
     "output_type": "stream",
     "text": [
      "\n"
     ]
    },
    {
     "name": "stderr",
     "output_type": "stream",
     "text": [
      "\r",
      " 26%|██████████▌                              | 52/203 [07:40<21:03,  8.37s/it]"
     ]
    },
    {
     "name": "stdout",
     "output_type": "stream",
     "text": [
      "\n"
     ]
    },
    {
     "name": "stderr",
     "output_type": "stream",
     "text": [
      "\r",
      " 26%|██████████▋                              | 53/203 [07:50<21:36,  8.65s/it]"
     ]
    },
    {
     "name": "stdout",
     "output_type": "stream",
     "text": [
      "\n"
     ]
    },
    {
     "name": "stderr",
     "output_type": "stream",
     "text": [
      "\r",
      " 27%|██████████▉                              | 54/203 [08:02<24:15,  9.77s/it]"
     ]
    },
    {
     "name": "stdout",
     "output_type": "stream",
     "text": [
      "\n"
     ]
    },
    {
     "name": "stderr",
     "output_type": "stream",
     "text": [
      "\r",
      " 27%|███████████                              | 55/203 [08:09<22:20,  9.06s/it]"
     ]
    },
    {
     "name": "stdout",
     "output_type": "stream",
     "text": [
      "\n"
     ]
    },
    {
     "name": "stderr",
     "output_type": "stream",
     "text": [
      "\r",
      " 28%|███████████▎                             | 56/203 [08:17<21:15,  8.68s/it]"
     ]
    },
    {
     "name": "stdout",
     "output_type": "stream",
     "text": [
      "\n"
     ]
    },
    {
     "name": "stderr",
     "output_type": "stream",
     "text": [
      "\r",
      " 28%|███████████▌                             | 57/203 [08:28<22:53,  9.41s/it]"
     ]
    },
    {
     "name": "stdout",
     "output_type": "stream",
     "text": [
      "\n"
     ]
    },
    {
     "name": "stderr",
     "output_type": "stream",
     "text": [
      "\r",
      " 29%|███████████▋                             | 58/203 [08:43<26:19, 10.89s/it]"
     ]
    },
    {
     "name": "stdout",
     "output_type": "stream",
     "text": [
      "\n"
     ]
    },
    {
     "name": "stderr",
     "output_type": "stream",
     "text": [
      "\r",
      " 29%|███████████▉                             | 59/203 [08:55<27:13, 11.34s/it]"
     ]
    },
    {
     "name": "stdout",
     "output_type": "stream",
     "text": [
      "\n"
     ]
    },
    {
     "name": "stderr",
     "output_type": "stream",
     "text": [
      "\r",
      " 30%|████████████                             | 60/203 [09:03<24:31, 10.29s/it]"
     ]
    },
    {
     "name": "stdout",
     "output_type": "stream",
     "text": [
      "\n"
     ]
    },
    {
     "name": "stderr",
     "output_type": "stream",
     "text": [
      "\r",
      " 30%|████████████▎                            | 61/203 [09:12<23:50, 10.07s/it]"
     ]
    },
    {
     "name": "stdout",
     "output_type": "stream",
     "text": [
      "\n"
     ]
    },
    {
     "name": "stderr",
     "output_type": "stream",
     "text": [
      "\r",
      " 31%|████████████▌                            | 62/203 [09:23<24:02, 10.23s/it]"
     ]
    },
    {
     "name": "stdout",
     "output_type": "stream",
     "text": [
      "\n"
     ]
    },
    {
     "name": "stderr",
     "output_type": "stream",
     "text": [
      "\r",
      " 31%|████████████▋                            | 63/203 [09:30<21:33,  9.24s/it]"
     ]
    },
    {
     "name": "stdout",
     "output_type": "stream",
     "text": [
      "\n"
     ]
    },
    {
     "name": "stderr",
     "output_type": "stream",
     "text": [
      "\r",
      " 32%|████████████▉                            | 64/203 [09:36<19:23,  8.37s/it]"
     ]
    },
    {
     "name": "stdout",
     "output_type": "stream",
     "text": [
      "\n"
     ]
    },
    {
     "name": "stderr",
     "output_type": "stream",
     "text": [
      "\r",
      " 32%|█████████████▏                           | 65/203 [09:56<27:18, 11.87s/it]"
     ]
    },
    {
     "name": "stdout",
     "output_type": "stream",
     "text": [
      "\n"
     ]
    },
    {
     "name": "stderr",
     "output_type": "stream",
     "text": [
      "\r",
      " 33%|█████████████▎                           | 66/203 [10:08<27:09, 11.89s/it]"
     ]
    },
    {
     "name": "stdout",
     "output_type": "stream",
     "text": [
      "\n"
     ]
    },
    {
     "name": "stderr",
     "output_type": "stream",
     "text": [
      "\r",
      " 33%|█████████████▌                           | 67/203 [10:23<28:41, 12.66s/it]"
     ]
    },
    {
     "name": "stdout",
     "output_type": "stream",
     "text": [
      "\n"
     ]
    },
    {
     "name": "stderr",
     "output_type": "stream",
     "text": [
      "\r",
      " 33%|█████████████▋                           | 68/203 [10:29<24:26, 10.86s/it]"
     ]
    },
    {
     "name": "stdout",
     "output_type": "stream",
     "text": [
      "\n"
     ]
    },
    {
     "name": "stderr",
     "output_type": "stream",
     "text": [
      "\r",
      " 34%|█████████████▉                           | 69/203 [10:37<22:13,  9.95s/it]"
     ]
    },
    {
     "name": "stdout",
     "output_type": "stream",
     "text": [
      "\n"
     ]
    },
    {
     "name": "stderr",
     "output_type": "stream",
     "text": [
      "\r",
      " 34%|██████████████▏                          | 70/203 [10:47<21:37,  9.75s/it]"
     ]
    },
    {
     "name": "stdout",
     "output_type": "stream",
     "text": [
      "\n"
     ]
    },
    {
     "name": "stderr",
     "output_type": "stream",
     "text": [
      "\r",
      " 35%|██████████████▎                          | 71/203 [10:58<22:41, 10.32s/it]"
     ]
    },
    {
     "name": "stdout",
     "output_type": "stream",
     "text": [
      "\n"
     ]
    },
    {
     "name": "stderr",
     "output_type": "stream",
     "text": [
      "\r",
      " 35%|██████████████▌                          | 72/203 [11:07<21:40,  9.93s/it]"
     ]
    },
    {
     "name": "stdout",
     "output_type": "stream",
     "text": [
      "\n"
     ]
    },
    {
     "name": "stderr",
     "output_type": "stream",
     "text": [
      "\r",
      " 36%|██████████████▋                          | 73/203 [11:20<23:37, 10.90s/it]"
     ]
    },
    {
     "name": "stdout",
     "output_type": "stream",
     "text": [
      "\n"
     ]
    },
    {
     "name": "stderr",
     "output_type": "stream",
     "text": [
      "\r",
      " 36%|██████████████▉                          | 74/203 [11:32<24:06, 11.21s/it]"
     ]
    },
    {
     "name": "stdout",
     "output_type": "stream",
     "text": [
      "\n"
     ]
    },
    {
     "name": "stderr",
     "output_type": "stream",
     "text": [
      "\r",
      " 37%|███████████████▏                         | 75/203 [11:44<24:30, 11.49s/it]"
     ]
    },
    {
     "name": "stdout",
     "output_type": "stream",
     "text": [
      "\n"
     ]
    },
    {
     "name": "stderr",
     "output_type": "stream",
     "text": [
      "\r",
      " 37%|███████████████▎                         | 76/203 [12:05<29:51, 14.11s/it]"
     ]
    },
    {
     "name": "stdout",
     "output_type": "stream",
     "text": [
      "\n"
     ]
    },
    {
     "name": "stderr",
     "output_type": "stream",
     "text": [
      "\r",
      " 38%|███████████████▌                         | 77/203 [12:17<28:10, 13.42s/it]"
     ]
    },
    {
     "name": "stdout",
     "output_type": "stream",
     "text": [
      "\n"
     ]
    },
    {
     "name": "stderr",
     "output_type": "stream",
     "text": [
      "\r",
      " 38%|███████████████▊                         | 78/203 [12:27<25:53, 12.43s/it]"
     ]
    },
    {
     "name": "stdout",
     "output_type": "stream",
     "text": [
      "\n"
     ]
    },
    {
     "name": "stderr",
     "output_type": "stream",
     "text": [
      "\r",
      " 39%|███████████████▉                         | 79/203 [12:36<23:37, 11.43s/it]"
     ]
    },
    {
     "name": "stdout",
     "output_type": "stream",
     "text": [
      "\n"
     ]
    },
    {
     "name": "stderr",
     "output_type": "stream",
     "text": [
      "\r",
      " 39%|████████████████▏                        | 80/203 [12:44<21:26, 10.46s/it]"
     ]
    },
    {
     "name": "stdout",
     "output_type": "stream",
     "text": [
      "\n"
     ]
    },
    {
     "name": "stderr",
     "output_type": "stream",
     "text": [
      "\r",
      " 40%|████████████████▎                        | 81/203 [12:50<18:46,  9.23s/it]"
     ]
    },
    {
     "name": "stdout",
     "output_type": "stream",
     "text": [
      "\n"
     ]
    },
    {
     "name": "stderr",
     "output_type": "stream",
     "text": [
      "\r",
      " 40%|████████████████▌                        | 82/203 [12:59<18:34,  9.21s/it]"
     ]
    },
    {
     "name": "stdout",
     "output_type": "stream",
     "text": [
      "\n"
     ]
    },
    {
     "name": "stderr",
     "output_type": "stream",
     "text": [
      "\r",
      " 41%|████████████████▊                        | 83/203 [13:08<18:06,  9.05s/it]"
     ]
    },
    {
     "name": "stdout",
     "output_type": "stream",
     "text": [
      "\n"
     ]
    },
    {
     "name": "stderr",
     "output_type": "stream",
     "text": [
      "\r",
      " 41%|████████████████▉                        | 84/203 [13:17<17:53,  9.02s/it]"
     ]
    },
    {
     "name": "stdout",
     "output_type": "stream",
     "text": [
      "\n"
     ]
    },
    {
     "name": "stderr",
     "output_type": "stream",
     "text": [
      "\r",
      " 42%|█████████████████▏                       | 85/203 [13:30<20:02, 10.19s/it]"
     ]
    },
    {
     "name": "stdout",
     "output_type": "stream",
     "text": [
      "\n"
     ]
    },
    {
     "name": "stderr",
     "output_type": "stream",
     "text": [
      "\r",
      " 42%|█████████████████▎                       | 86/203 [13:43<21:21, 10.95s/it]"
     ]
    },
    {
     "name": "stdout",
     "output_type": "stream",
     "text": [
      "\n"
     ]
    },
    {
     "name": "stderr",
     "output_type": "stream",
     "text": [
      "\r",
      " 43%|█████████████████▌                       | 87/203 [13:59<24:21, 12.60s/it]"
     ]
    },
    {
     "name": "stdout",
     "output_type": "stream",
     "text": [
      "\n"
     ]
    },
    {
     "name": "stderr",
     "output_type": "stream",
     "text": [
      "\r",
      " 43%|█████████████████▊                       | 88/203 [14:08<21:57, 11.45s/it]"
     ]
    },
    {
     "name": "stdout",
     "output_type": "stream",
     "text": [
      "\n"
     ]
    },
    {
     "name": "stderr",
     "output_type": "stream",
     "text": [
      "\r",
      " 44%|█████████████████▉                       | 89/203 [14:29<27:07, 14.27s/it]"
     ]
    },
    {
     "name": "stdout",
     "output_type": "stream",
     "text": [
      "\n"
     ]
    },
    {
     "name": "stderr",
     "output_type": "stream",
     "text": [
      "\r",
      " 44%|██████████████████▏                      | 90/203 [14:44<27:09, 14.42s/it]"
     ]
    },
    {
     "name": "stdout",
     "output_type": "stream",
     "text": [
      "\n"
     ]
    },
    {
     "name": "stderr",
     "output_type": "stream",
     "text": [
      "\r",
      " 45%|██████████████████▍                      | 91/203 [14:55<25:01, 13.41s/it]"
     ]
    },
    {
     "name": "stdout",
     "output_type": "stream",
     "text": [
      "\n"
     ]
    },
    {
     "name": "stderr",
     "output_type": "stream",
     "text": [
      "\r",
      " 45%|██████████████████▌                      | 92/203 [15:08<24:55, 13.48s/it]"
     ]
    },
    {
     "name": "stdout",
     "output_type": "stream",
     "text": [
      "\n"
     ]
    },
    {
     "name": "stderr",
     "output_type": "stream",
     "text": [
      "\r",
      " 46%|██████████████████▊                      | 93/203 [15:36<32:38, 17.80s/it]"
     ]
    },
    {
     "name": "stdout",
     "output_type": "stream",
     "text": [
      "\n"
     ]
    },
    {
     "name": "stderr",
     "output_type": "stream",
     "text": [
      "\r",
      " 46%|██████████████████▉                      | 94/203 [15:49<29:46, 16.39s/it]"
     ]
    },
    {
     "name": "stdout",
     "output_type": "stream",
     "text": [
      "\n"
     ]
    },
    {
     "name": "stderr",
     "output_type": "stream",
     "text": [
      "\r",
      " 47%|███████████████████▏                     | 95/203 [16:03<27:57, 15.53s/it]"
     ]
    },
    {
     "name": "stdout",
     "output_type": "stream",
     "text": [
      "\n"
     ]
    },
    {
     "name": "stderr",
     "output_type": "stream",
     "text": [
      "\r",
      " 47%|███████████████████▍                     | 96/203 [16:09<22:54, 12.84s/it]"
     ]
    },
    {
     "name": "stdout",
     "output_type": "stream",
     "text": [
      "\n"
     ]
    },
    {
     "name": "stderr",
     "output_type": "stream",
     "text": [
      "\r",
      " 48%|███████████████████▌                     | 97/203 [16:22<22:30, 12.74s/it]"
     ]
    },
    {
     "name": "stdout",
     "output_type": "stream",
     "text": [
      "\n"
     ]
    },
    {
     "name": "stderr",
     "output_type": "stream",
     "text": [
      "\r",
      " 48%|███████████████████▊                     | 98/203 [16:28<18:59, 10.85s/it]"
     ]
    },
    {
     "name": "stdout",
     "output_type": "stream",
     "text": [
      "\n"
     ]
    },
    {
     "name": "stderr",
     "output_type": "stream",
     "text": [
      "\r",
      " 49%|███████████████████▉                     | 99/203 [16:35<16:44,  9.66s/it]"
     ]
    },
    {
     "name": "stdout",
     "output_type": "stream",
     "text": [
      "\n"
     ]
    },
    {
     "name": "stderr",
     "output_type": "stream",
     "text": [
      "\r",
      " 49%|███████████████████▋                    | 100/203 [16:41<14:43,  8.58s/it]"
     ]
    },
    {
     "name": "stdout",
     "output_type": "stream",
     "text": [
      "\n"
     ]
    },
    {
     "name": "stderr",
     "output_type": "stream",
     "text": [
      "\r",
      " 50%|███████████████████▉                    | 101/203 [16:53<16:03,  9.45s/it]"
     ]
    },
    {
     "name": "stdout",
     "output_type": "stream",
     "text": [
      "\n"
     ]
    },
    {
     "name": "stderr",
     "output_type": "stream",
     "text": [
      "\r",
      " 50%|████████████████████                    | 102/203 [17:00<15:02,  8.93s/it]"
     ]
    },
    {
     "name": "stdout",
     "output_type": "stream",
     "text": [
      "\n"
     ]
    },
    {
     "name": "stderr",
     "output_type": "stream",
     "text": [
      "\r",
      " 51%|████████████████████▎                   | 103/203 [17:07<13:44,  8.24s/it]"
     ]
    },
    {
     "name": "stdout",
     "output_type": "stream",
     "text": [
      "\n"
     ]
    },
    {
     "name": "stderr",
     "output_type": "stream",
     "text": [
      "\r",
      " 51%|████████████████████▍                   | 104/203 [17:20<16:06,  9.77s/it]"
     ]
    },
    {
     "name": "stdout",
     "output_type": "stream",
     "text": [
      "\n"
     ]
    },
    {
     "name": "stderr",
     "output_type": "stream",
     "text": [
      "\r",
      " 52%|████████████████████▋                   | 105/203 [17:30<15:46,  9.65s/it]"
     ]
    },
    {
     "name": "stdout",
     "output_type": "stream",
     "text": [
      "\n"
     ]
    },
    {
     "name": "stderr",
     "output_type": "stream",
     "text": [
      "\r",
      " 52%|████████████████████▉                   | 106/203 [17:43<17:11, 10.64s/it]"
     ]
    },
    {
     "name": "stdout",
     "output_type": "stream",
     "text": [
      "\n"
     ]
    },
    {
     "name": "stderr",
     "output_type": "stream",
     "text": [
      "\r",
      " 53%|█████████████████████                   | 107/203 [17:53<16:42, 10.44s/it]"
     ]
    },
    {
     "name": "stdout",
     "output_type": "stream",
     "text": [
      "\n"
     ]
    },
    {
     "name": "stderr",
     "output_type": "stream",
     "text": [
      "\r",
      " 53%|█████████████████████▎                  | 108/203 [18:02<16:05, 10.17s/it]"
     ]
    },
    {
     "name": "stdout",
     "output_type": "stream",
     "text": [
      "\n"
     ]
    },
    {
     "name": "stderr",
     "output_type": "stream",
     "text": [
      "\r",
      " 54%|█████████████████████▍                  | 109/203 [18:10<14:38,  9.35s/it]"
     ]
    },
    {
     "name": "stdout",
     "output_type": "stream",
     "text": [
      "\n"
     ]
    },
    {
     "name": "stderr",
     "output_type": "stream",
     "text": [
      "\r",
      " 54%|█████████████████████▋                  | 110/203 [18:17<13:21,  8.62s/it]"
     ]
    },
    {
     "name": "stdout",
     "output_type": "stream",
     "text": [
      "\n"
     ]
    },
    {
     "name": "stderr",
     "output_type": "stream",
     "text": [
      "\r",
      " 55%|█████████████████████▊                  | 111/203 [18:31<15:52, 10.36s/it]"
     ]
    },
    {
     "name": "stdout",
     "output_type": "stream",
     "text": [
      "\n"
     ]
    },
    {
     "name": "stderr",
     "output_type": "stream",
     "text": [
      "\r",
      " 55%|██████████████████████                  | 112/203 [18:37<13:52,  9.15s/it]"
     ]
    },
    {
     "name": "stdout",
     "output_type": "stream",
     "text": [
      "\n"
     ]
    },
    {
     "name": "stderr",
     "output_type": "stream",
     "text": [
      "\r",
      " 56%|██████████████████████▎                 | 113/203 [18:44<12:26,  8.29s/it]"
     ]
    },
    {
     "name": "stdout",
     "output_type": "stream",
     "text": [
      "\n"
     ]
    },
    {
     "name": "stderr",
     "output_type": "stream",
     "text": [
      "\r",
      " 56%|██████████████████████▍                 | 114/203 [18:56<13:58,  9.42s/it]"
     ]
    },
    {
     "name": "stdout",
     "output_type": "stream",
     "text": [
      "\n"
     ]
    },
    {
     "name": "stderr",
     "output_type": "stream",
     "text": [
      "\r",
      " 57%|██████████████████████▋                 | 115/203 [19:02<12:34,  8.57s/it]"
     ]
    },
    {
     "name": "stdout",
     "output_type": "stream",
     "text": [
      "\n"
     ]
    },
    {
     "name": "stderr",
     "output_type": "stream",
     "text": [
      "\r",
      " 57%|██████████████████████▊                 | 116/203 [19:14<13:35,  9.38s/it]"
     ]
    },
    {
     "name": "stdout",
     "output_type": "stream",
     "text": [
      "\n"
     ]
    },
    {
     "name": "stderr",
     "output_type": "stream",
     "text": [
      "\r",
      " 58%|███████████████████████                 | 117/203 [19:26<14:37, 10.20s/it]"
     ]
    },
    {
     "name": "stdout",
     "output_type": "stream",
     "text": [
      "\n"
     ]
    },
    {
     "name": "stderr",
     "output_type": "stream",
     "text": [
      "\r",
      " 58%|███████████████████████▎                | 118/203 [19:35<14:07,  9.97s/it]"
     ]
    },
    {
     "name": "stdout",
     "output_type": "stream",
     "text": [
      "\n"
     ]
    },
    {
     "name": "stderr",
     "output_type": "stream",
     "text": [
      "\r",
      " 59%|███████████████████████▍                | 119/203 [19:45<14:02, 10.03s/it]"
     ]
    },
    {
     "name": "stdout",
     "output_type": "stream",
     "text": [
      "\n"
     ]
    },
    {
     "name": "stderr",
     "output_type": "stream",
     "text": [
      "\r",
      " 59%|███████████████████████▋                | 120/203 [19:52<12:20,  8.92s/it]"
     ]
    },
    {
     "name": "stdout",
     "output_type": "stream",
     "text": [
      "\n"
     ]
    },
    {
     "name": "stderr",
     "output_type": "stream",
     "text": [
      "\r",
      " 60%|███████████████████████▊                | 121/203 [19:58<11:08,  8.15s/it]"
     ]
    },
    {
     "name": "stdout",
     "output_type": "stream",
     "text": [
      "\n"
     ]
    },
    {
     "name": "stderr",
     "output_type": "stream",
     "text": [
      "\r",
      " 60%|████████████████████████                | 122/203 [20:06<10:50,  8.04s/it]"
     ]
    },
    {
     "name": "stdout",
     "output_type": "stream",
     "text": [
      "\n"
     ]
    },
    {
     "name": "stderr",
     "output_type": "stream",
     "text": [
      "\r",
      " 61%|████████████████████████▏               | 123/203 [20:24<14:47, 11.09s/it]"
     ]
    },
    {
     "name": "stdout",
     "output_type": "stream",
     "text": [
      "\n"
     ]
    },
    {
     "name": "stderr",
     "output_type": "stream",
     "text": [
      "\r",
      " 61%|████████████████████████▍               | 124/203 [20:33<13:39, 10.37s/it]"
     ]
    },
    {
     "name": "stdout",
     "output_type": "stream",
     "text": [
      "\n"
     ]
    },
    {
     "name": "stderr",
     "output_type": "stream",
     "text": [
      "\r",
      " 62%|████████████████████████▋               | 125/203 [20:40<12:29,  9.61s/it]"
     ]
    },
    {
     "name": "stdout",
     "output_type": "stream",
     "text": [
      "\n"
     ]
    },
    {
     "name": "stderr",
     "output_type": "stream",
     "text": [
      "\r",
      " 62%|████████████████████████▊               | 126/203 [20:51<12:41,  9.89s/it]"
     ]
    },
    {
     "name": "stdout",
     "output_type": "stream",
     "text": [
      "\n"
     ]
    },
    {
     "name": "stderr",
     "output_type": "stream",
     "text": [
      "\r",
      " 63%|█████████████████████████               | 127/203 [20:58<11:37,  9.17s/it]"
     ]
    },
    {
     "name": "stdout",
     "output_type": "stream",
     "text": [
      "\n"
     ]
    },
    {
     "name": "stderr",
     "output_type": "stream",
     "text": [
      "\r",
      " 63%|█████████████████████████▏              | 128/203 [21:07<11:15,  9.00s/it]"
     ]
    },
    {
     "name": "stdout",
     "output_type": "stream",
     "text": [
      "\n"
     ]
    },
    {
     "name": "stderr",
     "output_type": "stream",
     "text": [
      "\r",
      " 64%|█████████████████████████▍              | 129/203 [21:18<11:55,  9.66s/it]"
     ]
    },
    {
     "name": "stdout",
     "output_type": "stream",
     "text": [
      "\n"
     ]
    },
    {
     "name": "stderr",
     "output_type": "stream",
     "text": [
      "\r",
      " 64%|█████████████████████████▌              | 130/203 [21:26<10:52,  8.94s/it]"
     ]
    },
    {
     "name": "stdout",
     "output_type": "stream",
     "text": [
      "\n"
     ]
    },
    {
     "name": "stderr",
     "output_type": "stream",
     "text": [
      "\r",
      " 65%|█████████████████████████▊              | 131/203 [21:36<11:09,  9.30s/it]"
     ]
    },
    {
     "name": "stdout",
     "output_type": "stream",
     "text": [
      "\n"
     ]
    },
    {
     "name": "stderr",
     "output_type": "stream",
     "text": [
      "\r",
      " 65%|██████████████████████████              | 132/203 [21:44<10:34,  8.94s/it]"
     ]
    },
    {
     "name": "stdout",
     "output_type": "stream",
     "text": [
      "\n"
     ]
    },
    {
     "name": "stderr",
     "output_type": "stream",
     "text": [
      "\r",
      " 66%|██████████████████████████▏             | 133/203 [21:53<10:27,  8.96s/it]"
     ]
    },
    {
     "name": "stdout",
     "output_type": "stream",
     "text": [
      "\n"
     ]
    },
    {
     "name": "stderr",
     "output_type": "stream",
     "text": [
      "\r",
      " 66%|██████████████████████████▍             | 134/203 [22:05<11:26,  9.94s/it]"
     ]
    },
    {
     "name": "stdout",
     "output_type": "stream",
     "text": [
      "\n"
     ]
    },
    {
     "name": "stderr",
     "output_type": "stream",
     "text": [
      "\r",
      " 67%|██████████████████████████▌             | 135/203 [22:15<11:25, 10.09s/it]"
     ]
    },
    {
     "name": "stdout",
     "output_type": "stream",
     "text": [
      "\n"
     ]
    },
    {
     "name": "stderr",
     "output_type": "stream",
     "text": [
      "\r",
      " 67%|██████████████████████████▊             | 136/203 [22:24<10:44,  9.63s/it]"
     ]
    },
    {
     "name": "stdout",
     "output_type": "stream",
     "text": [
      "\n"
     ]
    },
    {
     "name": "stderr",
     "output_type": "stream",
     "text": [
      "\r",
      " 67%|██████████████████████████▉             | 137/203 [22:36<11:15, 10.24s/it]"
     ]
    },
    {
     "name": "stdout",
     "output_type": "stream",
     "text": [
      "\n"
     ]
    },
    {
     "name": "stderr",
     "output_type": "stream",
     "text": [
      "\r",
      " 68%|███████████████████████████▏            | 138/203 [22:47<11:27, 10.57s/it]"
     ]
    },
    {
     "name": "stdout",
     "output_type": "stream",
     "text": [
      "\n"
     ]
    },
    {
     "name": "stderr",
     "output_type": "stream",
     "text": [
      "\r",
      " 68%|███████████████████████████▍            | 139/203 [23:10<15:20, 14.39s/it]"
     ]
    },
    {
     "name": "stdout",
     "output_type": "stream",
     "text": [
      "\n"
     ]
    },
    {
     "name": "stderr",
     "output_type": "stream",
     "text": [
      "\r",
      " 69%|███████████████████████████▌            | 140/203 [23:18<12:58, 12.35s/it]"
     ]
    },
    {
     "name": "stdout",
     "output_type": "stream",
     "text": [
      "\n"
     ]
    },
    {
     "name": "stderr",
     "output_type": "stream",
     "text": [
      "\r",
      " 69%|███████████████████████████▊            | 141/203 [23:32<13:22, 12.94s/it]"
     ]
    },
    {
     "name": "stdout",
     "output_type": "stream",
     "text": [
      "\n"
     ]
    },
    {
     "name": "stderr",
     "output_type": "stream",
     "text": [
      "\r",
      " 70%|███████████████████████████▉            | 142/203 [23:48<13:52, 13.64s/it]"
     ]
    },
    {
     "name": "stdout",
     "output_type": "stream",
     "text": [
      "\n"
     ]
    },
    {
     "name": "stderr",
     "output_type": "stream",
     "text": [
      "\r",
      " 70%|████████████████████████████▏           | 143/203 [23:54<11:24, 11.41s/it]"
     ]
    },
    {
     "name": "stdout",
     "output_type": "stream",
     "text": [
      "\n"
     ]
    },
    {
     "name": "stderr",
     "output_type": "stream",
     "text": [
      "\r",
      " 71%|████████████████████████████▎           | 144/203 [24:07<11:50, 12.04s/it]"
     ]
    },
    {
     "name": "stdout",
     "output_type": "stream",
     "text": [
      "\n"
     ]
    },
    {
     "name": "stderr",
     "output_type": "stream",
     "text": [
      "\r",
      " 71%|████████████████████████████▌           | 145/203 [24:24<12:57, 13.41s/it]"
     ]
    },
    {
     "name": "stdout",
     "output_type": "stream",
     "text": [
      "\n"
     ]
    },
    {
     "name": "stderr",
     "output_type": "stream",
     "text": [
      "\r",
      " 72%|████████████████████████████▊           | 146/203 [24:30<10:45, 11.32s/it]"
     ]
    },
    {
     "name": "stdout",
     "output_type": "stream",
     "text": [
      "\n"
     ]
    },
    {
     "name": "stderr",
     "output_type": "stream",
     "text": [
      "\r",
      " 72%|████████████████████████████▉           | 147/203 [24:44<11:16, 12.09s/it]"
     ]
    },
    {
     "name": "stdout",
     "output_type": "stream",
     "text": [
      "\n"
     ]
    },
    {
     "name": "stderr",
     "output_type": "stream",
     "text": [
      "\r",
      " 73%|█████████████████████████████▏          | 148/203 [24:52<09:50, 10.73s/it]"
     ]
    },
    {
     "name": "stdout",
     "output_type": "stream",
     "text": [
      "\n"
     ]
    },
    {
     "name": "stderr",
     "output_type": "stream",
     "text": [
      "\r",
      " 73%|█████████████████████████████▎          | 149/203 [24:59<08:51,  9.83s/it]"
     ]
    },
    {
     "name": "stdout",
     "output_type": "stream",
     "text": [
      "\n"
     ]
    },
    {
     "name": "stderr",
     "output_type": "stream",
     "text": [
      "\r",
      " 74%|█████████████████████████████▌          | 150/203 [25:07<08:05,  9.17s/it]"
     ]
    },
    {
     "name": "stdout",
     "output_type": "stream",
     "text": [
      "\n"
     ]
    },
    {
     "name": "stderr",
     "output_type": "stream",
     "text": [
      "\r",
      " 74%|█████████████████████████████▊          | 151/203 [25:14<07:16,  8.39s/it]"
     ]
    },
    {
     "name": "stdout",
     "output_type": "stream",
     "text": [
      "\n"
     ]
    },
    {
     "name": "stderr",
     "output_type": "stream",
     "text": [
      "\r",
      " 75%|█████████████████████████████▉          | 152/203 [25:26<08:07,  9.56s/it]"
     ]
    },
    {
     "name": "stdout",
     "output_type": "stream",
     "text": [
      "\n"
     ]
    },
    {
     "name": "stderr",
     "output_type": "stream",
     "text": [
      "\r",
      " 75%|██████████████████████████████▏         | 153/203 [25:48<11:02, 13.25s/it]"
     ]
    },
    {
     "name": "stdout",
     "output_type": "stream",
     "text": [
      "\n"
     ]
    },
    {
     "name": "stderr",
     "output_type": "stream",
     "text": [
      "\r",
      " 76%|██████████████████████████████▎         | 154/203 [25:57<09:46, 11.96s/it]"
     ]
    },
    {
     "name": "stdout",
     "output_type": "stream",
     "text": [
      "\n"
     ]
    },
    {
     "name": "stderr",
     "output_type": "stream",
     "text": [
      "\r",
      " 76%|██████████████████████████████▌         | 155/203 [26:06<08:48, 11.00s/it]"
     ]
    },
    {
     "name": "stdout",
     "output_type": "stream",
     "text": [
      "\n"
     ]
    },
    {
     "name": "stderr",
     "output_type": "stream",
     "text": [
      "\r",
      " 77%|██████████████████████████████▋         | 156/203 [26:12<07:31,  9.60s/it]"
     ]
    },
    {
     "name": "stdout",
     "output_type": "stream",
     "text": [
      "\n"
     ]
    },
    {
     "name": "stderr",
     "output_type": "stream",
     "text": [
      "\r",
      " 77%|██████████████████████████████▉         | 157/203 [26:18<06:36,  8.62s/it]"
     ]
    },
    {
     "name": "stdout",
     "output_type": "stream",
     "text": [
      "\n"
     ]
    },
    {
     "name": "stderr",
     "output_type": "stream",
     "text": [
      "\r",
      " 78%|███████████████████████████████▏        | 158/203 [26:29<06:54,  9.22s/it]"
     ]
    },
    {
     "name": "stdout",
     "output_type": "stream",
     "text": [
      "\n"
     ]
    },
    {
     "name": "stderr",
     "output_type": "stream",
     "text": [
      "\r",
      " 78%|███████████████████████████████▎        | 159/203 [26:35<06:12,  8.46s/it]"
     ]
    },
    {
     "name": "stdout",
     "output_type": "stream",
     "text": [
      "\n"
     ]
    },
    {
     "name": "stderr",
     "output_type": "stream",
     "text": [
      "\r",
      " 79%|███████████████████████████████▌        | 160/203 [26:46<06:26,  8.98s/it]"
     ]
    },
    {
     "name": "stdout",
     "output_type": "stream",
     "text": [
      "\n"
     ]
    },
    {
     "name": "stderr",
     "output_type": "stream",
     "text": [
      "\r",
      " 79%|███████████████████████████████▋        | 161/203 [26:55<06:21,  9.08s/it]"
     ]
    },
    {
     "name": "stdout",
     "output_type": "stream",
     "text": [
      "\n"
     ]
    },
    {
     "name": "stderr",
     "output_type": "stream",
     "text": [
      "\r",
      " 80%|███████████████████████████████▉        | 162/203 [27:02<05:41,  8.33s/it]"
     ]
    },
    {
     "name": "stdout",
     "output_type": "stream",
     "text": [
      "\n"
     ]
    },
    {
     "name": "stderr",
     "output_type": "stream",
     "text": [
      "\r",
      " 80%|████████████████████████████████        | 163/203 [27:10<05:28,  8.22s/it]"
     ]
    },
    {
     "name": "stdout",
     "output_type": "stream",
     "text": [
      "\n"
     ]
    },
    {
     "name": "stderr",
     "output_type": "stream",
     "text": [
      "\r",
      " 81%|████████████████████████████████▎       | 164/203 [27:19<05:32,  8.53s/it]"
     ]
    },
    {
     "name": "stdout",
     "output_type": "stream",
     "text": [
      "\n"
     ]
    },
    {
     "name": "stderr",
     "output_type": "stream",
     "text": [
      "\r",
      " 81%|████████████████████████████████▌       | 165/203 [27:25<05:00,  7.92s/it]"
     ]
    },
    {
     "name": "stdout",
     "output_type": "stream",
     "text": [
      "\n"
     ]
    },
    {
     "name": "stderr",
     "output_type": "stream",
     "text": [
      "\r",
      " 82%|████████████████████████████████▋       | 166/203 [27:32<04:36,  7.47s/it]"
     ]
    },
    {
     "name": "stdout",
     "output_type": "stream",
     "text": [
      "\n"
     ]
    },
    {
     "name": "stderr",
     "output_type": "stream",
     "text": [
      "\r",
      " 82%|████████████████████████████████▉       | 167/203 [27:46<05:40,  9.45s/it]"
     ]
    },
    {
     "name": "stdout",
     "output_type": "stream",
     "text": [
      "\n"
     ]
    },
    {
     "name": "stderr",
     "output_type": "stream",
     "text": [
      "\r",
      " 83%|█████████████████████████████████       | 168/203 [28:02<06:43, 11.54s/it]"
     ]
    },
    {
     "name": "stdout",
     "output_type": "stream",
     "text": [
      "\n"
     ]
    },
    {
     "name": "stderr",
     "output_type": "stream",
     "text": [
      "\r",
      " 83%|█████████████████████████████████▎      | 169/203 [28:18<07:13, 12.75s/it]"
     ]
    },
    {
     "name": "stdout",
     "output_type": "stream",
     "text": [
      "\n"
     ]
    },
    {
     "name": "stderr",
     "output_type": "stream",
     "text": [
      "\r",
      " 84%|█████████████████████████████████▍      | 170/203 [28:24<05:57, 10.83s/it]"
     ]
    },
    {
     "name": "stdout",
     "output_type": "stream",
     "text": [
      "\n"
     ]
    },
    {
     "name": "stderr",
     "output_type": "stream",
     "text": [
      "\r",
      " 84%|█████████████████████████████████▋      | 171/203 [28:39<06:28, 12.13s/it]"
     ]
    },
    {
     "name": "stdout",
     "output_type": "stream",
     "text": [
      "\n"
     ]
    },
    {
     "name": "stderr",
     "output_type": "stream",
     "text": [
      "\r",
      " 85%|█████████████████████████████████▉      | 172/203 [28:45<05:20, 10.32s/it]"
     ]
    },
    {
     "name": "stdout",
     "output_type": "stream",
     "text": [
      "\n"
     ]
    },
    {
     "name": "stderr",
     "output_type": "stream",
     "text": [
      "\r",
      " 85%|██████████████████████████████████      | 173/203 [28:52<04:33,  9.12s/it]"
     ]
    },
    {
     "name": "stdout",
     "output_type": "stream",
     "text": [
      "\n"
     ]
    },
    {
     "name": "stderr",
     "output_type": "stream",
     "text": [
      "\r",
      " 86%|██████████████████████████████████▎     | 174/203 [29:01<04:25,  9.15s/it]"
     ]
    },
    {
     "name": "stdout",
     "output_type": "stream",
     "text": [
      "\n"
     ]
    },
    {
     "name": "stderr",
     "output_type": "stream",
     "text": [
      "\r",
      " 86%|██████████████████████████████████▍     | 175/203 [29:11<04:26,  9.51s/it]"
     ]
    },
    {
     "name": "stdout",
     "output_type": "stream",
     "text": [
      "\n"
     ]
    },
    {
     "name": "stderr",
     "output_type": "stream",
     "text": [
      "\r",
      " 87%|██████████████████████████████████▋     | 176/203 [29:17<03:49,  8.51s/it]"
     ]
    },
    {
     "name": "stdout",
     "output_type": "stream",
     "text": [
      "\n"
     ]
    },
    {
     "name": "stderr",
     "output_type": "stream",
     "text": [
      "\r",
      " 87%|██████████████████████████████████▉     | 177/203 [29:31<04:19,  9.96s/it]"
     ]
    },
    {
     "name": "stdout",
     "output_type": "stream",
     "text": [
      "\n"
     ]
    },
    {
     "name": "stderr",
     "output_type": "stream",
     "text": [
      "\r",
      " 88%|███████████████████████████████████     | 178/203 [29:40<04:00,  9.60s/it]"
     ]
    },
    {
     "name": "stdout",
     "output_type": "stream",
     "text": [
      "\n"
     ]
    },
    {
     "name": "stderr",
     "output_type": "stream",
     "text": [
      "\r",
      " 88%|███████████████████████████████████▎    | 179/203 [29:51<04:06, 10.25s/it]"
     ]
    },
    {
     "name": "stdout",
     "output_type": "stream",
     "text": [
      "\n"
     ]
    },
    {
     "name": "stderr",
     "output_type": "stream",
     "text": [
      "\r",
      " 89%|███████████████████████████████████▍    | 180/203 [30:01<03:51, 10.08s/it]"
     ]
    },
    {
     "name": "stdout",
     "output_type": "stream",
     "text": [
      "\n"
     ]
    },
    {
     "name": "stderr",
     "output_type": "stream",
     "text": [
      "\r",
      " 89%|███████████████████████████████████▋    | 181/203 [30:15<04:04, 11.11s/it]"
     ]
    },
    {
     "name": "stdout",
     "output_type": "stream",
     "text": [
      "\n"
     ]
    },
    {
     "name": "stderr",
     "output_type": "stream",
     "text": [
      "\r",
      " 90%|███████████████████████████████████▊    | 182/203 [30:30<04:20, 12.40s/it]"
     ]
    },
    {
     "name": "stdout",
     "output_type": "stream",
     "text": [
      "\n"
     ]
    },
    {
     "name": "stderr",
     "output_type": "stream",
     "text": [
      "\r",
      " 90%|████████████████████████████████████    | 183/203 [30:40<03:56, 11.83s/it]"
     ]
    },
    {
     "name": "stdout",
     "output_type": "stream",
     "text": [
      "\n"
     ]
    },
    {
     "name": "stderr",
     "output_type": "stream",
     "text": [
      "\r",
      " 91%|████████████████████████████████████▎   | 184/203 [30:47<03:12, 10.14s/it]"
     ]
    },
    {
     "name": "stdout",
     "output_type": "stream",
     "text": [
      "\n"
     ]
    },
    {
     "name": "stderr",
     "output_type": "stream",
     "text": [
      "\r",
      " 91%|████████████████████████████████████▍   | 185/203 [30:59<03:12, 10.70s/it]"
     ]
    },
    {
     "name": "stdout",
     "output_type": "stream",
     "text": [
      "\n"
     ]
    },
    {
     "name": "stderr",
     "output_type": "stream",
     "text": [
      "\r",
      " 92%|████████████████████████████████████▋   | 186/203 [31:21<03:59, 14.10s/it]"
     ]
    },
    {
     "name": "stdout",
     "output_type": "stream",
     "text": [
      "\n"
     ]
    },
    {
     "name": "stderr",
     "output_type": "stream",
     "text": [
      "\r",
      " 92%|████████████████████████████████████▊   | 187/203 [31:27<03:07, 11.71s/it]"
     ]
    },
    {
     "name": "stdout",
     "output_type": "stream",
     "text": [
      "\n"
     ]
    },
    {
     "name": "stderr",
     "output_type": "stream",
     "text": [
      "\r",
      " 93%|█████████████████████████████████████   | 188/203 [31:39<02:58, 11.89s/it]"
     ]
    },
    {
     "name": "stdout",
     "output_type": "stream",
     "text": [
      "\n"
     ]
    },
    {
     "name": "stderr",
     "output_type": "stream",
     "text": [
      "\r",
      " 93%|█████████████████████████████████████▏  | 189/203 [31:46<02:23, 10.26s/it]"
     ]
    },
    {
     "name": "stdout",
     "output_type": "stream",
     "text": [
      "\n"
     ]
    },
    {
     "name": "stderr",
     "output_type": "stream",
     "text": [
      "\r",
      " 94%|█████████████████████████████████████▍  | 190/203 [31:53<02:02,  9.41s/it]"
     ]
    },
    {
     "name": "stdout",
     "output_type": "stream",
     "text": [
      "\n"
     ]
    },
    {
     "name": "stderr",
     "output_type": "stream",
     "text": [
      "\r",
      " 94%|█████████████████████████████████████▋  | 191/203 [32:11<02:23, 11.96s/it]"
     ]
    },
    {
     "name": "stdout",
     "output_type": "stream",
     "text": [
      "\n"
     ]
    },
    {
     "name": "stderr",
     "output_type": "stream",
     "text": [
      "\r",
      " 95%|█████████████████████████████████████▊  | 192/203 [32:22<02:09, 11.75s/it]"
     ]
    },
    {
     "name": "stdout",
     "output_type": "stream",
     "text": [
      "\n"
     ]
    },
    {
     "name": "stderr",
     "output_type": "stream",
     "text": [
      "\r",
      " 95%|██████████████████████████████████████  | 193/203 [32:51<02:49, 16.91s/it]"
     ]
    },
    {
     "name": "stdout",
     "output_type": "stream",
     "text": [
      "\n"
     ]
    },
    {
     "name": "stderr",
     "output_type": "stream",
     "text": [
      "\r",
      " 96%|██████████████████████████████████████▏ | 194/203 [33:08<02:32, 16.91s/it]"
     ]
    },
    {
     "name": "stdout",
     "output_type": "stream",
     "text": [
      "\n"
     ]
    },
    {
     "name": "stderr",
     "output_type": "stream",
     "text": [
      "\r",
      " 96%|██████████████████████████████████████▍ | 195/203 [33:34<02:37, 19.73s/it]"
     ]
    },
    {
     "name": "stdout",
     "output_type": "stream",
     "text": [
      "\n"
     ]
    },
    {
     "name": "stderr",
     "output_type": "stream",
     "text": [
      "\r",
      " 97%|██████████████████████████████████████▌ | 196/203 [33:41<01:49, 15.67s/it]"
     ]
    },
    {
     "name": "stdout",
     "output_type": "stream",
     "text": [
      "\n"
     ]
    },
    {
     "name": "stderr",
     "output_type": "stream",
     "text": [
      "\r",
      " 97%|██████████████████████████████████████▊ | 197/203 [33:47<01:17, 12.91s/it]"
     ]
    },
    {
     "name": "stdout",
     "output_type": "stream",
     "text": [
      "\n"
     ]
    },
    {
     "name": "stderr",
     "output_type": "stream",
     "text": [
      "\r",
      " 98%|███████████████████████████████████████ | 198/203 [34:23<01:39, 19.96s/it]"
     ]
    },
    {
     "name": "stdout",
     "output_type": "stream",
     "text": [
      "\n"
     ]
    },
    {
     "name": "stderr",
     "output_type": "stream",
     "text": [
      "\r",
      " 98%|███████████████████████████████████████▏| 199/203 [35:15<01:57, 29.43s/it]"
     ]
    },
    {
     "name": "stdout",
     "output_type": "stream",
     "text": [
      "\n"
     ]
    },
    {
     "name": "stderr",
     "output_type": "stream",
     "text": [
      "\r",
      " 99%|███████████████████████████████████████▍| 200/203 [35:36<01:20, 26.84s/it]"
     ]
    },
    {
     "name": "stdout",
     "output_type": "stream",
     "text": [
      "\n"
     ]
    },
    {
     "name": "stderr",
     "output_type": "stream",
     "text": [
      "\r",
      " 99%|███████████████████████████████████████▌| 201/203 [36:16<01:01, 30.84s/it]"
     ]
    },
    {
     "name": "stdout",
     "output_type": "stream",
     "text": [
      "\n"
     ]
    },
    {
     "name": "stderr",
     "output_type": "stream",
     "text": [
      "\r",
      "100%|███████████████████████████████████████▊| 202/203 [37:09<00:37, 37.41s/it]"
     ]
    },
    {
     "name": "stdout",
     "output_type": "stream",
     "text": [
      "\n"
     ]
    },
    {
     "name": "stderr",
     "output_type": "stream",
     "text": [
      "100%|████████████████████████████████████████| 203/203 [37:43<00:00, 11.15s/it]\n"
     ]
    }
   ],
   "source": [
    "disease_info = {\n",
    "    'disease': [],\n",
    "    'link': [],\n",
    "    'overview': [],\n",
    "    'symptoms': [],\n",
    "    'remedies': [],\n",
    "}\n",
    "\n",
    "for name, link in tqdm(df.to_numpy()):\n",
    "    scrape_remedies(name, link)"
   ]
  },
  {
   "cell_type": "code",
   "execution_count": 13,
   "id": "c7935f9f",
   "metadata": {},
   "outputs": [
    {
     "data": {
      "text/html": [
       "<div>\n",
       "<style scoped>\n",
       "    .dataframe tbody tr th:only-of-type {\n",
       "        vertical-align: middle;\n",
       "    }\n",
       "\n",
       "    .dataframe tbody tr th {\n",
       "        vertical-align: top;\n",
       "    }\n",
       "\n",
       "    .dataframe thead th {\n",
       "        text-align: right;\n",
       "    }\n",
       "</style>\n",
       "<table border=\"1\" class=\"dataframe\">\n",
       "  <thead>\n",
       "    <tr style=\"text-align: right;\">\n",
       "      <th></th>\n",
       "      <th>disease</th>\n",
       "      <th>link</th>\n",
       "      <th>overview</th>\n",
       "      <th>symptoms</th>\n",
       "      <th>remedies</th>\n",
       "    </tr>\n",
       "  </thead>\n",
       "  <tbody>\n",
       "    <tr>\n",
       "      <th>0</th>\n",
       "      <td>Tennis elbow</td>\n",
       "      <td>https://www.mayoclinic.org/diseases-conditions...</td>\n",
       "      <td>Tennis elbow (lateral epicondylitis) is a pain...</td>\n",
       "      <td>[Shake hands or grip an object, Turn a doorkno...</td>\n",
       "      <td>[Rest. Avoid activities that aggravate your el...</td>\n",
       "    </tr>\n",
       "    <tr>\n",
       "      <th>1</th>\n",
       "      <td>Tenosynovitis, de Quervain's, also known as\\nD...</td>\n",
       "      <td>https://www.mayoclinic.org/diseases-conditions...</td>\n",
       "      <td>De Quervain tenosynovitis (dih-kwer-VAIN ten-o...</td>\n",
       "      <td>[Pain near the base of the thumb, Swelling nea...</td>\n",
       "      <td>[Avoid moving your wrists the same way repeate...</td>\n",
       "    </tr>\n",
       "    <tr>\n",
       "      <th>2</th>\n",
       "      <td>Tension headache</td>\n",
       "      <td>https://www.mayoclinic.org/diseases-conditions...</td>\n",
       "      <td>A tension-type headache (TTH) is generally a m...</td>\n",
       "      <td>[Dull, aching head pain, Sensation of tightnes...</td>\n",
       "      <td>[Manage your stress level. One way to help red...</td>\n",
       "    </tr>\n",
       "    <tr>\n",
       "      <th>3</th>\n",
       "      <td>Testicle, retractile, also known as\\nRetractil...</td>\n",
       "      <td>https://www.mayoclinic.org/diseases-conditions...</td>\n",
       "      <td>A retractile testicle is a testicle that may m...</td>\n",
       "      <td>[The testicle may be moved by hand from the gr...</td>\n",
       "      <td>[]</td>\n",
       "    </tr>\n",
       "    <tr>\n",
       "      <th>4</th>\n",
       "      <td>Testicle, undescended, also known as\\nUndescen...</td>\n",
       "      <td>https://www.mayoclinic.org/diseases-conditions...</td>\n",
       "      <td>An undescended testicle (cryptorchidism) is a ...</td>\n",
       "      <td>[A retractile testicle, which moves back and f...</td>\n",
       "      <td>[Teach your son the right words to use when ta...</td>\n",
       "    </tr>\n",
       "    <tr>\n",
       "      <th>...</th>\n",
       "      <td>...</td>\n",
       "      <td>...</td>\n",
       "      <td>...</td>\n",
       "      <td>...</td>\n",
       "      <td>...</td>\n",
       "    </tr>\n",
       "    <tr>\n",
       "      <th>198</th>\n",
       "      <td>Yersinia pestis, also known as\\nPlague</td>\n",
       "      <td>https://www.mayoclinic.org/diseases-conditions...</td>\n",
       "      <td>Plague is a serious bacterial infection that's...</td>\n",
       "      <td>[Situated in the groin, armpit or neck, About ...</td>\n",
       "      <td>[]</td>\n",
       "    </tr>\n",
       "    <tr>\n",
       "      <th>199</th>\n",
       "      <td>Yips</td>\n",
       "      <td>https://www.mayoclinic.org/diseases-conditions...</td>\n",
       "      <td>The yips are involuntary wrist spasms that occ...</td>\n",
       "      <td>[Older age, More experience playing golf, Tour...</td>\n",
       "      <td>[]</td>\n",
       "    </tr>\n",
       "    <tr>\n",
       "      <th>200</th>\n",
       "      <td>Zika virus</td>\n",
       "      <td>https://www.mayoclinic.org/diseases-conditions...</td>\n",
       "      <td>The Zika (ZEE-kuh) virus is most often spread ...</td>\n",
       "      <td>[Mild fever, Rash, Joint pain, particularly in...</td>\n",
       "      <td>[]</td>\n",
       "    </tr>\n",
       "    <tr>\n",
       "      <th>201</th>\n",
       "      <td>Zollinger-Ellison syndrome</td>\n",
       "      <td>https://www.mayoclinic.org/diseases-conditions...</td>\n",
       "      <td>Zollinger-Ellison syndrome is a rare condition...</td>\n",
       "      <td>[Abdominal pain, Diarrhea, Burning, aching, gn...</td>\n",
       "      <td>[]</td>\n",
       "    </tr>\n",
       "    <tr>\n",
       "      <th>202</th>\n",
       "      <td>Zoster, also known as\\nShingles</td>\n",
       "      <td>https://www.mayoclinic.org/diseases-conditions...</td>\n",
       "      <td>Shingles is a viral infection that causes a pa...</td>\n",
       "      <td>[Pain, burning or tingling, Sensitivity to tou...</td>\n",
       "      <td>[Your symptoms, including any that seem unrela...</td>\n",
       "    </tr>\n",
       "  </tbody>\n",
       "</table>\n",
       "<p>203 rows × 5 columns</p>\n",
       "</div>"
      ],
      "text/plain": [
       "                                               disease  \\\n",
       "0                                         Tennis elbow   \n",
       "1    Tenosynovitis, de Quervain's, also known as\\nD...   \n",
       "2                                     Tension headache   \n",
       "3    Testicle, retractile, also known as\\nRetractil...   \n",
       "4    Testicle, undescended, also known as\\nUndescen...   \n",
       "..                                                 ...   \n",
       "198             Yersinia pestis, also known as\\nPlague   \n",
       "199                                               Yips   \n",
       "200                                         Zika virus   \n",
       "201                         Zollinger-Ellison syndrome   \n",
       "202                    Zoster, also known as\\nShingles   \n",
       "\n",
       "                                                  link  \\\n",
       "0    https://www.mayoclinic.org/diseases-conditions...   \n",
       "1    https://www.mayoclinic.org/diseases-conditions...   \n",
       "2    https://www.mayoclinic.org/diseases-conditions...   \n",
       "3    https://www.mayoclinic.org/diseases-conditions...   \n",
       "4    https://www.mayoclinic.org/diseases-conditions...   \n",
       "..                                                 ...   \n",
       "198  https://www.mayoclinic.org/diseases-conditions...   \n",
       "199  https://www.mayoclinic.org/diseases-conditions...   \n",
       "200  https://www.mayoclinic.org/diseases-conditions...   \n",
       "201  https://www.mayoclinic.org/diseases-conditions...   \n",
       "202  https://www.mayoclinic.org/diseases-conditions...   \n",
       "\n",
       "                                              overview  \\\n",
       "0    Tennis elbow (lateral epicondylitis) is a pain...   \n",
       "1    De Quervain tenosynovitis (dih-kwer-VAIN ten-o...   \n",
       "2    A tension-type headache (TTH) is generally a m...   \n",
       "3    A retractile testicle is a testicle that may m...   \n",
       "4    An undescended testicle (cryptorchidism) is a ...   \n",
       "..                                                 ...   \n",
       "198  Plague is a serious bacterial infection that's...   \n",
       "199  The yips are involuntary wrist spasms that occ...   \n",
       "200  The Zika (ZEE-kuh) virus is most often spread ...   \n",
       "201  Zollinger-Ellison syndrome is a rare condition...   \n",
       "202  Shingles is a viral infection that causes a pa...   \n",
       "\n",
       "                                              symptoms  \\\n",
       "0    [Shake hands or grip an object, Turn a doorkno...   \n",
       "1    [Pain near the base of the thumb, Swelling nea...   \n",
       "2    [Dull, aching head pain, Sensation of tightnes...   \n",
       "3    [The testicle may be moved by hand from the gr...   \n",
       "4    [A retractile testicle, which moves back and f...   \n",
       "..                                                 ...   \n",
       "198  [Situated in the groin, armpit or neck, About ...   \n",
       "199  [Older age, More experience playing golf, Tour...   \n",
       "200  [Mild fever, Rash, Joint pain, particularly in...   \n",
       "201  [Abdominal pain, Diarrhea, Burning, aching, gn...   \n",
       "202  [Pain, burning or tingling, Sensitivity to tou...   \n",
       "\n",
       "                                              remedies  \n",
       "0    [Rest. Avoid activities that aggravate your el...  \n",
       "1    [Avoid moving your wrists the same way repeate...  \n",
       "2    [Manage your stress level. One way to help red...  \n",
       "3                                                   []  \n",
       "4    [Teach your son the right words to use when ta...  \n",
       "..                                                 ...  \n",
       "198                                                 []  \n",
       "199                                                 []  \n",
       "200                                                 []  \n",
       "201                                                 []  \n",
       "202  [Your symptoms, including any that seem unrela...  \n",
       "\n",
       "[203 rows x 5 columns]"
      ]
     },
     "execution_count": 13,
     "metadata": {},
     "output_type": "execute_result"
    }
   ],
   "source": [
    "pd.DataFrame.from_dict(disease_info, orient='index').T"
   ]
  },
  {
   "cell_type": "code",
   "execution_count": 14,
   "id": "f55bd665",
   "metadata": {},
   "outputs": [],
   "source": [
    "pd.DataFrame.from_dict(disease_info, orient='index').T.to_csv('mayo disease remedies 4.csv')"
   ]
  },
  {
   "cell_type": "code",
   "execution_count": 5,
   "id": "5e98c357",
   "metadata": {},
   "outputs": [],
   "source": [
    "df = pd.concat([\n",
    "    pd.read_csv('mayo disease remedies 1.csv', index_col=0),\n",
    "    pd.read_csv('mayo disease remedies 2.csv', index_col=0),\n",
    "    pd.read_csv('mayo disease remedies 3.csv', index_col=0),\n",
    "    pd.read_csv('mayo disease remedies 4.csv', index_col=0)\n",
    "])"
   ]
  },
  {
   "cell_type": "code",
   "execution_count": 6,
   "id": "9463fe02",
   "metadata": {},
   "outputs": [],
   "source": [
    "df.to_csv('mayo data.csv')"
   ]
  },
  {
   "cell_type": "code",
   "execution_count": null,
   "id": "da25e552",
   "metadata": {},
   "outputs": [],
   "source": []
  },
  {
   "cell_type": "code",
   "execution_count": null,
   "id": "dd783b11",
   "metadata": {},
   "outputs": [],
   "source": []
  },
  {
   "cell_type": "code",
   "execution_count": null,
   "id": "793e26b8",
   "metadata": {},
   "outputs": [],
   "source": []
  }
 ],
 "metadata": {
  "kernelspec": {
   "display_name": "Python 3 (ipykernel)",
   "language": "python",
   "name": "python3"
  },
  "language_info": {
   "codemirror_mode": {
    "name": "ipython",
    "version": 3
   },
   "file_extension": ".py",
   "mimetype": "text/x-python",
   "name": "python",
   "nbconvert_exporter": "python",
   "pygments_lexer": "ipython3",
   "version": "3.10.8"
  }
 },
 "nbformat": 4,
 "nbformat_minor": 5
}
