{
 "cells": [
  {
   "cell_type": "markdown",
   "id": "045acc24",
   "metadata": {},
   "source": [
    "https://www.earthclinic.com/ailments.html"
   ]
  },
  {
   "cell_type": "code",
   "execution_count": 2,
   "id": "4d4f5618",
   "metadata": {},
   "outputs": [],
   "source": [
    "import os\n",
    "import time\n",
    "import pandas as pd\n",
    "from tqdm import tqdm\n",
    "\n",
    "from selenium import webdriver\n",
    "from selenium.webdriver.common.by import By\n",
    "from selenium.webdriver.chrome.options import Options\n",
    "\n",
    "from webdriver_manager.chrome import ChromeDriverManager"
   ]
  },
  {
   "cell_type": "code",
   "execution_count": 95,
   "id": "b7990dab",
   "metadata": {},
   "outputs": [],
   "source": [
    "options = Options()\n",
    "options.add_argument(\"--headless\")\n",
    "options.add_argument(\"--disable-gpu\")\n",
    "options.add_argument(\"--no-sandbox\")\n",
    "options.add_argument(\"enable-automation\")\n",
    "options.add_argument(\"--disable-infobars\")\n",
    "options.add_argument(\"--disable-dev-shm-usage\")\n",
    "options.binary_location = os.environ.get(\"GOOGLE_CHROME_BIN\")"
   ]
  },
  {
   "cell_type": "code",
   "execution_count": 96,
   "id": "bd2263a5",
   "metadata": {},
   "outputs": [],
   "source": [
    "def scrape_disease_names():\n",
    "    diseases = {\n",
    "        'disease': [],\n",
    "        'link': [],\n",
    "    }\n",
    "\n",
    "    driver = webdriver.Chrome(\n",
    "        ChromeDriverManager().install(),\n",
    "        options=options\n",
    "    )\n",
    "\n",
    "    driver.get(\"https://www.earthclinic.com/ailments.html\")\n",
    "\n",
    "    buttons = driver.find_elements(By.CLASS_NAME, 'bd-linkbutton-3')\n",
    "\n",
    "    for but in tqdm(buttons):\n",
    "        try:\n",
    "            diseases['disease'].append(but.text.lower())\n",
    "            diseases['link'].append(but.get_attribute(\"href\"))\n",
    "        except:\n",
    "            diseases['link'].append('')\n",
    "\n",
    "    return diseases"
   ]
  },
  {
   "cell_type": "code",
   "execution_count": 97,
   "id": "c7d166d9",
   "metadata": {},
   "outputs": [],
   "source": [
    "# disease_links = scrape_disease_names()"
   ]
  },
  {
   "cell_type": "code",
   "execution_count": 98,
   "id": "d2512ebc",
   "metadata": {},
   "outputs": [],
   "source": [
    "# pd.DataFrame(disease_links).to_csv('earthclinic_disease_links.csv', index=False)"
   ]
  },
  {
   "cell_type": "code",
   "execution_count": 100,
   "id": "4835da7b",
   "metadata": {},
   "outputs": [],
   "source": [
    "df = pd.DataFrame(disease_links).drop_duplicates()"
   ]
  },
  {
   "cell_type": "code",
   "execution_count": 108,
   "id": "86449de4",
   "metadata": {},
   "outputs": [],
   "source": [
    "def scrape_diseases(links):\n",
    "    diseases = {\n",
    "        'disease': [],\n",
    "        'link': [],\n",
    "        'data': []\n",
    "    }\n",
    "\n",
    "    driver = webdriver.Chrome(\n",
    "        ChromeDriverManager().install(),\n",
    "        options=options\n",
    "    )\n",
    "\n",
    "    for i, j in tqdm(links):\n",
    "        diseases['disease'].append(i)\n",
    "        diseases['link'].append(j)\n",
    "\n",
    "        driver.get(j)\n",
    "\n",
    "        try:\n",
    "            overview = driver.find_element(By.XPATH, '/html/body/div[1]/div[2]/div/div/section[1]/div/div/div/div/div/div[2]/div/div/div[3]/div[1]/div')\n",
    "            diseases['data'].append(overview.text)\n",
    "        except:\n",
    "            diseases['data'].append('')\n",
    "\n",
    "    return diseases"
   ]
  },
  {
   "cell_type": "code",
   "execution_count": 109,
   "id": "ed76d608",
   "metadata": {},
   "outputs": [
    {
     "name": "stdout",
     "output_type": "stream",
     "text": [
      "\n"
     ]
    },
    {
     "name": "stderr",
     "output_type": "stream",
     "text": [
      "C:\\Users\\ikath\\AppData\\Local\\Temp\\ipykernel_2332\\595859354.py:8: DeprecationWarning: executable_path has been deprecated, please pass in a Service object\n",
      "  driver = webdriver.Chrome(\n",
      "100%|██████████████████████████████████████| 1265/1265 [50:40<00:00,  2.40s/it]\n"
     ]
    }
   ],
   "source": [
    "disease_data = scrape_diseases(df.values)"
   ]
  },
  {
   "cell_type": "code",
   "execution_count": 110,
   "id": "661d6fe9",
   "metadata": {},
   "outputs": [],
   "source": [
    "pd.DataFrame(disease_data).to_csv('earthclinic_disease_data.csv', index=False)"
   ]
  },
  {
   "cell_type": "code",
   "execution_count": null,
   "id": "effd4690",
   "metadata": {},
   "outputs": [],
   "source": []
  },
  {
   "cell_type": "code",
   "execution_count": null,
   "id": "c02f7b6f",
   "metadata": {},
   "outputs": [],
   "source": []
  }
 ],
 "metadata": {
  "kernelspec": {
   "display_name": "Python 3 (ipykernel)",
   "language": "python",
   "name": "python3"
  },
  "language_info": {
   "codemirror_mode": {
    "name": "ipython",
    "version": 3
   },
   "file_extension": ".py",
   "mimetype": "text/x-python",
   "name": "python",
   "nbconvert_exporter": "python",
   "pygments_lexer": "ipython3",
   "version": "3.10.8"
  }
 },
 "nbformat": 4,
 "nbformat_minor": 5
}
